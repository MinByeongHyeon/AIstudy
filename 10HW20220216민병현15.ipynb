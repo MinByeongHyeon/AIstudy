{
 "cells": [
  {
   "cell_type": "code",
   "execution_count": 1,
   "id": "67d15aa5",
   "metadata": {},
   "outputs": [],
   "source": [
    "# 516\n",
    "x = [1, 2, 3, 4] \n",
    "y = tuple(x) \n",
    "#c"
   ]
  },
  {
   "cell_type": "code",
   "execution_count": 2,
   "id": "955b35fc",
   "metadata": {},
   "outputs": [],
   "source": [
    "# 517\n",
    "x = [1, 2, 3, 4] \n",
    "y = tuple(x) \n",
    "z = list(y) \n",
    "#d"
   ]
  },
  {
   "cell_type": "code",
   "execution_count": 3,
   "id": "4cbe1356",
   "metadata": {},
   "outputs": [
    {
     "name": "stdout",
     "output_type": "stream",
     "text": [
      "['P', 'y', 't', 'h', 'o', 'n']\n"
     ]
    }
   ],
   "source": [
    "# 518\n",
    "x = 'Python' \n",
    "y= list(x) \n",
    "print(y) \n",
    "#d"
   ]
  },
  {
   "cell_type": "code",
   "execution_count": 4,
   "id": "84ee8a59",
   "metadata": {},
   "outputs": [
    {
     "name": "stdout",
     "output_type": "stream",
     "text": [
      "('P', 'y', 't', 'h', 'o', 'n')\n"
     ]
    }
   ],
   "source": [
    "# 519\n",
    "x = 'Python' \n",
    "y = tuple(x) \n",
    "print(y) \n",
    "#c"
   ]
  },
  {
   "cell_type": "code",
   "execution_count": 5,
   "id": "dea29497",
   "metadata": {},
   "outputs": [
    {
     "name": "stdout",
     "output_type": "stream",
     "text": [
      "Python\n"
     ]
    }
   ],
   "source": [
    "# 520\n",
    "x = ('Python')\n",
    "print(x)\n",
    "#b"
   ]
  },
  {
   "cell_type": "code",
   "execution_count": 6,
   "id": "930456fc",
   "metadata": {},
   "outputs": [
    {
     "name": "stdout",
     "output_type": "stream",
     "text": [
      "('Python',)\n"
     ]
    }
   ],
   "source": [
    "# 521\n",
    "x = ('Python',) \n",
    "print(x) \n",
    "#a"
   ]
  },
  {
   "cell_type": "code",
   "execution_count": 7,
   "id": "86abfe0e",
   "metadata": {},
   "outputs": [
    {
     "name": "stdout",
     "output_type": "stream",
     "text": [
      "(0, 2, 4, 6)\n"
     ]
    }
   ],
   "source": [
    "# 522\n",
    "x = [0, 2, 4, 6] \n",
    "print(tuple(x)) \n",
    "#b"
   ]
  },
  {
   "cell_type": "code",
   "execution_count": 8,
   "id": "8e25e886",
   "metadata": {},
   "outputs": [
    {
     "name": "stdout",
     "output_type": "stream",
     "text": [
      "[0, 2, 4, 6]\n"
     ]
    }
   ],
   "source": [
    "# 523\n",
    "x = (0, 2, 4, 6) \n",
    "print(list(x))\n",
    "#a"
   ]
  },
  {
   "cell_type": "code",
   "execution_count": 9,
   "id": "e7e011a7",
   "metadata": {},
   "outputs": [
    {
     "name": "stdout",
     "output_type": "stream",
     "text": [
      "['P', 'y', 't', 'h', 'o', 'n']\n"
     ]
    }
   ],
   "source": [
    "# 524\n",
    "x = 'Python' \n",
    "print(list(x)) \n",
    "#c"
   ]
  },
  {
   "cell_type": "code",
   "execution_count": 10,
   "id": "d792cd1a",
   "metadata": {},
   "outputs": [
    {
     "name": "stdout",
     "output_type": "stream",
     "text": [
      "('P', 'y', 't', 'h', 'o', 'n')\n"
     ]
    }
   ],
   "source": [
    "# 525\n",
    "x = 'Python' \n",
    "print(tuple(x))\n",
    "#a"
   ]
  },
  {
   "cell_type": "code",
   "execution_count": 11,
   "id": "e54a397f",
   "metadata": {},
   "outputs": [
    {
     "name": "stdout",
     "output_type": "stream",
     "text": [
      "[4, 6, 7, 8, 9]\n"
     ]
    }
   ],
   "source": [
    "# 526\n",
    "x = [4, 5, 7, 8, 9] \n",
    "y = x \n",
    "y[1] = 6 \n",
    "print(y) \n",
    "#c"
   ]
  },
  {
   "cell_type": "code",
   "execution_count": 12,
   "id": "b59d975d",
   "metadata": {},
   "outputs": [
    {
     "name": "stdout",
     "output_type": "stream",
     "text": [
      "[4, 6, 7, 8, 9]\n"
     ]
    }
   ],
   "source": [
    "# 527\n",
    "x = [4, 5, 7, 8, 9] \n",
    "y = x \n",
    "y[1] = 6 \n",
    "print(x) \n",
    "#c"
   ]
  },
  {
   "cell_type": "code",
   "execution_count": 13,
   "id": "35adf699",
   "metadata": {},
   "outputs": [
    {
     "name": "stdout",
     "output_type": "stream",
     "text": [
      "[4, 6, 7, 8, 9, 44]\n"
     ]
    }
   ],
   "source": [
    "# 528\n",
    "def abc(z): \n",
    "    z.append(44) \n",
    "    x = [7, 8, 9] \n",
    "abc(x) \n",
    "print(x) \n",
    "#b"
   ]
  },
  {
   "cell_type": "code",
   "execution_count": 14,
   "id": "34446dfe",
   "metadata": {},
   "outputs": [
    {
     "name": "stdout",
     "output_type": "stream",
     "text": [
      "1\n"
     ]
    }
   ],
   "source": [
    "# 529\n",
    "import copy \n",
    "x = [5, 4, 3, 2, 1] \n",
    "y = copy.copy(x) \n",
    "x.append(6) \n",
    "print(y[-1]) \n",
    "#d\n"
   ]
  },
  {
   "cell_type": "code",
   "execution_count": 15,
   "id": "69ceb441",
   "metadata": {},
   "outputs": [
    {
     "name": "stdout",
     "output_type": "stream",
     "text": [
      "3\n"
     ]
    }
   ],
   "source": [
    "# 530\n",
    "import copy \n",
    "x = [5, 4, 3, 2, 1] \n",
    "y = copy.copy(x) \n",
    "x[2] = 6 \n",
    "print(y[2]) \n",
    "#a"
   ]
  },
  {
   "cell_type": "code",
   "execution_count": 16,
   "id": "3db227e0",
   "metadata": {},
   "outputs": [
    {
     "name": "stdout",
     "output_type": "stream",
     "text": [
      "[[5, 4, 6, 2, 1], [7, 8, 9]]\n"
     ]
    }
   ],
   "source": [
    "# 531\n",
    "import copy \n",
    "x = [5, 4, 3, 2, 1]\n",
    "y = [7, 8, 9] \n",
    "z = [x, y] \n",
    "a = copy.copy(z) \n",
    "x[2] = 6 \n",
    "print(a) \n",
    "#b"
   ]
  },
  {
   "cell_type": "code",
   "execution_count": 17,
   "id": "580fad65",
   "metadata": {},
   "outputs": [
    {
     "name": "stdout",
     "output_type": "stream",
     "text": [
      "[[5, 4, 3, 2, 1], [7, 8, 9]]\n"
     ]
    }
   ],
   "source": [
    "# 532\n",
    "import copy \n",
    "x = [5, 4, 3, 2, 1] \n",
    "y = [7, 8, 9] \n",
    "z = [x, y] \n",
    "a = copy.deepcopy(z) \n",
    "x[2] = 6 \n",
    "print(a) \n",
    "#a"
   ]
  },
  {
   "cell_type": "code",
   "execution_count": 18,
   "id": "e8a20060",
   "metadata": {},
   "outputs": [
    {
     "ename": "KeyError",
     "evalue": "'year'",
     "output_type": "error",
     "traceback": [
      "\u001b[1;31m---------------------------------------------------------------------------\u001b[0m",
      "\u001b[1;31mKeyError\u001b[0m                                  Traceback (most recent call last)",
      "\u001b[1;32m~\\AppData\\Local\\Temp/ipykernel_12436/3655558005.py\u001b[0m in \u001b[0;36m<module>\u001b[1;34m\u001b[0m\n\u001b[0;32m      1\u001b[0m \u001b[1;31m# 533\u001b[0m\u001b[1;33m\u001b[0m\u001b[1;33m\u001b[0m\u001b[0m\n\u001b[0;32m      2\u001b[0m \u001b[0mx\u001b[0m \u001b[1;33m=\u001b[0m \u001b[1;33m{\u001b[0m\u001b[1;34m'day'\u001b[0m\u001b[1;33m:\u001b[0m\u001b[1;34m'Sunday'\u001b[0m\u001b[1;33m,\u001b[0m \u001b[1;34m'week'\u001b[0m\u001b[1;33m:\u001b[0m\u001b[1;36m10\u001b[0m\u001b[1;33m}\u001b[0m\u001b[1;33m\u001b[0m\u001b[1;33m\u001b[0m\u001b[0m\n\u001b[1;32m----> 3\u001b[1;33m \u001b[0mprint\u001b[0m\u001b[1;33m(\u001b[0m\u001b[0mx\u001b[0m\u001b[1;33m[\u001b[0m\u001b[1;34m'year'\u001b[0m\u001b[1;33m]\u001b[0m\u001b[1;33m)\u001b[0m\u001b[1;33m\u001b[0m\u001b[1;33m\u001b[0m\u001b[0m\n\u001b[0m\u001b[0;32m      4\u001b[0m \u001b[1;31m#b\u001b[0m\u001b[1;33m\u001b[0m\u001b[1;33m\u001b[0m\u001b[0m\n",
      "\u001b[1;31mKeyError\u001b[0m: 'year'"
     ]
    }
   ],
   "source": [
    "# 533\n",
    "x = {'day':'Sunday', 'week':10} \n",
    "print(x['year']) \n",
    "#b"
   ]
  },
  {
   "cell_type": "code",
   "execution_count": 19,
   "id": "15ead5c8",
   "metadata": {},
   "outputs": [
    {
     "name": "stdout",
     "output_type": "stream",
     "text": [
      "Sunday 10 "
     ]
    }
   ],
   "source": [
    "# 534\n",
    "x = {'day':'Sunday', 'week':10} \n",
    "for i in x.values(): \n",
    "    print(i, end=' ') \n",
    "#a"
   ]
  },
  {
   "cell_type": "code",
   "execution_count": 20,
   "id": "0e11cb67",
   "metadata": {},
   "outputs": [
    {
     "name": "stdout",
     "output_type": "stream",
     "text": [
      "day week "
     ]
    }
   ],
   "source": [
    "# 535\n",
    "x = {'day':'Sunday', 'week':10}\n",
    "for i in x: \n",
    "    print(i, end=' ') \n",
    "#b"
   ]
  },
  {
   "cell_type": "code",
   "execution_count": null,
   "id": "d7f05721",
   "metadata": {},
   "outputs": [],
   "source": []
  },
  {
   "cell_type": "code",
   "execution_count": 22,
   "id": "81c6b26d",
   "metadata": {},
   "outputs": [
    {
     "name": "stdout",
     "output_type": "stream",
     "text": [
      "입력하시오: 3\n",
      "정수입니다.\n"
     ]
    }
   ],
   "source": [
    "try:\n",
    "    n = eval(input(\"입력하시오: \"))\n",
    "    if n - int(n):\n",
    "        print(\"소수입니다.\")\n",
    "    else:\n",
    "        print(\"정수입니다.\")\n",
    "except:\n",
    "    print('math error')"
   ]
  },
  {
   "cell_type": "code",
   "execution_count": null,
   "id": "6ead058e",
   "metadata": {},
   "outputs": [],
   "source": []
  },
  {
   "cell_type": "code",
   "execution_count": null,
   "id": "48149c2e",
   "metadata": {},
   "outputs": [],
   "source": []
  }
 ],
 "metadata": {
  "kernelspec": {
   "display_name": "Python 3 (ipykernel)",
   "language": "python",
   "name": "python3"
  },
  "language_info": {
   "codemirror_mode": {
    "name": "ipython",
    "version": 3
   },
   "file_extension": ".py",
   "mimetype": "text/x-python",
   "name": "python",
   "nbconvert_exporter": "python",
   "pygments_lexer": "ipython3",
   "version": "3.9.7"
  }
 },
 "nbformat": 4,
 "nbformat_minor": 5
}
