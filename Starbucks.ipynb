{
 "cells": [
  {
   "cell_type": "code",
   "execution_count": 1,
   "id": "597c0b30",
   "metadata": {},
   "outputs": [],
   "source": [
    "from selenium import webdriver    # 파이썬으로 웹 브라우저 컨트롤\n",
    "from bs4 import BeautifulSoup as bs  # 분석을 용이하게 정제"
   ]
  },
  {
   "cell_type": "code",
   "execution_count": 2,
   "id": "59427f70",
   "metadata": {},
   "outputs": [],
   "source": [
    "driver = webdriver.Chrome('chromedriver.exe')\n",
    "driver.get('https://www.starbucks.co.kr/store/store_map.do')"
   ]
  },
  {
   "cell_type": "code",
   "execution_count": 12,
   "id": "5d301e43",
   "metadata": {},
   "outputs": [],
   "source": [
    "# 누를 버튼 좌클릭 > copy카테고리에 copy selector 클릭\n",
    "area_btn = '#container > div > form > fieldset > div > section > article.find_store_cont > article > header.loca_search > h3 > a'\n",
    "\n",
    "driver.find_element_by_css_selector(area_btn).click()"
   ]
  },
  {
   "cell_type": "code",
   "execution_count": 13,
   "id": "547198fc",
   "metadata": {},
   "outputs": [],
   "source": [
    "seoul_btn = '#container > div > form > fieldset > div > section > article.find_store_cont > article > article:nth-child(4) > div.loca_step1 > div.loca_step1_cont > ul > li:nth-child(1) > a'\n",
    "driver.find_element_by_css_selector(seoul_btn).click()"
   ]
  },
  {
   "cell_type": "code",
   "execution_count": 14,
   "id": "78728cdc",
   "metadata": {},
   "outputs": [],
   "source": [
    "all_btn = '#mCSB_2_container > ul > li:nth-child(1) > a'\n",
    "driver.find_element_by_css_selector(all_btn).click()"
   ]
  },
  {
   "cell_type": "code",
   "execution_count": 16,
   "id": "0c822392",
   "metadata": {},
   "outputs": [],
   "source": [
    "import requests\n",
    "import pandas as pd"
   ]
  },
  {
   "cell_type": "code",
   "execution_count": 17,
   "id": "e907ba91",
   "metadata": {},
   "outputs": [],
   "source": [
    "html = driver.page_source # 전체 페이지 소스 읽어오기\n",
    "soup = bs(html)           # bs로 데이 정제\n"
   ]
  },
  {
   "cell_type": "code",
   "execution_count": 21,
   "id": "4ae74b71",
   "metadata": {},
   "outputs": [
    {
     "data": {
      "text/plain": [
       "569"
      ]
     },
     "execution_count": 21,
     "metadata": {},
     "output_type": "execute_result"
    }
   ],
   "source": [
    "len(soup.select('ul.quickSearchResultBoxSidoGugun > li'))"
   ]
  },
  {
   "cell_type": "code",
   "execution_count": 52,
   "id": "79da9ac7",
   "metadata": {},
   "outputs": [
    {
     "data": {
      "text/plain": [
       "<li class=\"quickResultLstCon\" data-code=\"3762\" data-hlytag=\"null\" data-index=\"0\" data-lat=\"37.501087\" data-long=\"127.043069\" data-name=\"역삼아레나빌딩\" data-storecd=\"1509\" style=\"background:#fff\"> <strong data-my_siren_order_store_yn=\"N\" data-name=\"역삼아레나빌딩\" data-store=\"1509\" data-yn=\"N\">역삼아레나빌딩  </strong> <p class=\"result_details\">서울특별시 강남구 언주로 425 (역삼동)<br/>1522-3232</p> <i class=\"pin_general\">리저브 매장 2번</i></li>"
      ]
     },
     "execution_count": 52,
     "metadata": {},
     "output_type": "execute_result"
    }
   ],
   "source": [
    "places = soup.select('ul.quickSearchResultBoxSidoGugun > li')\n",
    "places[0]\n",
    "# places[0].select('p.result_details')[0].text"
   ]
  },
  {
   "cell_type": "code",
   "execution_count": 92,
   "id": "0677772c",
   "metadata": {},
   "outputs": [],
   "source": [
    "\n",
    "name = places[0]['data-name']   # 지점명\n",
    "lat = places[0]['data-lat']     # 위도\n",
    "lng = places[0]['data-long']    # 경도\n",
    "\n",
    "addr = str(places[0].select('p.result_details')[0]).split('<br/>')[0].split('>')[1]\n",
    "tel = str(places[0].select('p.result_details')[0]).split('<br/>')[1].split('<')[0] "
   ]
  },
  {
   "cell_type": "code",
   "execution_count": 91,
   "id": "d9149af4",
   "metadata": {},
   "outputs": [],
   "source": [
    "places = soup.select('ul.quickSearchResultBoxSidoGugun > li')\n",
    "data = []\n",
    "num = 0\n",
    "\n",
    "for place in places:\n",
    "    name = place['data-name']   # 지점명\n",
    "    lat = place['data-lat']     # 위도\n",
    "    lng = place['data-long']    # 경도\n",
    "    addr = str(place.select('p.result_details')[0]).split('<br/>')[0].split('>')[1]\n",
    "    tel = str(place.select('p.result_details')[0]).split('<br/>')[1].split('<')[0] \n",
    "    num += 1\n",
    "    data.append([num,name,lat,lng,addr,tel])"
   ]
  },
  {
   "cell_type": "code",
   "execution_count": 90,
   "id": "97472eb7",
   "metadata": {
    "scrolled": true
   },
   "outputs": [
    {
     "data": {
      "text/html": [
       "<div>\n",
       "<style scoped>\n",
       "    .dataframe tbody tr th:only-of-type {\n",
       "        vertical-align: middle;\n",
       "    }\n",
       "\n",
       "    .dataframe tbody tr th {\n",
       "        vertical-align: top;\n",
       "    }\n",
       "\n",
       "    .dataframe thead th {\n",
       "        text-align: right;\n",
       "    }\n",
       "</style>\n",
       "<table border=\"1\" class=\"dataframe\">\n",
       "  <thead>\n",
       "    <tr style=\"text-align: right;\">\n",
       "      <th></th>\n",
       "      <th>번호</th>\n",
       "      <th>지점명</th>\n",
       "      <th>위도</th>\n",
       "      <th>경도</th>\n",
       "      <th>위치</th>\n",
       "      <th>전화번호</th>\n",
       "    </tr>\n",
       "  </thead>\n",
       "  <tbody>\n",
       "    <tr>\n",
       "      <th>0</th>\n",
       "      <td>1</td>\n",
       "      <td>역삼아레나빌딩</td>\n",
       "      <td>37.501087</td>\n",
       "      <td>127.043069</td>\n",
       "      <td>서울특별시 강남구 언주로 425 (역삼동)</td>\n",
       "      <td>1522-3232</td>\n",
       "    </tr>\n",
       "    <tr>\n",
       "      <th>1</th>\n",
       "      <td>2</td>\n",
       "      <td>논현역사거리</td>\n",
       "      <td>37.510178</td>\n",
       "      <td>127.022223</td>\n",
       "      <td>서울특별시 강남구 강남대로 538 (논현동)</td>\n",
       "      <td>1522-3232</td>\n",
       "    </tr>\n",
       "    <tr>\n",
       "      <th>2</th>\n",
       "      <td>3</td>\n",
       "      <td>신사역성일빌딩</td>\n",
       "      <td>37.514132</td>\n",
       "      <td>127.020563</td>\n",
       "      <td>서울특별시 강남구 강남대로 584 (논현동)</td>\n",
       "      <td>1522-3232</td>\n",
       "    </tr>\n",
       "    <tr>\n",
       "      <th>3</th>\n",
       "      <td>4</td>\n",
       "      <td>국기원사거리</td>\n",
       "      <td>37.499517</td>\n",
       "      <td>127.031495</td>\n",
       "      <td>서울특별시 강남구 테헤란로 125 (역삼동)</td>\n",
       "      <td>1522-3232</td>\n",
       "    </tr>\n",
       "    <tr>\n",
       "      <th>4</th>\n",
       "      <td>5</td>\n",
       "      <td>대치재경빌딩R</td>\n",
       "      <td>37.494668</td>\n",
       "      <td>127.062583</td>\n",
       "      <td>서울특별시 강남구 남부순환로 2947 (대치동)</td>\n",
       "      <td>1522-3232</td>\n",
       "    </tr>\n",
       "    <tr>\n",
       "      <th>...</th>\n",
       "      <td>...</td>\n",
       "      <td>...</td>\n",
       "      <td>...</td>\n",
       "      <td>...</td>\n",
       "      <td>...</td>\n",
       "      <td>...</td>\n",
       "    </tr>\n",
       "    <tr>\n",
       "      <th>564</th>\n",
       "      <td>565</td>\n",
       "      <td>사가정역</td>\n",
       "      <td>37.579594</td>\n",
       "      <td>127.087966</td>\n",
       "      <td>서울특별시 중랑구 면목로 310</td>\n",
       "      <td>1522-3232</td>\n",
       "    </tr>\n",
       "    <tr>\n",
       "      <th>565</th>\n",
       "      <td>566</td>\n",
       "      <td>상봉역</td>\n",
       "      <td>37.59689</td>\n",
       "      <td>127.08647</td>\n",
       "      <td>서울특별시 중랑구 망우로 307 (상봉동)</td>\n",
       "      <td>1522-3232</td>\n",
       "    </tr>\n",
       "    <tr>\n",
       "      <th>566</th>\n",
       "      <td>567</td>\n",
       "      <td>묵동이마트</td>\n",
       "      <td>37.613433</td>\n",
       "      <td>127.077484</td>\n",
       "      <td>서울특별시 중랑구 동일로 932 (묵동, 묵동자이아파트) (묵동이마트 B1층)</td>\n",
       "      <td>1522-3232</td>\n",
       "    </tr>\n",
       "    <tr>\n",
       "      <th>567</th>\n",
       "      <td>568</td>\n",
       "      <td>묵동</td>\n",
       "      <td>37.615368</td>\n",
       "      <td>127.076633</td>\n",
       "      <td>서울특별시 중랑구 동일로 952 (묵동, 로프트원 태릉입구역) 1층</td>\n",
       "      <td>1522-3232</td>\n",
       "    </tr>\n",
       "    <tr>\n",
       "      <th>568</th>\n",
       "      <td>569</td>\n",
       "      <td>중화역</td>\n",
       "      <td>37.60170912407773</td>\n",
       "      <td>127.07841136432036</td>\n",
       "      <td>서울특별시 중랑구 봉화산로 35 1,2층</td>\n",
       "      <td>1522-3232</td>\n",
       "    </tr>\n",
       "  </tbody>\n",
       "</table>\n",
       "<p>569 rows × 6 columns</p>\n",
       "</div>"
      ],
      "text/plain": [
       "      번호      지점명                 위도                  경도  \\\n",
       "0      1  역삼아레나빌딩          37.501087          127.043069   \n",
       "1      2   논현역사거리          37.510178          127.022223   \n",
       "2      3  신사역성일빌딩          37.514132          127.020563   \n",
       "3      4   국기원사거리          37.499517          127.031495   \n",
       "4      5  대치재경빌딩R          37.494668          127.062583   \n",
       "..   ...      ...                ...                 ...   \n",
       "564  565     사가정역          37.579594          127.087966   \n",
       "565  566      상봉역           37.59689           127.08647   \n",
       "566  567    묵동이마트          37.613433          127.077484   \n",
       "567  568       묵동          37.615368          127.076633   \n",
       "568  569      중화역  37.60170912407773  127.07841136432036   \n",
       "\n",
       "                                              위치       전화번호  \n",
       "0                        서울특별시 강남구 언주로 425 (역삼동)  1522-3232  \n",
       "1                       서울특별시 강남구 강남대로 538 (논현동)  1522-3232  \n",
       "2                       서울특별시 강남구 강남대로 584 (논현동)  1522-3232  \n",
       "3                       서울특별시 강남구 테헤란로 125 (역삼동)  1522-3232  \n",
       "4                     서울특별시 강남구 남부순환로 2947 (대치동)  1522-3232  \n",
       "..                                           ...        ...  \n",
       "564                            서울특별시 중랑구 면목로 310  1522-3232  \n",
       "565                      서울특별시 중랑구 망우로 307 (상봉동)  1522-3232  \n",
       "566  서울특별시 중랑구 동일로 932 (묵동, 묵동자이아파트) (묵동이마트 B1층)  1522-3232  \n",
       "567        서울특별시 중랑구 동일로 952 (묵동, 로프트원 태릉입구역) 1층  1522-3232  \n",
       "568                       서울특별시 중랑구 봉화산로 35 1,2층  1522-3232  \n",
       "\n",
       "[569 rows x 6 columns]"
      ]
     },
     "execution_count": 90,
     "metadata": {},
     "output_type": "execute_result"
    }
   ],
   "source": [
    "df = pd.DataFrame(data, columns = ['번호','지점명','위도','경도','위치','전화번호'])\n",
    "df"
   ]
  },
  {
   "cell_type": "code",
   "execution_count": 93,
   "id": "242e0420",
   "metadata": {},
   "outputs": [],
   "source": [
    "df.to_excel('Starbucks.xlsx', index=False)"
   ]
  },
  {
   "cell_type": "code",
   "execution_count": null,
   "id": "865fcd90",
   "metadata": {},
   "outputs": [],
   "source": []
  }
 ],
 "metadata": {
  "kernelspec": {
   "display_name": "Python 3 (ipykernel)",
   "language": "python",
   "name": "python3"
  },
  "language_info": {
   "codemirror_mode": {
    "name": "ipython",
    "version": 3
   },
   "file_extension": ".py",
   "mimetype": "text/x-python",
   "name": "python",
   "nbconvert_exporter": "python",
   "pygments_lexer": "ipython3",
   "version": "3.9.7"
  }
 },
 "nbformat": 4,
 "nbformat_minor": 5
}
