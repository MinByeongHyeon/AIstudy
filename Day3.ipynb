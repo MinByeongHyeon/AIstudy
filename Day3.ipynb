{
  "nbformat": 4,
  "nbformat_minor": 0,
  "metadata": {
    "colab": {
      "name": "Day3",
      "provenance": [],
      "authorship_tag": "ABX9TyPOvYS2bQCOodIkHNMreEnd",
      "include_colab_link": true
    },
    "kernelspec": {
      "name": "python3",
      "display_name": "Python 3"
    },
    "language_info": {
      "name": "python"
    }
  },
  "cells": [
    {
      "cell_type": "markdown",
      "metadata": {
        "id": "view-in-github",
        "colab_type": "text"
      },
      "source": [
        "<a href=\"https://colab.research.google.com/github/MinByeongHyeon/ai/blob/main/Day3.ipynb\" target=\"_parent\"><img src=\"https://colab.research.google.com/assets/colab-badge.svg\" alt=\"Open In Colab\"/></a>"
      ]
    },
    {
      "cell_type": "code",
      "execution_count": null,
      "metadata": {
        "colab": {
          "base_uri": "https://localhost:8080/"
        },
        "id": "aZ94BquXzalx",
        "outputId": "c1b17f0f-a2fe-4060-f472-172352c93246"
      },
      "outputs": [
        {
          "output_type": "stream",
          "name": "stdout",
          "text": [
            "점수를 입력하세요 >>>33\n",
            "당신의 점수는 33이며 학점은 F-입니다. \n"
          ]
        }
      ],
      "source": [
        "score = int(input(\"점수를 입력하세요 >>>\"))\n",
        "\n",
        "if score >= 90:\n",
        "  gr = \"A\"\n",
        "elif score >= 80:\n",
        "  gr = \"B\"\n",
        "elif score >= 70:\n",
        "  gr = \"C\"\n",
        "elif score >= 60:\n",
        "  gr = \"D\"\n",
        "else:\n",
        "  gr = \"F\"\n",
        "\n",
        "\n",
        "if int(score%10) >= 7:\n",
        "  de = '+'\n",
        "elif int(score%10) >= 4:\n",
        "  de = 'O'\n",
        "else:\n",
        "  de = '-'\n",
        "\n",
        "print(f'당신의 점수는 {score}이며 학점은 {gr}{de}입니다. ')\n"
      ]
    },
    {
      "cell_type": "code",
      "source": [
        "###########################\n",
        "# While 반복문\n",
        "############################\n",
        "\n",
        "# 반복문은 작업 수행을 한번이 아니라 계속해서 수행해야 할 때 사용한다\n",
        "# while 반복 작읍을 몇번 수행할지 확실하지 않을 때 주로 사용한다\n",
        "# \" 운동장을 해가 질때까지 반복하자 \"\n",
        "\n",
        "# while 조건식:\n",
        "#    실행구문\n",
        "\n",
        "n = 1\n",
        "while n <= 10:\n",
        "  n = n+1   # n += 1\n",
        "print(n)\n",
        "\n"
      ],
      "metadata": {
        "id": "cu63F51lSZbu"
      },
      "execution_count": null,
      "outputs": []
    },
    {
      "cell_type": "code",
      "source": [
        "n = 10\n",
        "while n > 0:\n",
        "  print(n)\n",
        "  n = n-2"
      ],
      "metadata": {
        "colab": {
          "base_uri": "https://localhost:8080/"
        },
        "id": "mzbMa6viUa-g",
        "outputId": "b96eff6f-8e2d-48f6-8b63-e5af6b25eac0"
      },
      "execution_count": null,
      "outputs": [
        {
          "output_type": "stream",
          "name": "stdout",
          "text": [
            "10\n",
            "8\n",
            "6\n",
            "4\n",
            "2\n"
          ]
        }
      ]
    },
    {
      "cell_type": "code",
      "source": [
        "num = 13\n",
        "list_ex =[]\n",
        "while num != 0:\n",
        "  num = int(input(\"숫자 입력\"))\n",
        "  if num != 0:\n",
        "    list_ex.append(num)\n",
        "print(list_ex)"
      ],
      "metadata": {
        "colab": {
          "base_uri": "https://localhost:8080/"
        },
        "id": "34H6BSXrVRAH",
        "outputId": "e30f44b5-c84e-49cd-8224-11f428e8ef1a"
      },
      "execution_count": null,
      "outputs": [
        {
          "output_type": "stream",
          "name": "stdout",
          "text": [
            "숫자 입력1\n",
            "숫자 입력2\n",
            "숫자 입력3\n",
            "숫자 입력0\n",
            "[1, 2, 3]\n"
          ]
        }
      ]
    },
    {
      "cell_type": "code",
      "source": [
        "# while 중첩\n",
        "\n",
        "# Q. 5일동안 1~3교시 수업을 한다\n",
        "\n",
        "day = 1\n",
        "class_num = 1\n",
        "while day <=3:\n",
        "  while class_num <=3:\n",
        "    print(\"{}일차 {}교시입니다.\".format(day,class_num))\n",
        "    class_num += 1\n",
        "  class_num = 1\n",
        "  day += 1"
      ],
      "metadata": {
        "colab": {
          "base_uri": "https://localhost:8080/"
        },
        "id": "LE22FY5iZcPV",
        "outputId": "a30e3b94-094a-48e5-dde5-14a1c1383058"
      },
      "execution_count": null,
      "outputs": [
        {
          "output_type": "stream",
          "name": "stdout",
          "text": [
            "1일차 1교시입니다.\n",
            "1일차 2교시입니다.\n",
            "1일차 3교시입니다.\n",
            "2일차 1교시입니다.\n",
            "2일차 2교시입니다.\n",
            "2일차 3교시입니다.\n",
            "3일차 1교시입니다.\n",
            "3일차 2교시입니다.\n",
            "3일차 3교시입니다.\n"
          ]
        }
      ]
    },
    {
      "cell_type": "code",
      "source": [
        "dan = 2\n",
        "num = 1\n",
        "while dan <=9:\n",
        "  while num <=9:\n",
        "    print(\"{} x {} = {}\".format(dan,num, dan*num),end=\"  \")\n",
        "    num += 1\n",
        "  num = 1\n",
        "  print()\n",
        "  dan += 1"
      ],
      "metadata": {
        "colab": {
          "base_uri": "https://localhost:8080/"
        },
        "id": "3V3Bv60vuW0P",
        "outputId": "a6be1d72-cd85-4686-f56a-22360cf96d02"
      },
      "execution_count": null,
      "outputs": [
        {
          "output_type": "stream",
          "name": "stdout",
          "text": [
            "2 x 2 = 2  4 x 4 = 4  6 x 6 = 6  8 x 8 = 8  10 x 10 = 10  12 x 12 = 12  14 x 14 = 14  16 x 16 = 16  18 x 18 = 18  \n",
            "3 x 3 = 3  6 x 6 = 6  9 x 9 = 9  12 x 12 = 12  15 x 15 = 15  18 x 18 = 18  21 x 21 = 21  24 x 24 = 24  27 x 27 = 27  \n",
            "4 x 4 = 4  8 x 8 = 8  12 x 12 = 12  16 x 16 = 16  20 x 20 = 20  24 x 24 = 24  28 x 28 = 28  32 x 32 = 32  36 x 36 = 36  \n",
            "5 x 5 = 5  10 x 10 = 10  15 x 15 = 15  20 x 20 = 20  25 x 25 = 25  30 x 30 = 30  35 x 35 = 35  40 x 40 = 40  45 x 45 = 45  \n",
            "6 x 6 = 6  12 x 12 = 12  18 x 18 = 18  24 x 24 = 24  30 x 30 = 30  36 x 36 = 36  42 x 42 = 42  48 x 48 = 48  54 x 54 = 54  \n",
            "7 x 7 = 7  14 x 14 = 14  21 x 21 = 21  28 x 28 = 28  35 x 35 = 35  42 x 42 = 42  49 x 49 = 49  56 x 56 = 56  63 x 63 = 63  \n",
            "8 x 8 = 8  16 x 16 = 16  24 x 24 = 24  32 x 32 = 32  40 x 40 = 40  48 x 48 = 48  56 x 56 = 56  64 x 64 = 64  72 x 72 = 72  \n",
            "9 x 9 = 9  18 x 18 = 18  27 x 27 = 27  36 x 36 = 36  45 x 45 = 45  54 x 54 = 54  63 x 63 = 63  72 x 72 = 72  81 x 81 = 81  \n"
          ]
        }
      ]
    },
    {
      "cell_type": "code",
      "source": [
        "count = 1\n",
        "num = int(input(\"정수\"))\n",
        "if num > 0:\n",
        "  while count <= num:\n",
        "    print(\"{}번째 Hello\".format(count))\n",
        "    count +=1\n",
        "else:\n",
        "  print(\"잘못된 입력입니다\")"
      ],
      "metadata": {
        "colab": {
          "base_uri": "https://localhost:8080/"
        },
        "id": "VxGtw04-wgp7",
        "outputId": "baaa0561-240f-42f3-dc61-e4761b696b68"
      },
      "execution_count": null,
      "outputs": [
        {
          "output_type": "stream",
          "name": "stdout",
          "text": [
            "정수3\n",
            "1번째 Hello\n",
            "2번째 Hello\n",
            "3번째 Hello\n"
          ]
        }
      ]
    },
    {
      "cell_type": "code",
      "source": [
        "count = 1\n",
        "while count <= 100:\n",
        "  if count%7 == 0 :\n",
        "    print(\"{} \".format(count))\n",
        "  count +=1"
      ],
      "metadata": {
        "colab": {
          "base_uri": "https://localhost:8080/"
        },
        "id": "-VsNs6NO0v7o",
        "outputId": "9638f1d0-9186-4b76-c6be-028d32f2b9e6"
      },
      "execution_count": null,
      "outputs": [
        {
          "output_type": "stream",
          "name": "stdout",
          "text": [
            "7 \n",
            "14 \n",
            "21 \n",
            "28 \n",
            "35 \n",
            "42 \n",
            "49 \n",
            "56 \n",
            "63 \n",
            "70 \n",
            "77 \n",
            "84 \n",
            "91 \n",
            "98 \n"
          ]
        }
      ]
    },
    {
      "cell_type": "code",
      "source": [
        "count = int(input(\"얼마 넣을건가 : \"))\n",
        "num = 1\n",
        "while count >= 0:\n",
        "  count -= 300\n",
        "  if count > 0:\n",
        "    print(\"커피 {}잔, 잔돈 {}원\".format(num,count))\n",
        "  num +=1"
      ],
      "metadata": {
        "colab": {
          "base_uri": "https://localhost:8080/"
        },
        "id": "LDWPc8207E7S",
        "outputId": "bdd480ed-ffa5-44d3-8e87-df28b8c620de"
      },
      "execution_count": null,
      "outputs": [
        {
          "output_type": "stream",
          "name": "stdout",
          "text": [
            "얼마 넣을건가 : 1400\n",
            "커피 1잔, 잔돈 1100원\n",
            "커피 2잔, 잔돈 800원\n",
            "커피 3잔, 잔돈 500원\n",
            "커피 4잔, 잔돈 200원\n"
          ]
        }
      ]
    },
    {
      "cell_type": "code",
      "source": [
        "check = 1 # 참 거짓용\n",
        "list_ex =[]\n",
        "while check == 1 :\n",
        "  num = int(input(\"숫자\"))\n",
        "  list_ex.append(num)\n",
        "  set1 = set(list_ex)\n",
        "  if len(set1) == 5:\n",
        "    check = 0 \n",
        "print(\"5개의 고유한 정수가 모두 입력되었습니다.\")\n",
        "print(\"입력된 값은 {}입니다\".format(set1))\n",
        "  "
      ],
      "metadata": {
        "colab": {
          "base_uri": "https://localhost:8080/",
          "height": 596
        },
        "id": "u-HIqW3M9cJK",
        "outputId": "ea0d732b-3ede-4ed6-e613-8f14c996d55f"
      },
      "execution_count": null,
      "outputs": [
        {
          "output_type": "error",
          "ename": "KeyboardInterrupt",
          "evalue": "ignored",
          "traceback": [
            "\u001b[0;31m---------------------------------------------------------------------------\u001b[0m",
            "\u001b[0;31mKeyboardInterrupt\u001b[0m                         Traceback (most recent call last)",
            "\u001b[0;32m/usr/local/lib/python3.7/dist-packages/ipykernel/kernelbase.py\u001b[0m in \u001b[0;36m_input_request\u001b[0;34m(self, prompt, ident, parent, password)\u001b[0m\n\u001b[1;32m    728\u001b[0m             \u001b[0;32mtry\u001b[0m\u001b[0;34m:\u001b[0m\u001b[0;34m\u001b[0m\u001b[0;34m\u001b[0m\u001b[0m\n\u001b[0;32m--> 729\u001b[0;31m                 \u001b[0mident\u001b[0m\u001b[0;34m,\u001b[0m \u001b[0mreply\u001b[0m \u001b[0;34m=\u001b[0m \u001b[0mself\u001b[0m\u001b[0;34m.\u001b[0m\u001b[0msession\u001b[0m\u001b[0;34m.\u001b[0m\u001b[0mrecv\u001b[0m\u001b[0;34m(\u001b[0m\u001b[0mself\u001b[0m\u001b[0;34m.\u001b[0m\u001b[0mstdin_socket\u001b[0m\u001b[0;34m,\u001b[0m \u001b[0;36m0\u001b[0m\u001b[0;34m)\u001b[0m\u001b[0;34m\u001b[0m\u001b[0;34m\u001b[0m\u001b[0m\n\u001b[0m\u001b[1;32m    730\u001b[0m             \u001b[0;32mexcept\u001b[0m \u001b[0mException\u001b[0m\u001b[0;34m:\u001b[0m\u001b[0;34m\u001b[0m\u001b[0;34m\u001b[0m\u001b[0m\n",
            "\u001b[0;32m/usr/local/lib/python3.7/dist-packages/jupyter_client/session.py\u001b[0m in \u001b[0;36mrecv\u001b[0;34m(self, socket, mode, content, copy)\u001b[0m\n\u001b[1;32m    802\u001b[0m         \u001b[0;32mtry\u001b[0m\u001b[0;34m:\u001b[0m\u001b[0;34m\u001b[0m\u001b[0;34m\u001b[0m\u001b[0m\n\u001b[0;32m--> 803\u001b[0;31m             \u001b[0mmsg_list\u001b[0m \u001b[0;34m=\u001b[0m \u001b[0msocket\u001b[0m\u001b[0;34m.\u001b[0m\u001b[0mrecv_multipart\u001b[0m\u001b[0;34m(\u001b[0m\u001b[0mmode\u001b[0m\u001b[0;34m,\u001b[0m \u001b[0mcopy\u001b[0m\u001b[0;34m=\u001b[0m\u001b[0mcopy\u001b[0m\u001b[0;34m)\u001b[0m\u001b[0;34m\u001b[0m\u001b[0;34m\u001b[0m\u001b[0m\n\u001b[0m\u001b[1;32m    804\u001b[0m         \u001b[0;32mexcept\u001b[0m \u001b[0mzmq\u001b[0m\u001b[0;34m.\u001b[0m\u001b[0mZMQError\u001b[0m \u001b[0;32mas\u001b[0m \u001b[0me\u001b[0m\u001b[0;34m:\u001b[0m\u001b[0;34m\u001b[0m\u001b[0;34m\u001b[0m\u001b[0m\n",
            "\u001b[0;32m/usr/local/lib/python3.7/dist-packages/zmq/sugar/socket.py\u001b[0m in \u001b[0;36mrecv_multipart\u001b[0;34m(self, flags, copy, track)\u001b[0m\n\u001b[1;32m    624\u001b[0m         \"\"\"\n\u001b[0;32m--> 625\u001b[0;31m         \u001b[0mparts\u001b[0m \u001b[0;34m=\u001b[0m \u001b[0;34m[\u001b[0m\u001b[0mself\u001b[0m\u001b[0;34m.\u001b[0m\u001b[0mrecv\u001b[0m\u001b[0;34m(\u001b[0m\u001b[0mflags\u001b[0m\u001b[0;34m,\u001b[0m \u001b[0mcopy\u001b[0m\u001b[0;34m=\u001b[0m\u001b[0mcopy\u001b[0m\u001b[0;34m,\u001b[0m \u001b[0mtrack\u001b[0m\u001b[0;34m=\u001b[0m\u001b[0mtrack\u001b[0m\u001b[0;34m)\u001b[0m\u001b[0;34m]\u001b[0m\u001b[0;34m\u001b[0m\u001b[0;34m\u001b[0m\u001b[0m\n\u001b[0m\u001b[1;32m    626\u001b[0m         \u001b[0;31m# have first part already, only loop while more to receive\u001b[0m\u001b[0;34m\u001b[0m\u001b[0;34m\u001b[0m\u001b[0;34m\u001b[0m\u001b[0m\n",
            "\u001b[0;32mzmq/backend/cython/socket.pyx\u001b[0m in \u001b[0;36mzmq.backend.cython.socket.Socket.recv\u001b[0;34m()\u001b[0m\n",
            "\u001b[0;32mzmq/backend/cython/socket.pyx\u001b[0m in \u001b[0;36mzmq.backend.cython.socket.Socket.recv\u001b[0;34m()\u001b[0m\n",
            "\u001b[0;32mzmq/backend/cython/socket.pyx\u001b[0m in \u001b[0;36mzmq.backend.cython.socket._recv_copy\u001b[0;34m()\u001b[0m\n",
            "\u001b[0;32m/usr/local/lib/python3.7/dist-packages/zmq/backend/cython/checkrc.pxd\u001b[0m in \u001b[0;36mzmq.backend.cython.checkrc._check_rc\u001b[0;34m()\u001b[0m\n",
            "\u001b[0;31mKeyboardInterrupt\u001b[0m: ",
            "\nDuring handling of the above exception, another exception occurred:\n",
            "\u001b[0;31mKeyboardInterrupt\u001b[0m                         Traceback (most recent call last)",
            "\u001b[0;32m<ipython-input-27-7a216de3a94b>\u001b[0m in \u001b[0;36m<module>\u001b[0;34m()\u001b[0m\n\u001b[1;32m      2\u001b[0m \u001b[0mlist_ex\u001b[0m \u001b[0;34m=\u001b[0m\u001b[0;34m[\u001b[0m\u001b[0;34m]\u001b[0m\u001b[0;34m\u001b[0m\u001b[0;34m\u001b[0m\u001b[0m\n\u001b[1;32m      3\u001b[0m \u001b[0;32mwhile\u001b[0m \u001b[0mcheck\u001b[0m \u001b[0;34m==\u001b[0m \u001b[0;36m1\u001b[0m \u001b[0;34m:\u001b[0m\u001b[0;34m\u001b[0m\u001b[0;34m\u001b[0m\u001b[0m\n\u001b[0;32m----> 4\u001b[0;31m   \u001b[0mnum\u001b[0m \u001b[0;34m=\u001b[0m \u001b[0mint\u001b[0m\u001b[0;34m(\u001b[0m\u001b[0minput\u001b[0m\u001b[0;34m(\u001b[0m\u001b[0;34m\"숫자\"\u001b[0m\u001b[0;34m)\u001b[0m\u001b[0;34m)\u001b[0m\u001b[0;34m\u001b[0m\u001b[0;34m\u001b[0m\u001b[0m\n\u001b[0m\u001b[1;32m      5\u001b[0m   \u001b[0mlist_ex\u001b[0m\u001b[0;34m.\u001b[0m\u001b[0mappend\u001b[0m\u001b[0;34m(\u001b[0m\u001b[0mnum\u001b[0m\u001b[0;34m)\u001b[0m\u001b[0;34m\u001b[0m\u001b[0;34m\u001b[0m\u001b[0m\n\u001b[1;32m      6\u001b[0m   \u001b[0mset1\u001b[0m \u001b[0;34m=\u001b[0m \u001b[0mset\u001b[0m\u001b[0;34m(\u001b[0m\u001b[0mlist_ex\u001b[0m\u001b[0;34m)\u001b[0m\u001b[0;34m\u001b[0m\u001b[0;34m\u001b[0m\u001b[0m\n",
            "\u001b[0;32m/usr/local/lib/python3.7/dist-packages/ipykernel/kernelbase.py\u001b[0m in \u001b[0;36mraw_input\u001b[0;34m(self, prompt)\u001b[0m\n\u001b[1;32m    702\u001b[0m             \u001b[0mself\u001b[0m\u001b[0;34m.\u001b[0m\u001b[0m_parent_ident\u001b[0m\u001b[0;34m,\u001b[0m\u001b[0;34m\u001b[0m\u001b[0;34m\u001b[0m\u001b[0m\n\u001b[1;32m    703\u001b[0m             \u001b[0mself\u001b[0m\u001b[0;34m.\u001b[0m\u001b[0m_parent_header\u001b[0m\u001b[0;34m,\u001b[0m\u001b[0;34m\u001b[0m\u001b[0;34m\u001b[0m\u001b[0m\n\u001b[0;32m--> 704\u001b[0;31m             \u001b[0mpassword\u001b[0m\u001b[0;34m=\u001b[0m\u001b[0;32mFalse\u001b[0m\u001b[0;34m,\u001b[0m\u001b[0;34m\u001b[0m\u001b[0;34m\u001b[0m\u001b[0m\n\u001b[0m\u001b[1;32m    705\u001b[0m         )\n\u001b[1;32m    706\u001b[0m \u001b[0;34m\u001b[0m\u001b[0m\n",
            "\u001b[0;32m/usr/local/lib/python3.7/dist-packages/ipykernel/kernelbase.py\u001b[0m in \u001b[0;36m_input_request\u001b[0;34m(self, prompt, ident, parent, password)\u001b[0m\n\u001b[1;32m    732\u001b[0m             \u001b[0;32mexcept\u001b[0m \u001b[0mKeyboardInterrupt\u001b[0m\u001b[0;34m:\u001b[0m\u001b[0;34m\u001b[0m\u001b[0;34m\u001b[0m\u001b[0m\n\u001b[1;32m    733\u001b[0m                 \u001b[0;31m# re-raise KeyboardInterrupt, to truncate traceback\u001b[0m\u001b[0;34m\u001b[0m\u001b[0;34m\u001b[0m\u001b[0;34m\u001b[0m\u001b[0m\n\u001b[0;32m--> 734\u001b[0;31m                 \u001b[0;32mraise\u001b[0m \u001b[0mKeyboardInterrupt\u001b[0m\u001b[0;34m\u001b[0m\u001b[0;34m\u001b[0m\u001b[0m\n\u001b[0m\u001b[1;32m    735\u001b[0m             \u001b[0;32melse\u001b[0m\u001b[0;34m:\u001b[0m\u001b[0;34m\u001b[0m\u001b[0;34m\u001b[0m\u001b[0m\n\u001b[1;32m    736\u001b[0m                 \u001b[0;32mbreak\u001b[0m\u001b[0;34m\u001b[0m\u001b[0;34m\u001b[0m\u001b[0m\n",
            "\u001b[0;31mKeyboardInterrupt\u001b[0m: "
          ]
        }
      ]
    },
    {
      "cell_type": "code",
      "source": [
        "num = 1\n",
        "count = 1\n",
        "while num <= 100:\n",
        "  while count <= 10:\n",
        "    print(\"{}\\t\".format(num),end=\"\")\n",
        "    count += 1\n",
        "    num += 1\n",
        "  print()\n",
        "  count = 1"
      ],
      "metadata": {
        "colab": {
          "base_uri": "https://localhost:8080/"
        },
        "id": "wvnMvylGDIG0",
        "outputId": "50a948e1-4b9a-48fb-cdd4-c0131f7376a4"
      },
      "execution_count": null,
      "outputs": [
        {
          "output_type": "stream",
          "name": "stdout",
          "text": [
            "1\t2\t3\t4\t5\t6\t7\t8\t9\t10\t\n",
            "11\t12\t13\t14\t15\t16\t17\t18\t19\t20\t\n",
            "21\t22\t23\t24\t25\t26\t27\t28\t29\t30\t\n",
            "31\t32\t33\t34\t35\t36\t37\t38\t39\t40\t\n",
            "41\t42\t43\t44\t45\t46\t47\t48\t49\t50\t\n",
            "51\t52\t53\t54\t55\t56\t57\t58\t59\t60\t\n",
            "61\t62\t63\t64\t65\t66\t67\t68\t69\t70\t\n",
            "71\t72\t73\t74\t75\t76\t77\t78\t79\t80\t\n",
            "81\t82\t83\t84\t85\t86\t87\t88\t89\t90\t\n",
            "91\t92\t93\t94\t95\t96\t97\t98\t99\t100\t\n"
          ]
        }
      ]
    },
    {
      "cell_type": "code",
      "source": [
        "check1 = 0  # 문자포함 확인용\n",
        "check2 = 0  # 숫자포함 확인용\n",
        "\n",
        "password = input(\"비번 설정 : \")\n",
        "for ch in password:\n",
        "  if ch.isalpha():\n",
        "    check1 = 1\n",
        "  elif ch.isnumeric():\n",
        "    check2 = 1\n",
        "\n",
        "if check1 == 1 & check2 == 1:\n",
        "  print(\"사용 가능한 비번입니다\")\n",
        "else:\n",
        "  print(\"사용 불가능한 비번입니다\")"
      ],
      "metadata": {
        "colab": {
          "base_uri": "https://localhost:8080/"
        },
        "id": "l9FhdkH1Oh_Z",
        "outputId": "23ab28ca-e128-4f06-bbb6-d4dbd39ac6a4"
      },
      "execution_count": null,
      "outputs": [
        {
          "output_type": "stream",
          "name": "stdout",
          "text": [
            "비번 설정 : 12as\n",
            "사용 가능한 비번입니다\n"
          ]
        }
      ]
    },
    {
      "cell_type": "code",
      "source": [
        "dan = int(input(\"몇단 할까요 : \"))\n",
        "for num in range(1,10):\n",
        "  print(\"{} x {} = {}\".format(dan,num,dan*num))\n"
      ],
      "metadata": {
        "colab": {
          "base_uri": "https://localhost:8080/"
        },
        "id": "ndtL5xejW0gc",
        "outputId": "0d3fc663-3cfa-4f25-d45a-c88eb118eaa1"
      },
      "execution_count": null,
      "outputs": [
        {
          "output_type": "stream",
          "name": "stdout",
          "text": [
            "몇단 할까요 : 4\n",
            "4 x 1 = 4\n",
            "4 x 2 = 8\n",
            "4 x 3 = 12\n",
            "4 x 4 = 16\n",
            "4 x 5 = 20\n",
            "4 x 6 = 24\n",
            "4 x 7 = 28\n",
            "4 x 8 = 32\n"
          ]
        }
      ]
    },
    {
      "cell_type": "code",
      "source": [
        "num = int(input(\"숫자 입력\"))\n",
        "total = 0\n",
        "for i in range(0,num+1):\n",
        "  total += i\n",
        "print(\"1부터 {}까지 합은 {} 입니다\".format(num,total))"
      ],
      "metadata": {
        "colab": {
          "base_uri": "https://localhost:8080/"
        },
        "id": "_MjfleIVZbCx",
        "outputId": "b397a59d-7e83-4cb8-a7a8-0c91665b20fa"
      },
      "execution_count": null,
      "outputs": [
        {
          "output_type": "stream",
          "name": "stdout",
          "text": [
            "숫자 입력2\n",
            "1부터 2까지 합은 3 입니다\n"
          ]
        }
      ]
    },
    {
      "cell_type": "code",
      "source": [
        "num = int(input(\"숫자 입력\"))\n",
        "basket = []\n",
        "for i in range(1,num+1):\n",
        "  name = input(\"{}번째 과일을 입력하세요 : \".format(num))\n",
        "  basket.append(name)\n",
        "print(\"입력 받은 과일들은 {}입니다.\".format(basket))"
      ],
      "metadata": {
        "colab": {
          "base_uri": "https://localhost:8080/"
        },
        "id": "nANWLqB-atal",
        "outputId": "5e6090e8-a7f0-4c37-9229-daafa41c07b4"
      },
      "execution_count": null,
      "outputs": [
        {
          "output_type": "stream",
          "name": "stdout",
          "text": [
            "숫자 입력3\n",
            "3번째 과일을 입력하세요 : e\n",
            "3번째 과일을 입력하세요 : a\n",
            "3번째 과일을 입력하세요 : s\n",
            "입력 받은 과일들은 ['e', 'a', 's']입니다.\n"
          ]
        }
      ]
    },
    {
      "cell_type": "code",
      "source": [
        "for i in range(1, 100):\n",
        "    count = 0\n",
        "    if i > 10:\n",
        "      if (i % 10) % 3 == 0:\n",
        "        count +=1\n",
        "    if i // 10 % 3 == 0:\n",
        "      count +=1\n",
        "    if count != 0:\n",
        "      for j in range(1,count+1):\n",
        "        print(\"짝\", end='')\n",
        "    else :\n",
        "      print(i,end=\"\")\n",
        "    print(end=\"\\t\")\n",
        "\n",
        "    if i % 10 == 0:\n",
        "      print()"
      ],
      "metadata": {
        "colab": {
          "base_uri": "https://localhost:8080/"
        },
        "id": "f1G8psBUc2Fo",
        "outputId": "b45c5fdb-0161-47ef-d360-3657cfe81a76"
      },
      "execution_count": null,
      "outputs": [
        {
          "output_type": "stream",
          "name": "stdout",
          "text": [
            "짝\t짝\t짝\t짝\t짝\t짝\t짝\t짝\t짝\t10\t\n",
            "11\t12\t짝\t14\t15\t짝\t17\t18\t짝\t짝\t\n",
            "21\t22\t짝\t24\t25\t짝\t27\t28\t짝\t짝짝\t\n",
            "짝\t짝\t짝짝\t짝\t짝\t짝짝\t짝\t짝\t짝짝\t짝\t\n",
            "41\t42\t짝\t44\t45\t짝\t47\t48\t짝\t짝\t\n",
            "51\t52\t짝\t54\t55\t짝\t57\t58\t짝\t짝짝\t\n",
            "짝\t짝\t짝짝\t짝\t짝\t짝짝\t짝\t짝\t짝짝\t짝\t\n",
            "71\t72\t짝\t74\t75\t짝\t77\t78\t짝\t짝\t\n",
            "81\t82\t짝\t84\t85\t짝\t87\t88\t짝\t짝짝\t\n",
            "짝\t짝\t짝짝\t짝\t짝\t짝짝\t짝\t짝\t짝짝\t"
          ]
        }
      ]
    },
    {
      "cell_type": "code",
      "source": [
        ""
      ],
      "metadata": {
        "id": "zMLYKtQd7L8w"
      },
      "execution_count": null,
      "outputs": []
    },
    {
      "cell_type": "code",
      "source": [
        "for i in range(1,100):\n",
        "  if i <= 10:\n",
        "    if i % 3 ==0:\n",
        "      print(\"짝\",end=\"\\t\")\n",
        "    else:\n",
        "      print(i,end=\"\\t\")\n",
        "    if i % 10 == 0:\n",
        "      print()\n",
        "  else:\n",
        "    \n",
        "    if i // 10 % 3 == 0:\n",
        "      print(\"짝\",end=\"\")\n",
        "      if int(i % 10) % 3 == 0:\n",
        "        print(\"짝\",end=\"\\t\")\n",
        "      else:\n",
        "        print(end=\"\\t\")\n",
        "    else:\n",
        "      if i / 10 % 3 == 0:\n",
        "        print(\"짝\",end=\"\\t\")\n",
        "      else:\n",
        "        print(i,end=\"\\t\")\n",
        "    if i % 10 == 0:\n",
        "      print()\n",
        "\n"
      ],
      "metadata": {
        "colab": {
          "base_uri": "https://localhost:8080/"
        },
        "id": "QOhOdbLMfWhL",
        "outputId": "29d03bab-c56a-47aa-e20b-32e989691595"
      },
      "execution_count": null,
      "outputs": [
        {
          "output_type": "stream",
          "name": "stdout",
          "text": [
            "1\t2\t짝\t4\t5\t짝\t7\t8\t짝\t10\t\n",
            "11\t12\t13\t14\t15\t16\t17\t18\t19\t20\t\n",
            "21\t22\t23\t24\t25\t26\t27\t28\t29\t짝짝\t\n",
            "짝\t짝\t짝짝\t짝\t짝\t짝짝\t짝\t짝\t짝짝\t40\t\n",
            "41\t42\t43\t44\t45\t46\t47\t48\t49\t50\t\n",
            "51\t52\t53\t54\t55\t56\t57\t58\t59\t짝짝\t\n",
            "짝\t짝\t짝짝\t짝\t짝\t짝짝\t짝\t짝\t짝짝\t70\t\n",
            "71\t72\t73\t74\t75\t76\t77\t78\t79\t80\t\n",
            "81\t82\t83\t84\t85\t86\t87\t88\t89\t짝짝\t\n",
            "짝\t짝\t짝짝\t짝\t짝\t짝짝\t짝\t짝\t짝짝\t"
          ]
        }
      ]
    },
    {
      "cell_type": "code",
      "source": [
        "count = 0\n",
        "for i in range(0, 10):\n",
        "  for j in range(1,11):\n",
        "    if i > 1:  \n",
        "      if i % 3 == 0:\n",
        "        count += 1\n",
        "    if j % 3 == 0:\n",
        "      count +=1\n",
        "    if count != 0:\n",
        "      for k in range(1,count+1):\n",
        "        print(\"짝\",end=\"\")\n",
        "      print(end=\"\\t\")\n",
        "      count = 0\n",
        "    else:\n",
        "      print(i*10+j,end=\"\\t\")\n",
        "  print()\n",
        "\n"
      ],
      "metadata": {
        "colab": {
          "base_uri": "https://localhost:8080/"
        },
        "id": "DvPf2N-vj3RB",
        "outputId": "2dec6421-80a0-490c-8ab2-c8cb77cd06fc"
      },
      "execution_count": null,
      "outputs": [
        {
          "output_type": "stream",
          "name": "stdout",
          "text": [
            "1\t2\t짝\t4\t5\t짝\t7\t8\t짝\t10\t\n",
            "11\t12\t짝\t14\t15\t짝\t17\t18\t짝\t20\t\n",
            "21\t22\t짝\t24\t25\t짝\t27\t28\t짝\t30\t\n",
            "짝\t짝\t짝짝\t짝\t짝\t짝짝\t짝\t짝\t짝짝\t짝\t\n",
            "41\t42\t짝\t44\t45\t짝\t47\t48\t짝\t50\t\n",
            "51\t52\t짝\t54\t55\t짝\t57\t58\t짝\t60\t\n",
            "짝\t짝\t짝짝\t짝\t짝\t짝짝\t짝\t짝\t짝짝\t짝\t\n",
            "71\t72\t짝\t74\t75\t짝\t77\t78\t짝\t80\t\n",
            "81\t82\t짝\t84\t85\t짝\t87\t88\t짝\t90\t\n",
            "짝\t짝\t짝짝\t짝\t짝\t짝짝\t짝\t짝\t짝짝\t짝\t\n"
          ]
        }
      ]
    }
  ]
}