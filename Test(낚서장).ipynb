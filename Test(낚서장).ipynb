{
 "cells": [
  {
   "cell_type": "code",
   "execution_count": 2,
   "id": "233acaaa",
   "metadata": {},
   "outputs": [
    {
     "name": "stdout",
     "output_type": "stream",
     "text": [
      "숫자를 포함한 문자열을 입력하세요 >>> 12dfas$\n",
      "nu 12\n",
      "st dfas$\n",
      "['0', '1', '2', '3', '4', '5', '6', '7', '8', '9']\n"
     ]
    }
   ],
   "source": [
    "str1 = input('숫자를 포함한 문자열을 입력하세요 >>> ')\n",
    "str_li=''\n",
    "num_li=''\n",
    "check = []\n",
    "\n",
    "for n in range(0,10):\n",
    "    check.append(str(n))\n",
    "    \n",
    "for i in str1:\n",
    "  if i in check:\n",
    "    num_li = num_li + i\n",
    "  else:\n",
    "    str_li = str_li + i\n",
    "print(\"nu\",num_li)\n",
    "print(\"st\",str_li)\n",
    "print(check)"
   ]
  },
  {
   "cell_type": "code",
   "execution_count": null,
   "id": "04e449a4",
   "metadata": {},
   "outputs": [],
   "source": []
  }
 ],
 "metadata": {
  "kernelspec": {
   "display_name": "Python 3 (ipykernel)",
   "language": "python",
   "name": "python3"
  },
  "language_info": {
   "codemirror_mode": {
    "name": "ipython",
    "version": 3
   },
   "file_extension": ".py",
   "mimetype": "text/x-python",
   "name": "python",
   "nbconvert_exporter": "python",
   "pygments_lexer": "ipython3",
   "version": "3.9.7"
  }
 },
 "nbformat": 4,
 "nbformat_minor": 5
}
