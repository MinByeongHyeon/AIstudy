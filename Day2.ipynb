{
  "nbformat": 4,
  "nbformat_minor": 0,
  "metadata": {
    "colab": {
      "name": "Day2.ipynb",
      "provenance": [],
      "authorship_tag": "ABX9TyONxE9m2deHx2X+Jq67xAvv",
      "include_colab_link": true
    },
    "kernelspec": {
      "name": "python3",
      "display_name": "Python 3"
    },
    "language_info": {
      "name": "python"
    }
  },
  "cells": [
    {
      "cell_type": "markdown",
      "metadata": {
        "id": "view-in-github",
        "colab_type": "text"
      },
      "source": [
        "<a href=\"https://colab.research.google.com/github/MinByeongHyeon/ai/blob/main/Day2.ipynb\" target=\"_parent\"><img src=\"https://colab.research.google.com/assets/colab-badge.svg\" alt=\"Open In Colab\"/></a>"
      ]
    },
    {
      "cell_type": "code",
      "execution_count": 1,
      "metadata": {
        "colab": {
          "base_uri": "https://localhost:8080/"
        },
        "id": "0hSm36YmnkrL",
        "outputId": "df1d92fd-58e4-40eb-a6ad-ba4a48015219"
      },
      "outputs": [
        {
          "output_type": "stream",
          "name": "stdout",
          "text": [
            "Hello World\n"
          ]
        }
      ],
      "source": [
        "# Review\n",
        "\n",
        "# 주석 - 코드에 대한 설명, 컴퓨터는 읽지 않고 사람만 읽을수 있음\n",
        "#        추가로 다른 용법으로는 일정 부분의 코드를 임시로 삭제하는데 사용\n",
        "#        본인이 기록한 내용을 나중에 확인할때 유용\n",
        "\n",
        "print(\"Hello World\") # 주석은 코드의 우측 혹은 바로 윗줄에 적는다"
      ]
    },
    {
      "cell_type": "code",
      "source": [
        "# 변수 - 어떤 값을 저장하는 저장소\n",
        "#        영어 대소문자, 숫자와 언더바로 이루어져 있다\n",
        "#        가급적으로 한글은 쓰지 않는다\n",
        "\n",
        "a = 10"
      ],
      "metadata": {
        "id": "an1KMRq9w8im"
      },
      "execution_count": 2,
      "outputs": []
    },
    {
      "cell_type": "code",
      "source": [
        "# 인덱싱\n",
        "\n",
        "s = \"world\"\n",
        "print(s[2]) # 파이썬은 인덱스의 시작이 0부터이다\n",
        "print(s[-1]) # -1은 마지막 인덱스를 가리킨다\n",
        "\n",
        "addr = \"서울시 강남구 역삼동 1번지\"\n",
        "print(addr[4:7]) # 5번째 값부터 7번째 값까지 출력"
      ],
      "metadata": {
        "colab": {
          "base_uri": "https://localhost:8080/"
        },
        "id": "4O_00VFeziTj",
        "outputId": "f641e176-4370-483a-bb25-a8a904bef2e6"
      },
      "execution_count": 3,
      "outputs": [
        {
          "output_type": "stream",
          "name": "stdout",
          "text": [
            "r\n",
            "d\n",
            "강남구\n"
          ]
        }
      ]
    },
    {
      "cell_type": "code",
      "source": [
        "# 출력\n",
        "\n",
        "print(\"출력\")\n",
        "\n",
        "when = \"저녁\"\n",
        "print(\"좋은\",when,\"입니다\")\n",
        "print(\"좋은 %s입니다\")\n",
        "print(\"좋은 {}입니다\".format(when))\n",
        "print(f\"좋은 {when}입니다\") # 가장 보기 좋은것"
      ],
      "metadata": {
        "colab": {
          "base_uri": "https://localhost:8080/"
        },
        "id": "Tus4txNk1VOe",
        "outputId": "7745c3ab-7692-4a43-e321-a0d4f15821a6"
      },
      "execution_count": 4,
      "outputs": [
        {
          "output_type": "stream",
          "name": "stdout",
          "text": [
            "출력\n",
            "좋은 저녁 입니다\n",
            "좋은 %s입니다\n",
            "좋은 저녁입니다\n",
            "좋은 저녁입니다\n"
          ]
        }
      ]
    },
    {
      "cell_type": "code",
      "source": [
        "# 여러개의 값을 한번에 저장하는 자료형들\n",
        "\n",
        "######################################################\n",
        "# 리스트:List  튜플:Tuple   딕셔너리:Dict   셋:Set   #\n",
        "######################################################\n",
        "\n",
        "# 리스트\n",
        "# 개별적 독립적인 자료가 아닌 자료들을 여러개를 모아서 사용하게 도와준다\n",
        "# 리스트에 넣는 자료를 요소(element)라고 한다\n",
        "\n",
        "# 리스트는 대괄호[]로 구성된다\n",
        "list = [1,2,3,4,5]\n",
        "print(list)\n",
        "\n",
        "# 리스트는 다양한 자료형의 데이터를 한번에 담을 수 있다.\n",
        "# 하지만 하나의 리스트에는 한가지 자료형만 저장하는게 좋다.\n",
        "list = [1,2,3,\"대한\",\"민국\"]\n",
        "print(list)\n",
        "\n",
        "score=[70,80,90,60]\n",
        "print(score)\n",
        "# 리스트는 인덱싱과 슬라이싱이 가능하다\n",
        "print(score[0]) # 인덱싱\n",
        "print(score[1:3]) # 슬라이싱\n",
        "\n",
        "# 리스트는 수정/삭제 가 가능하다\n",
        "score[0] = 100\n",
        "print(score)\n",
        "\n",
        "# 연산이 가능하다\n",
        "list_a = [1,2,3]\n",
        "list_b = [4,5,6]\n",
        "print(\"list_a = \",list_a)\n",
        "print(\"list_b = \",list_b)\n",
        "print(list_a + list_b)\n",
        "print(list_a * 3)\n",
        "print(len(list_a)) # 리스트의 길이"
      ],
      "metadata": {
        "colab": {
          "base_uri": "https://localhost:8080/"
        },
        "id": "vTM4yiVa7m8L",
        "outputId": "c7cc511c-96c2-457f-e1fe-bb2efd516140"
      },
      "execution_count": 5,
      "outputs": [
        {
          "output_type": "stream",
          "name": "stdout",
          "text": [
            "[1, 2, 3, 4, 5]\n",
            "[1, 2, 3, '대한', '민국']\n",
            "[70, 80, 90, 60]\n",
            "70\n",
            "[80, 90]\n",
            "[100, 80, 90, 60]\n",
            "list_a =  [1, 2, 3]\n",
            "list_b =  [4, 5, 6]\n",
            "[1, 2, 3, 4, 5, 6]\n",
            "[1, 2, 3, 1, 2, 3, 1, 2, 3]\n",
            "3\n"
          ]
        }
      ]
    },
    {
      "cell_type": "code",
      "source": [
        "# 리스트에서 많이 사용되는 함수들\n",
        "# append : 리스트에 요소를 추가할 때 사용, 끝에만 추가\n",
        "\n",
        "print(score)\n",
        "score.append(60)\n",
        "print(score)\n",
        "score.append(70)\n",
        "print(score)"
      ],
      "metadata": {
        "id": "DcyRnWyyFa3i"
      },
      "execution_count": null,
      "outputs": []
    },
    {
      "cell_type": "code",
      "source": [
        "# insert : 리스트에 요소를 추가할 때 사용, 특정 위치를 지정하여 추가\n",
        "\n",
        "score.insert(0,10) # 0번째에 10 추가\n",
        "print(score)"
      ],
      "metadata": {
        "id": "FPSdDTobJKCn"
      },
      "execution_count": null,
      "outputs": []
    },
    {
      "cell_type": "code",
      "source": [
        "# del : 리스트에서 데이터 삭제\n",
        "\n",
        "list_a = [0,1,2,3,4]\n",
        "del list_a[1] # 인덱스값으로 위치값 삭제\n",
        "print(list_a)\n",
        "\n",
        "del list_a[1:3]\n",
        "print(list_a)"
      ],
      "metadata": {
        "id": "nnM0pCSOMR8N"
      },
      "execution_count": null,
      "outputs": []
    },
    {
      "cell_type": "code",
      "source": [
        "# pop : 리스트에서 마지막 위치 데이터 삭제\n",
        "\n",
        "list_a.pop()\n",
        "print(list_a)"
      ],
      "metadata": {
        "id": "GG1GUzckNNef"
      },
      "execution_count": null,
      "outputs": []
    },
    {
      "cell_type": "code",
      "source": [
        "# remove : 값으로 삭제\n",
        "\n",
        "list_a=[1,2,3,1,2]\n",
        "list_a.remove(2) # remove는 요소의 값을 찾아 삭제한다\n",
        "                 # 동일한 값이 여러개 있을 경우, 하나씩 순차적으로 삭제한다\n",
        "print(list_a)\n",
        "\n",
        "# list_a,clear(1) # 동일한 값이 있어도 전부 삭제 가능하다"
      ],
      "metadata": {
        "id": "yUGyBjfEOcA8"
      },
      "execution_count": null,
      "outputs": []
    },
    {
      "cell_type": "code",
      "source": [
        "# in / not in  리스트에 존재하는 요소인지 확인\n",
        "\n",
        "list = [33,22,44,55,66,77,2]\n",
        "print(44 in list)"
      ],
      "metadata": {
        "id": "3isXkIa2Qehg"
      },
      "execution_count": null,
      "outputs": []
    }
  ]
}