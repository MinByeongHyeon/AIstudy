{
  "nbformat": 4,
  "nbformat_minor": 0,
  "metadata": {
    "colab": {
      "name": "Day2.ipynb",
      "provenance": [],
      "collapsed_sections": [],
      "authorship_tag": "ABX9TyPr45dHATVTelyQP0ljTBe1",
      "include_colab_link": true
    },
    "kernelspec": {
      "name": "python3",
      "display_name": "Python 3"
    },
    "language_info": {
      "name": "python"
    }
  },
  "cells": [
    {
      "cell_type": "markdown",
      "metadata": {
        "id": "view-in-github",
        "colab_type": "text"
      },
      "source": [
        "<a href=\"https://colab.research.google.com/github/MinByeongHyeon/ai/blob/main/Day2.ipynb\" target=\"_parent\"><img src=\"https://colab.research.google.com/assets/colab-badge.svg\" alt=\"Open In Colab\"/></a>"
      ]
    },
    {
      "cell_type": "code",
      "execution_count": null,
      "metadata": {
        "colab": {
          "base_uri": "https://localhost:8080/"
        },
        "id": "0hSm36YmnkrL",
        "outputId": "382bee1e-16ba-4f04-da02-ca052a9a1740"
      },
      "outputs": [
        {
          "output_type": "stream",
          "name": "stdout",
          "text": [
            "Hello World\n"
          ]
        }
      ],
      "source": [
        "# Review\n",
        "\n",
        "# 주석 - 코드에 대한 설명, 컴퓨터는 읽지 않고 사람만 읽을수 있음\n",
        "#        추가로 다른 용법으로는 일정 부분의 코드를 임시로 삭제하는데 사용\n",
        "#        본인이 기록한 내용을 나중에 확인할때 유용\n",
        "\n",
        "print(\"Hello World\") # 주석은 코드의 우측 혹은 바로 윗줄에 적는다"
      ]
    },
    {
      "cell_type": "code",
      "source": [
        "# 변수 - 어떤 값을 저장하는 저장소\n",
        "#        영어 대소문자, 숫자와 언더바로 이루어져 있다\n",
        "#        가급적으로 한글은 쓰지 않는다\n",
        "\n",
        "a = 10"
      ],
      "metadata": {
        "id": "an1KMRq9w8im"
      },
      "execution_count": null,
      "outputs": []
    },
    {
      "cell_type": "code",
      "source": [
        "# 인덱싱\n",
        "\n",
        "s = \"world\"\n",
        "print(s[2]) # 파이썬은 인덱스의 시작이 0부터이다\n",
        "print(s[-1]) # -1은 마지막 인덱스를 가리킨다\n",
        "\n",
        "addr = \"서울시 강남구 역삼동 1번지\"\n",
        "print(addr[4:7]) # 5번째 값부터 7번째 값까지 출력"
      ],
      "metadata": {
        "colab": {
          "base_uri": "https://localhost:8080/"
        },
        "id": "4O_00VFeziTj",
        "outputId": "4fc10edc-0f79-4fd6-c244-63a123867c5c"
      },
      "execution_count": null,
      "outputs": [
        {
          "output_type": "stream",
          "name": "stdout",
          "text": [
            "r\n",
            "d\n",
            "강남구\n"
          ]
        }
      ]
    },
    {
      "cell_type": "code",
      "source": [
        "# 출력\n",
        "\n",
        "print(\"출력\")\n",
        "\n",
        "when = \"저녁\"\n",
        "print(\"좋은\",when,\"입니다\")\n",
        "print(\"좋은 %s입니다\")\n",
        "print(\"좋은 {}입니다\".format(when))\n",
        "print(f\"좋은 {when}입니다\") # 가장 보기 좋은것"
      ],
      "metadata": {
        "colab": {
          "base_uri": "https://localhost:8080/"
        },
        "id": "Tus4txNk1VOe",
        "outputId": "579934bf-b8db-4c36-ac54-1e0e759fc1f9"
      },
      "execution_count": null,
      "outputs": [
        {
          "output_type": "stream",
          "name": "stdout",
          "text": [
            "출력\n",
            "좋은 저녁 입니다\n",
            "좋은 %s입니다\n",
            "좋은 저녁입니다\n",
            "좋은 저녁입니다\n"
          ]
        }
      ]
    },
    {
      "cell_type": "code",
      "source": [
        "# 여러개의 값을 한번에 저장하는 자료형들\n",
        "\n",
        "######################################################\n",
        "# 리스트:List  튜플:Tuple   딕셔너리:Dict   셋:Set   #\n",
        "######################################################\n",
        "\n",
        "# 리스트\n",
        "# 개별적 독립적인 자료가 아닌 자료들을 여러개를 모아서 사용하게 도와준다\n",
        "# 리스트에 넣는 자료를 요소(element)라고 한다\n",
        "\n",
        "# 리스트는 대괄호[]로 구성된다\n",
        "list = [1,2,3,4,5]\n",
        "print(list)\n",
        "\n",
        "# 리스트는 다양한 자료형의 데이터를 한번에 담을 수 있다.\n",
        "# 하지만 하나의 리스트에는 한가지 자료형만 저장하는게 좋다.\n",
        "list = [1,2,3,\"대한\",\"민국\"]\n",
        "print(list)\n",
        "\n",
        "score=[70,80,90,60]\n",
        "print(score)\n",
        "# 리스트는 인덱싱과 슬라이싱이 가능하다\n",
        "print(score[0]) # 인덱싱\n",
        "print(score[1:3]) # 슬라이싱\n",
        "\n",
        "# 리스트는 수정/삭제 가 가능하다\n",
        "score[0] = 100\n",
        "print(score)\n",
        "\n",
        "# 연산이 가능하다\n",
        "list_a = [1,2,3]\n",
        "list_b = [4,5,6]\n",
        "print(\"list_a = \",list_a)\n",
        "print(\"list_b = \",list_b)\n",
        "print(list_a + list_b)\n",
        "print(list_a * 3)\n",
        "print(len(list_a)) # 리스트의 길이"
      ],
      "metadata": {
        "colab": {
          "base_uri": "https://localhost:8080/"
        },
        "id": "vTM4yiVa7m8L",
        "outputId": "102c338b-e960-4a5e-c546-fef56bb1ed7d"
      },
      "execution_count": null,
      "outputs": [
        {
          "output_type": "stream",
          "name": "stdout",
          "text": [
            "[1, 2, 3, 4, 5]\n",
            "[1, 2, 3, '대한', '민국']\n",
            "[70, 80, 90, 60]\n",
            "70\n",
            "[80, 90]\n",
            "[100, 80, 90, 60]\n",
            "list_a =  [1, 2, 3]\n",
            "list_b =  [4, 5, 6]\n",
            "[1, 2, 3, 4, 5, 6]\n",
            "[1, 2, 3, 1, 2, 3, 1, 2, 3]\n",
            "3\n"
          ]
        }
      ]
    },
    {
      "cell_type": "code",
      "source": [
        "# 리스트에서 많이 사용되는 함수들\n",
        "# append : 리스트에 요소를 추가할 때 사용, 끝에만 추가\n",
        "\n",
        "print(score)\n",
        "score.append(60)\n",
        "print(score)\n",
        "score.append(70)\n",
        "print(score)"
      ],
      "metadata": {
        "colab": {
          "base_uri": "https://localhost:8080/"
        },
        "id": "DcyRnWyyFa3i",
        "outputId": "63b9b814-b355-47e6-ac91-0982c11a45f9"
      },
      "execution_count": null,
      "outputs": [
        {
          "output_type": "stream",
          "name": "stdout",
          "text": [
            "[100, 80, 90, 60]\n",
            "[100, 80, 90, 60, 60]\n",
            "[100, 80, 90, 60, 60, 70]\n"
          ]
        }
      ]
    },
    {
      "cell_type": "code",
      "source": [
        "# insert : 리스트에 요소를 추가할 때 사용, 특정 위치를 지정하여 추가\n",
        "\n",
        "score.insert(0,10) # 0번째에 10 추가\n",
        "print(score)"
      ],
      "metadata": {
        "colab": {
          "base_uri": "https://localhost:8080/"
        },
        "id": "FPSdDTobJKCn",
        "outputId": "4baf3fbf-5eaf-410d-dacc-dee0e00b0150"
      },
      "execution_count": null,
      "outputs": [
        {
          "output_type": "stream",
          "name": "stdout",
          "text": [
            "[10, 100, 80, 90, 60, 60, 70]\n"
          ]
        }
      ]
    },
    {
      "cell_type": "code",
      "source": [
        "# del : 리스트에서 데이터 삭제\n",
        "\n",
        "list_a = [0,1,2,3,4]\n",
        "del list_a[1] # 인덱스값으로 위치값 삭제\n",
        "print(list_a)\n",
        "\n",
        "del list_a[1:3]\n",
        "print(list_a)"
      ],
      "metadata": {
        "colab": {
          "base_uri": "https://localhost:8080/"
        },
        "id": "nnM0pCSOMR8N",
        "outputId": "a548d57f-07c7-45dd-c1ed-d9ae77ea4dc8"
      },
      "execution_count": null,
      "outputs": [
        {
          "output_type": "stream",
          "name": "stdout",
          "text": [
            "[0, 2, 3, 4]\n",
            "[0, 4]\n"
          ]
        }
      ]
    },
    {
      "cell_type": "code",
      "source": [
        "# pop : 리스트에서 마지막 위치 데이터 삭제\n",
        "\n",
        "list_a.pop()\n",
        "print(list_a)"
      ],
      "metadata": {
        "colab": {
          "base_uri": "https://localhost:8080/"
        },
        "id": "GG1GUzckNNef",
        "outputId": "a9bb2f6c-d736-433d-ee1d-e72164e9454c"
      },
      "execution_count": null,
      "outputs": [
        {
          "output_type": "stream",
          "name": "stdout",
          "text": [
            "[0]\n"
          ]
        }
      ]
    },
    {
      "cell_type": "code",
      "source": [
        "# remove : 값으로 삭제\n",
        "\n",
        "list_a=[1,2,3,1,2]\n",
        "list_a.remove(2) # remove는 요소의 값을 찾아 삭제한다\n",
        "                 # 동일한 값이 여러개 있을 경우, 하나씩 순차적으로 삭제한다\n",
        "print(list_a)\n",
        "\n",
        "# list_a,clear(1) # 동일한 값이 있어도 전부 삭제 가능하다"
      ],
      "metadata": {
        "colab": {
          "base_uri": "https://localhost:8080/"
        },
        "id": "yUGyBjfEOcA8",
        "outputId": "46b15867-5e26-4511-9fd9-aac578baf508"
      },
      "execution_count": null,
      "outputs": [
        {
          "output_type": "stream",
          "name": "stdout",
          "text": [
            "[1, 3, 1, 2]\n"
          ]
        }
      ]
    },
    {
      "cell_type": "code",
      "source": [
        "# in / not in  리스트에 존재하는 요소인지 확인\n",
        "\n",
        "list = [33,22,44,55,66,77,2]\n",
        "print(44 in list)"
      ],
      "metadata": {
        "colab": {
          "base_uri": "https://localhost:8080/"
        },
        "id": "3isXkIa2Qehg",
        "outputId": "d8cc564e-da0c-4eb3-829a-8ec96268c416"
      },
      "execution_count": null,
      "outputs": [
        {
          "output_type": "stream",
          "name": "stdout",
          "text": [
            "True\n"
          ]
        }
      ]
    },
    {
      "cell_type": "code",
      "source": [
        "# 딕셔너리\n",
        "# 리스트가 인덱스를 기반으로 값을 저장한다면 딕셔너리는 키값을 기반으로 저장한다\n",
        "\n",
        "# 중괄호{}을 사용하여 데이터를 저장한다\n",
        "# 삽입/삭제 가 가능하다\n",
        "# 순서가 없으므로 인덱싱과 슬라이싱은 불가능하다\n",
        "\n",
        "dict = {\n",
        "    \"name\":\"엔드 게임\",\n",
        "    \"type\":\"히어로 무비\",\n",
        "    \"price\":10000\n",
        "}\n",
        "print(dict)\n",
        "print(dict[\"name\"])"
      ],
      "metadata": {
        "colab": {
          "base_uri": "https://localhost:8080/"
        },
        "id": "QdbjxVw_jOpo",
        "outputId": "76a4d4cd-4241-4a0c-a492-28b7c163561d"
      },
      "execution_count": null,
      "outputs": [
        {
          "output_type": "stream",
          "name": "stdout",
          "text": [
            "{'name': '엔드 게임', 'type': '히어로 무비', 'price': 10000}\n",
            "엔드 게임\n"
          ]
        }
      ]
    },
    {
      "cell_type": "code",
      "source": [
        "dict = {\n",
        "    \"감독\":[\"안소니\",\"루소\"],\n",
        "    \"배우\":[\"타노스\",\"토르\",\"헐크\"]\n",
        "}\n",
        "print(dict[\"감독\"])"
      ],
      "metadata": {
        "colab": {
          "base_uri": "https://localhost:8080/"
        },
        "id": "K5u4czDulJW5",
        "outputId": "1e9f507a-cdf1-4f43-e916-c32385c4c984"
      },
      "execution_count": null,
      "outputs": [
        {
          "output_type": "stream",
          "name": "stdout",
          "text": [
            "['안소니', '루소']\n"
          ]
        }
      ]
    },
    {
      "cell_type": "code",
      "source": [
        "dict = {\n",
        "    \"name\":\"건조 망고\",\n",
        "    \"type\":\"절임 관리\",\n",
        "    \"ingredient\":[\"망고\",\"설탕\",\"색소\"],\n",
        "    \"origin\":\"필리핀\"\n",
        "}\n",
        "\n",
        "print(dict[\"ingredient\"])\n",
        "print(dict[\"ingredient\"][0])\n",
        "print(dict[\"ingredient\"].pop())\n"
      ],
      "metadata": {
        "colab": {
          "base_uri": "https://localhost:8080/"
        },
        "id": "2_DHAW_WmVIs",
        "outputId": "0fbe588b-9289-4f5e-832a-7e4a36af7c7c"
      },
      "execution_count": null,
      "outputs": [
        {
          "output_type": "stream",
          "name": "stdout",
          "text": [
            "['망고', '설탕', '색소']\n",
            "망고\n",
            "색소\n"
          ]
        }
      ]
    },
    {
      "cell_type": "code",
      "source": [
        "dict = {}\n",
        "print(dict)\n",
        "\n",
        "dict['name'] = \"이름\"\n",
        "dict['age'] = 30\n",
        "print(dict)\n",
        "\n",
        "del dict[\"name\"]\n",
        "print(dict)"
      ],
      "metadata": {
        "colab": {
          "base_uri": "https://localhost:8080/"
        },
        "id": "1zIVuFCMojrF",
        "outputId": "5a7b43c4-082d-4275-aac7-2ea91ffda263"
      },
      "execution_count": null,
      "outputs": [
        {
          "output_type": "stream",
          "name": "stdout",
          "text": [
            "{}\n",
            "{'name': '이름', 'age': 30}\n",
            "{'age': 30}\n"
          ]
        }
      ]
    },
    {
      "cell_type": "code",
      "source": [
        "# 딕셔너리에서 자주 등장하는 에러\n",
        "# KeyError : 딕셔너리에 없는 키값을 사용하면 나타나는 에러\n",
        "\n",
        "dict ={\n",
        "    \"name\":\"건조 망고\",\n",
        "    \"type\":\"절임 관리\",\n",
        "    \"ingredient\":[\"망고\",\"설탕\",\"색소\"],\n",
        "    \"origin\":\"필리핀\"\n",
        "}\n",
        "\n",
        "key = input(\"출력를 원하는 키값을 입력하세요 : \")\n",
        "\n",
        "if key in dict:\n",
        "  print(dict[key])\n",
        "else:\n",
        "  print(\"존재하지 않는 키값입니다\")"
      ],
      "metadata": {
        "colab": {
          "base_uri": "https://localhost:8080/"
        },
        "id": "Sv2eV4WspB46",
        "outputId": "d345e1e6-4c7b-4135-ba6f-bac1613c7eb3"
      },
      "execution_count": null,
      "outputs": [
        {
          "output_type": "stream",
          "name": "stdout",
          "text": [
            "출력를 원하는 키값을 입력하세요 : aa\n",
            "존재하지 않는 키값입니다\n"
          ]
        }
      ]
    },
    {
      "cell_type": "code",
      "source": [
        "# Set\n",
        "# 중괄호를 사용하여 작성한다\n",
        "# 중복을 허용하지 않는다. 순서가 없다. 그래서 인덱싱 슬라이싱이 불가능하다\n",
        "# set 자료형의 값을 꺼내려면 리스트나 튜플로 변환하여 사용한다\n",
        "\n",
        "set_ex1 = {1,1,1,2,2,2,2,2,2,3,3}\n",
        "print(set_ex1)"
      ],
      "metadata": {
        "colab": {
          "base_uri": "https://localhost:8080/"
        },
        "id": "LfegOxEZrb5o",
        "outputId": "95259e16-35f3-46ed-a29c-dc4911dfc956"
      },
      "execution_count": null,
      "outputs": [
        {
          "output_type": "stream",
          "name": "stdout",
          "text": [
            "{1, 2, 3}\n"
          ]
        }
      ]
    },
    {
      "cell_type": "code",
      "source": [
        "s1 = set([1,2,3])\n",
        "print(type(s1))\n",
        "print(s1)\n",
        "\n",
        "li = list(s1)\n",
        "print(type(li))\n",
        "print(li[0])"
      ],
      "metadata": {
        "colab": {
          "base_uri": "https://localhost:8080/"
        },
        "id": "h2fBlXsw3F0p",
        "outputId": "1ce59fa4-a9da-4352-da86-369095291cdc"
      },
      "execution_count": 3,
      "outputs": [
        {
          "output_type": "stream",
          "name": "stdout",
          "text": [
            "<class 'set'>\n",
            "{1, 2, 3}\n",
            "<class 'list'>\n",
            "1\n"
          ]
        }
      ]
    },
    {
      "cell_type": "code",
      "source": [
        "# A1\n",
        "num = input(\"학번을 입력하세요\")\n",
        "\n",
        "print(f'{num[0]}학년 {num[1:3]}반 {num[3:]}반 ')"
      ],
      "metadata": {
        "colab": {
          "base_uri": "https://localhost:8080/"
        },
        "id": "Xra3A8Ua5vf6",
        "outputId": "480d41da-3314-4e99-fcb6-88984cebd119"
      },
      "execution_count": 7,
      "outputs": [
        {
          "output_type": "stream",
          "name": "stdout",
          "text": [
            "학번을 입력하세요31025\n",
            "3학년 10반 25반 \n"
          ]
        }
      ]
    },
    {
      "cell_type": "code",
      "source": [
        "# A2\n",
        "\n",
        "num = input(\"차량 번호를 입력하세요\")\n",
        "\n",
        "print(\"{}의 차량번호 끝 4자리는 {}입니다.\".format(num,num[-4:]))"
      ],
      "metadata": {
        "colab": {
          "base_uri": "https://localhost:8080/"
        },
        "id": "gNnRfB6aCA9C",
        "outputId": "9d04c1d2-6604-4bc7-c93b-4646f895191f"
      },
      "execution_count": 10,
      "outputs": [
        {
          "output_type": "stream",
          "name": "stdout",
          "text": [
            "차량 번호를 입력하세요서울3가1234\n",
            "서울3가1234의 차량번호 끝 4자리는 입니다.\n"
          ]
        }
      ]
    },
    {
      "cell_type": "code",
      "source": [
        "# A3\n",
        "\n",
        "name = input(\"홀수 갯수의 문자열 입력\")\n",
        "num = int(len(name)/2)\n",
        "print(name[num])"
      ],
      "metadata": {
        "colab": {
          "base_uri": "https://localhost:8080/"
        },
        "id": "sPMb-qE7DnnO",
        "outputId": "876aec26-34bd-4522-d2b7-2ee20dfda418"
      },
      "execution_count": 12,
      "outputs": [
        {
          "output_type": "stream",
          "name": "stdout",
          "text": [
            "홀수 갯수의 문자열 입력132\n",
            "3\n"
          ]
        }
      ]
    },
    {
      "cell_type": "code",
      "source": [
        "# A4\n",
        "list_ex = [1,2,3,4,5,6,7,8,9]\n",
        "\n",
        "print(list_ex[2:8][1])"
      ],
      "metadata": {
        "colab": {
          "base_uri": "https://localhost:8080/"
        },
        "id": "ECWElcZcHzQN",
        "outputId": "89a323d8-5d1f-4809-af4a-9bccf9e96bec"
      },
      "execution_count": 15,
      "outputs": [
        {
          "output_type": "stream",
          "name": "stdout",
          "text": [
            "4\n"
          ]
        }
      ]
    },
    {
      "cell_type": "code",
      "source": [
        "# A5\n",
        "num = int(input(\"숫자를 입력하세요\"))\n",
        "if num%3:\n",
        "  print(\"{}는 3의 배수가 아닙니다\".format(num))\n",
        "else:\n",
        "  print(\"{}는 3의 배수입니다\".format(num))"
      ],
      "metadata": {
        "colab": {
          "base_uri": "https://localhost:8080/"
        },
        "id": "l8II8hZKRo8O",
        "outputId": "c0710e84-5209-4813-ac3e-9eeaa5a1cd7e"
      },
      "execution_count": 17,
      "outputs": [
        {
          "output_type": "stream",
          "name": "stdout",
          "text": [
            "숫자를 입력하세요2\n",
            "2는 3의 배수입니다\n"
          ]
        }
      ]
    },
    {
      "cell_type": "code",
      "source": [
        "num1 = int(input(\"정수1 입력\"))\n",
        "num2 = int(input(\"정수2 입력\"))\n",
        "num3 = int(input(\"정수3 입력\"))\n",
        "\n",
        "if num1>num2:\n",
        "  if num1>num3:\n",
        "    max = num1\n",
        "  else:\n",
        "    max = num3\n",
        "else:\n",
        "  if num2>num3:\n",
        "    max = num2\n",
        "  else:\n",
        "    max = num3\n",
        "\n",
        "print(\"가장 큰수는 {} 입니다\".format(max))\n"
      ],
      "metadata": {
        "colab": {
          "base_uri": "https://localhost:8080/"
        },
        "id": "1BAXnMTYU9A7",
        "outputId": "81d98974-1374-4b25-a9fd-8065efe79b25"
      },
      "execution_count": 20,
      "outputs": [
        {
          "output_type": "stream",
          "name": "stdout",
          "text": [
            "정수1 입력3\n",
            "정수2 입력5\n",
            "정수3 입력6\n",
            "가장 큰수는 2 입니다\n"
          ]
        }
      ]
    },
    {
      "cell_type": "code",
      "source": [
        "num1 = int(input(\"정수1 입력\"))\n",
        "num2 = int(input(\"정수2 입력\"))\n",
        "num3 = int(input(\"정수3 입력\"))\n",
        "\n",
        "li =[]\n",
        "li.append(num1)\n",
        "li.append(num2)\n",
        "li.append(num3)\n",
        "\n",
        "li.sort()\n",
        "\n",
        "print(li.pop())"
      ],
      "metadata": {
        "colab": {
          "base_uri": "https://localhost:8080/"
        },
        "id": "TrDayohBV4_H",
        "outputId": "0e3b021c-55b2-462f-f1e4-5b19a052c8ca"
      },
      "execution_count": 21,
      "outputs": [
        {
          "output_type": "stream",
          "name": "stdout",
          "text": [
            "정수1 입력3\n",
            "정수2 입력5\n",
            "정수3 입력1\n",
            "5\n"
          ]
        }
      ]
    }
  ]
}