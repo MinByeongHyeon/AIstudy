{
 "cells": [
  {
   "cell_type": "code",
   "execution_count": 18,
   "id": "38b25488",
   "metadata": {},
   "outputs": [
    {
     "name": "stdout",
     "output_type": "stream",
     "text": [
      "숫자를 포함한 문자열을 입력하세요 >>> 12호&\n",
      "['1', '2']\n",
      "['호', '&']\n"
     ]
    }
   ],
   "source": [
    "# (영어)알파벳과 숫자를 섞어서 입력을 받아서 숫자와 문자를 \n",
    "# 분리하여 출력하는 프로그램을 작성하시오.\n",
    "\n",
    "# [입력]\n",
    "# 숫자를 포함한 문자열을 입력하세요 >>> 123abc45\n",
    "\n",
    "# [출력]\n",
    "# 문자 : abc\n",
    "# 숫자 : 12345\n",
    "\n",
    "str = input('숫자를 포함한 문자열을 입력하세요 >>> ')\n",
    "str_li=[]\n",
    "num_li=[]\n",
    "for i in str:\n",
    "  try:\n",
    "    check = int(i)\n",
    "    num_li.append(i)\n",
    "  except:\n",
    "    str_li.append(i)\n",
    "print(num_li)\n",
    "print(str_li)"
   ]
  },
  {
   "cell_type": "code",
   "execution_count": 6,
   "id": "61b978a7",
   "metadata": {},
   "outputs": [
    {
     "name": "stdout",
     "output_type": "stream",
     "text": [
      "숫자를 포함한 문자열을 입력하세요 >>> 33jngfkjlasdi4\n",
      "문자11 : jngfkjlasdi\n",
      "숫자3 : 334\n"
     ]
    }
   ],
   "source": [
    "# 문자와 숫자의 개수를 각각 포함하여 출력하세요\n",
    "\n",
    "#숫자를 포함한 문자열을 입력하세요 >>> 1234asdf324as\n",
    "#문자(6) :  asdfas\n",
    "#숫자(7) :  1234324\n",
    "\n",
    "str = input('숫자를 포함한 문자열을 입력하세요 >>> ')\n",
    "\n",
    "al = ''\n",
    "no = ''\n",
    "\n",
    "for i in str:\n",
    "  if i.isalpha():\n",
    "    al = al + i\n",
    "  elif i.isdigit():\n",
    "    no = no + i\n",
    "\n",
    "print('문자 : ', al)\n",
    "print('숫자 : ', no)"
   ]
  },
  {
   "cell_type": "code",
   "execution_count": 17,
   "id": "c6aa2ff2",
   "metadata": {},
   "outputs": [
    {
     "name": "stdout",
     "output_type": "stream",
     "text": [
      "숫자를 포함한 문자열을 입력하세요 >>> 456\n"
     ]
    },
    {
     "ename": "TypeError",
     "evalue": "'str' object is not callable",
     "output_type": "error",
     "traceback": [
      "\u001b[1;31m---------------------------------------------------------------------------\u001b[0m",
      "\u001b[1;31mTypeError\u001b[0m                                 Traceback (most recent call last)",
      "\u001b[1;32m~\\AppData\\Local\\Temp/ipykernel_848/1585038354.py\u001b[0m in \u001b[0;36m<module>\u001b[1;34m\u001b[0m\n\u001b[0;32m     12\u001b[0m \u001b[0mcheck\u001b[0m \u001b[1;33m=\u001b[0m \u001b[1;33m[\u001b[0m\u001b[1;33m]\u001b[0m\u001b[1;33m\u001b[0m\u001b[1;33m\u001b[0m\u001b[0m\n\u001b[0;32m     13\u001b[0m \u001b[1;32mfor\u001b[0m \u001b[0mn\u001b[0m \u001b[1;32min\u001b[0m \u001b[0mrange\u001b[0m\u001b[1;33m(\u001b[0m\u001b[1;36m0\u001b[0m\u001b[1;33m,\u001b[0m\u001b[1;36m10\u001b[0m\u001b[1;33m)\u001b[0m\u001b[1;33m:\u001b[0m\u001b[1;33m\u001b[0m\u001b[1;33m\u001b[0m\u001b[0m\n\u001b[1;32m---> 14\u001b[1;33m     \u001b[0mcheck\u001b[0m\u001b[1;33m.\u001b[0m\u001b[0mappend\u001b[0m\u001b[1;33m(\u001b[0m\u001b[0mstr\u001b[0m\u001b[1;33m(\u001b[0m\u001b[0mn\u001b[0m\u001b[1;33m)\u001b[0m\u001b[1;33m)\u001b[0m\u001b[1;33m\u001b[0m\u001b[1;33m\u001b[0m\u001b[0m\n\u001b[0m\u001b[0;32m     15\u001b[0m \u001b[1;33m\u001b[0m\u001b[0m\n\u001b[0;32m     16\u001b[0m \u001b[1;33m\u001b[0m\u001b[0m\n",
      "\u001b[1;31mTypeError\u001b[0m: 'str' object is not callable"
     ]
    }
   ],
   "source": [
    "# 문자와 숫자의 개수를 각각 포함하여 출력하세요\n",
    "# 단 isalpha() isdigit() 등 is~~ 으로 시작하는 함수를 사용하지 않고 작성하시오\n",
    "\n",
    "\n",
    "# 숫자를 포함한 문자열을 입력하세요 >>> 1234asdf324as\n",
    "# 문자(6) :  asdfas\n",
    "# 숫자(7) :  1234324\n",
    "\n",
    "str = input('숫자를 포함한 문자열을 입력하세요 >>> ')\n",
    "str_li=''\n",
    "num_li=''\n",
    "check = []\n",
    "for n in range(0,10):\n",
    "    check.append(str(n))\n",
    "    \n",
    "\n",
    "for i in str:\n",
    "  if i in check:\n",
    "    num_li = num_li + i\n",
    "  else:\n",
    "    str_li = str_li + i\n",
    "print(\"nu\",num_li)\n",
    "print(\"st\",str_li)\n",
    "print(check)"
   ]
  },
  {
   "cell_type": "code",
   "execution_count": null,
   "id": "2f20193d",
   "metadata": {},
   "outputs": [],
   "source": []
  }
 ],
 "metadata": {
  "kernelspec": {
   "display_name": "Python 3 (ipykernel)",
   "language": "python",
   "name": "python3"
  },
  "language_info": {
   "codemirror_mode": {
    "name": "ipython",
    "version": 3
   },
   "file_extension": ".py",
   "mimetype": "text/x-python",
   "name": "python",
   "nbconvert_exporter": "python",
   "pygments_lexer": "ipython3",
   "version": "3.9.7"
  }
 },
 "nbformat": 4,
 "nbformat_minor": 5
}
