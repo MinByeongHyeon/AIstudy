{
 "cells": [
  {
   "cell_type": "code",
   "execution_count": null,
   "id": "b09b3da7",
   "metadata": {},
   "outputs": [],
   "source": [
    "# 231 코드 예상\n",
    "def n_plus_1 (n) :\n",
    " result = n + 1\n",
    "n_plus_1(3)\n",
    "print (result)\n",
    "\n",
    "# 결과\n",
    "result가 함수내에만 존재하므로 에러가 뜬다\n"
   ]
  },
  {
   "cell_type": "code",
   "execution_count": null,
   "id": "57de07eb",
   "metadata": {},
   "outputs": [],
   "source": [
    "# 232 make_url 함수를 정의\n",
    "def make_url(str):\n",
    "    print('www.',str,'.com')"
   ]
  },
  {
   "cell_type": "code",
   "execution_count": null,
   "id": "162f47ef",
   "metadata": {},
   "outputs": [],
   "source": [
    "# 233 make_list 함수를 정의\n",
    "def make_list(str):\n",
    "    li = []\n",
    "    for ch in str:\n",
    "        li.append(ch)\n",
    "    return li"
   ]
  },
  {
   "cell_type": "code",
   "execution_count": null,
   "id": "9861fa7e",
   "metadata": {},
   "outputs": [],
   "source": [
    "# 234 pickup_even 함수를 구현\n",
    "def pickup_even(li):\n",
    "    ans = []\n",
    "    for n in li:\n",
    "        if n % 2 == 0:\n",
    "            ans.append(n)\n",
    "    return ans\n",
    "    "
   ]
  },
  {
   "cell_type": "code",
   "execution_count": 3,
   "id": "f05aaaf4",
   "metadata": {},
   "outputs": [],
   "source": [
    "# 345 convert_int 함수를 정의\n",
    "def convert_int(str):\n",
    "    ans = \"\"\n",
    "    for ch in str:\n",
    "        if ch == \",\":\n",
    "            continue\n",
    "        ans = ans+ch\n",
    "    return int(ans)\n",
    "\n"
   ]
  },
  {
   "cell_type": "code",
   "execution_count": 4,
   "id": "972389b1",
   "metadata": {},
   "outputs": [
    {
     "name": "stdout",
     "output_type": "stream",
     "text": [
      "22\n"
     ]
    },
    {
     "data": {
      "text/plain": [
       "22"
      ]
     },
     "execution_count": 4,
     "metadata": {},
     "output_type": "execute_result"
    }
   ],
   "source": [
    "# 346 코드 결과 예측\n",
    "def 함수(num) :\n",
    " return num + 4\n",
    "a = 함수(10)\n",
    "b = 함수(a)\n",
    "c = 함수(b)\n",
    "print(c)\n",
    "\n",
    "# 예측\n",
    "22"
   ]
  },
  {
   "cell_type": "code",
   "execution_count": null,
   "id": "813e0ce4",
   "metadata": {},
   "outputs": [],
   "source": [
    "# 237 코드 결과 예측\n",
    "def 함수(num) :\n",
    " return num + 4\n",
    "c = 함수(함수(함수(10)))\n",
    "print(c)\n",
    "\n",
    "# 예측\n",
    "22"
   ]
  },
  {
   "cell_type": "code",
   "execution_count": null,
   "id": "d2bc6a70",
   "metadata": {},
   "outputs": [],
   "source": [
    "# 238 코드 결과 예측\n",
    "def 함수 1(num) :\n",
    " return num + 4\n",
    "def 함수 2(num) :\n",
    " return num * 10\n",
    "a = 함수 1(10)\n",
    "c = 함수 2(a)\n",
    "print(c)\n",
    "\n",
    "# 예측\n",
    "140"
   ]
  },
  {
   "cell_type": "code",
   "execution_count": null,
   "id": "24235e70",
   "metadata": {},
   "outputs": [],
   "source": [
    "# 239 코드 결과 예측\n",
    "def 함수 1(num) :\n",
    " return num + 4\n",
    "def 함수 2(num) :\n",
    " num = num + 2\n",
    " return 함수 1(num)\n",
    "c = 함수 2(10)\n",
    "print(c)\n",
    "\n",
    "# 예측\n",
    "16"
   ]
  },
  {
   "cell_type": "code",
   "execution_count": null,
   "id": "539ad8e4",
   "metadata": {},
   "outputs": [],
   "source": [
    "# 240 코드 결과 예측\n",
    "def 함수 0(num) :\n",
    " return num * 2\n",
    "def 함수 1(num) :\n",
    " return 함수 0(num + 2)\n",
    "def 함수 2(num) :\n",
    "    num = num + 10\n",
    " return 함수 1(num)\n",
    "c = 함수 2(2)\n",
    "print(c)\n",
    "\n",
    "\n",
    "# 예측\n",
    "24"
   ]
  },
  {
   "cell_type": "code",
   "execution_count": null,
   "id": "b08c4a9c",
   "metadata": {},
   "outputs": [],
   "source": [
    "# 296 예외 처리\n",
    "per = [\"10.31\", \"\", \"8.00\"]\n",
    "try:\n",
    "    for i in per:\n",
    "        print(float(i))\n",
    "except:\n",
    "    "
   ]
  }
 ],
 "metadata": {
  "kernelspec": {
   "display_name": "Python 3 (ipykernel)",
   "language": "python",
   "name": "python3"
  },
  "language_info": {
   "codemirror_mode": {
    "name": "ipython",
    "version": 3
   },
   "file_extension": ".py",
   "mimetype": "text/x-python",
   "name": "python",
   "nbconvert_exporter": "python",
   "pygments_lexer": "ipython3",
   "version": "3.9.7"
  }
 },
 "nbformat": 4,
 "nbformat_minor": 5
}
