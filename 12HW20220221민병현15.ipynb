{
 "cells": [
  {
   "cell_type": "code",
   "execution_count": 1,
   "id": "ce1a9669",
   "metadata": {},
   "outputs": [],
   "source": [
    "names = \"이유덕,이재영,권종표,이재영,박민호,강상희,이재영,김지완,최승혁,이성연,박영서,박민호,전경헌,송정환,김재성,이유덕,전경헌\".split(\",\")\n"
   ]
  },
  {
   "cell_type": "code",
   "execution_count": 4,
   "id": "0bc5f748",
   "metadata": {},
   "outputs": [
    {
     "name": "stdout",
     "output_type": "stream",
     "text": [
      "이씨는 6명, 김씨는 2명 입니다\n"
     ]
    }
   ],
   "source": [
    "# 1\n",
    "Lee_count = 0\n",
    "Kim_count = 0\n",
    "for name in names:\n",
    "    if name[0] == \"김\":\n",
    "        Kim_count += 1\n",
    "    elif name[0] == \"이\":\n",
    "        Lee_count += 1\n",
    "        \n",
    "print(f'이씨는 {Lee_count}명, 김씨는 {Kim_count}명 입니다')"
   ]
  },
  {
   "cell_type": "code",
   "execution_count": 6,
   "id": "0b79dd56",
   "metadata": {},
   "outputs": [
    {
     "name": "stdout",
     "output_type": "stream",
     "text": [
      "이재영은 3번 반복됬습니다.\n"
     ]
    }
   ],
   "source": [
    "# 2\n",
    "count_LJM =0\n",
    "for name in names:\n",
    "    if name == \"이재영\":\n",
    "        count_LJM += 1\n",
    "\n",
    "print(f'이재영은 {count_LJM}번 반복됬습니다.')"
   ]
  },
  {
   "cell_type": "code",
   "execution_count": 18,
   "id": "2ae778e2",
   "metadata": {},
   "outputs": [
    {
     "name": "stdout",
     "output_type": "stream",
     "text": [
      "['이유덕', '이재영', '권종표', '박민호', '강상희', '김지완', '최승혁', '이성연', '박영서', '전경헌', '송정환', '김재성']\n"
     ]
    }
   ],
   "source": [
    "# 3\n",
    "new_names = []\n",
    "for name in names:\n",
    "    if name in new_names:\n",
    "        continue\n",
    "    else:\n",
    "        new_names.append(name)\n",
    "print(new_names)"
   ]
  },
  {
   "cell_type": "code",
   "execution_count": 19,
   "id": "3b0e74bd",
   "metadata": {},
   "outputs": [
    {
     "name": "stdout",
     "output_type": "stream",
     "text": [
      "['강상희', '권종표', '김재성', '김지완', '박민호', '박영서', '송정환', '이성연', '이유덕', '이재영', '전경헌', '최승혁']\n"
     ]
    }
   ],
   "source": [
    "# 4 잘 모르겠음\n",
    "\n",
    "new_names.sort()\n",
    "\n",
    "print(new_names)\n",
    "    "
   ]
  },
  {
   "cell_type": "code",
   "execution_count": null,
   "id": "e3a2f769",
   "metadata": {},
   "outputs": [],
   "source": []
  }
 ],
 "metadata": {
  "kernelspec": {
   "display_name": "Python 3 (ipykernel)",
   "language": "python",
   "name": "python3"
  },
  "language_info": {
   "codemirror_mode": {
    "name": "ipython",
    "version": 3
   },
   "file_extension": ".py",
   "mimetype": "text/x-python",
   "name": "python",
   "nbconvert_exporter": "python",
   "pygments_lexer": "ipython3",
   "version": "3.9.7"
  }
 },
 "nbformat": 4,
 "nbformat_minor": 5
}
