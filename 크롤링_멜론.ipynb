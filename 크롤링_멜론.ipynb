{
 "cells": [
  {
   "cell_type": "code",
   "execution_count": 7,
   "id": "0a05544b",
   "metadata": {},
   "outputs": [],
   "source": [
    "from selenium import webdriver\n",
    "from bs4 import BeautifulSoup as bs\n",
    "import pandas as pd"
   ]
  },
  {
   "cell_type": "code",
   "execution_count": 2,
   "id": "93ff8f46",
   "metadata": {},
   "outputs": [],
   "source": [
    "driver = webdriver.Chrome(\"chromedriver.exe\")\n",
    "driver.get(\"https://www.melon.com/chart/index.htm\")"
   ]
  },
  {
   "cell_type": "code",
   "execution_count": 14,
   "id": "e2254f75",
   "metadata": {},
   "outputs": [],
   "source": [
    "html = driver.page_source\n",
    "soup = bs(html)"
   ]
  },
  {
   "cell_type": "code",
   "execution_count": 15,
   "id": "95555c1a",
   "metadata": {},
   "outputs": [
    {
     "data": {
      "text/plain": [
       "100"
      ]
     },
     "execution_count": 15,
     "metadata": {},
     "output_type": "execute_result"
    }
   ],
   "source": [
    "len(soup.select(\"table > tbody > tr.lst50 > td > div.wrap > div.wrap_song_info\"))"
   ]
  },
  {
   "cell_type": "code",
   "execution_count": 16,
   "id": "d82afd98",
   "metadata": {},
   "outputs": [
    {
     "data": {
      "text/plain": [
       "<div class=\"wrap_song_info\">\n",
       "<div class=\"ellipsis rank01\"><span>\n",
       "<a href=\"javascript:melon.play.playSong('1000002721',34626109);\" title=\"INVU 재생\">INVU</a>\n",
       "</span></div><br/>\n",
       "<div class=\"ellipsis rank02\">\n",
       "<a href=\"javascript:melon.link.goArtistDetail('236797');\" title=\"태연 (TAEYEON) - 페이지 이동\">태연 (TAEYEON)</a><span class=\"checkEllipsis\" style=\"display: none;\"><a href=\"javascript:melon.link.goArtistDetail('236797');\" title=\"태연 (TAEYEON) - 페이지 이동\">태연 (TAEYEON)</a></span>\n",
       "</div>\n",
       "</div>"
      ]
     },
     "execution_count": 16,
     "metadata": {},
     "output_type": "execute_result"
    }
   ],
   "source": [
    "songs = soup.select(\"table > tbody > tr.lst50 > td > div.wrap > div.wrap_song_info\")\n",
    "songs[0]"
   ]
  },
  {
   "cell_type": "code",
   "execution_count": 17,
   "id": "3b6095cf",
   "metadata": {},
   "outputs": [
    {
     "data": {
      "text/plain": [
       "'태연 (TAEYEON)'"
      ]
     },
     "execution_count": 17,
     "metadata": {},
     "output_type": "execute_result"
    }
   ],
   "source": [
    "songs[0].select(\"div > a\")[0].text"
   ]
  },
  {
   "cell_type": "code",
   "execution_count": 18,
   "id": "2a4924f8",
   "metadata": {},
   "outputs": [
    {
     "data": {
      "text/plain": [
       "'INVU'"
      ]
     },
     "execution_count": 18,
     "metadata": {},
     "output_type": "execute_result"
    }
   ],
   "source": [
    "songs[0].select(\"div > span > a\")[0].text"
   ]
  },
  {
   "cell_type": "code",
   "execution_count": 24,
   "id": "61219b95",
   "metadata": {},
   "outputs": [
    {
     "data": {
      "text/plain": [
       "[[1, 'INVU', '태연 (TAEYEON)'],\n",
       " [2, '취중고백', '김민석 (멜로망스)'],\n",
       " [3, '사랑은 늘 도망가', '임영웅'],\n",
       " [4, 'ELEVEN', 'IVE (아이브)'],\n",
       " [5, 'Step Back', 'GOT the beat'],\n",
       " [6, '회전목마 (Feat. Zion.T, 원슈타인) (Prod. Slom)', 'sokodomo'],\n",
       " [7, '호랑수월가', '탑현'],\n",
       " [8, '리무진 (Feat. MINO) (Prod. GRAY)', \"BE'O (비오)\"],\n",
       " [9, 'SMILEY (Feat. BIBI)', 'YENA (최예나)'],\n",
       " [10, 'Counting Stars (Feat. Beenzino)', \"BE'O (비오)\"],\n",
       " [11, '눈이 오잖아(Feat.헤이즈)', '이무진'],\n",
       " [12, '다정히 내 이름을 부르면', '경서예지'],\n",
       " [13, \"Can't Control Myself\", '태연 (TAEYEON)'],\n",
       " [14, 'Dreams Come True', 'aespa'],\n",
       " [15, '언제나 사랑해', '케이시 (Kassy)'],\n",
       " [16, 'STAY', 'The Kid LAROI'],\n",
       " [17, '겨울잠', '아이유'],\n",
       " [18, 'Next Level', 'aespa'],\n",
       " [19, '신호등', '이무진'],\n",
       " [20, '이제 나만 믿어요', '임영웅'],\n",
       " [21, 'strawberry moon', '아이유'],\n",
       " [22, '만남은 쉽고 이별은 어려워 (Feat. Leellamarz) (Prod. TOIL)', '베이식 (Basick)'],\n",
       " [23, '잊을 수 있을까', '노을'],\n",
       " [24, 'Savage', 'aespa'],\n",
       " [25, 'Christmas Tree', 'V'],\n",
       " [26, '그래서 그래 (Feat. 윤하)', '에픽하이 (EPIK HIGH)'],\n",
       " [27, 'abcdefu', 'GAYLE'],\n",
       " [28, '드라마', '아이유'],\n",
       " [29, 'Butter', '방탄소년단'],\n",
       " [30, '다시 사랑한다면 (김필 Ver.)', '임영웅'],\n",
       " [31, '그대라는 사치', '임영웅'],\n",
       " [32, '너를 생각해', '주시크 (Joosiq)'],\n",
       " [33, '흰눈', '먼데이 키즈 (Monday Kiz)'],\n",
       " [34, '서랍', '10CM'],\n",
       " [35, '너 아니면 안돼', '먼데이 키즈 (Monday Kiz)'],\n",
       " [36, 'Dynamite', '방탄소년단'],\n",
       " [37, '우리가 헤어져야 했던 이유', '비비 (BIBI)'],\n",
       " [38, '별빛 같은 나의 사랑아', '임영웅'],\n",
       " [39, 'OHAYO MY NIGHT', '디핵 (D-Hack)'],\n",
       " [40, 'Permission to Dance', '방탄소년단'],\n",
       " [41, '언덕나무', '이승윤'],\n",
       " [42, '잊었니', '임영웅'],\n",
       " [43, '문득', \"BE'O (비오)\"],\n",
       " [44, 'HERO', '임영웅'],\n",
       " [45, 'My Universe', 'Coldplay'],\n",
       " [46, '그런 밤 (Some Nights)', '태연 (TAEYEON)'],\n",
       " [47, '바라만 본다', 'MSG워너비(M.O.M)'],\n",
       " [48, '끝사랑', '임영웅'],\n",
       " [49, 'Weekend', '태연 (TAEYEON)'],\n",
       " [50, '네가 없는 밤 (Feat. ASH ISLAND) (Prod. GRAY)', \"BE'O (비오)\"]]"
      ]
     },
     "execution_count": 24,
     "metadata": {},
     "output_type": "execute_result"
    }
   ],
   "source": [
    "song_data = []\n",
    "rank = 1\n",
    "\n",
    "songs = soup.select(\"table > tbody > tr.lst50\")\n",
    "\n",
    "for song in songs:\n",
    "    singer = song.select(\"div> a\")[2].text.strip()\n",
    "    title = song.select(\"div.rank01>span>a\")[0].text.strip()\n",
    "    song_data.append([rank, title, singer])\n",
    "    rank += 1\n",
    "\n",
    "song_data"
   ]
  },
  {
   "cell_type": "code",
   "execution_count": 25,
   "id": "ff433e03",
   "metadata": {},
   "outputs": [
    {
     "name": "stdout",
     "output_type": "stream",
     "text": [
      "    순위                                             타이틀                   가수\n",
      "0    1                                            INVU         태연 (TAEYEON)\n",
      "1    2                                            취중고백           김민석 (멜로망스)\n",
      "2    3                                       사랑은 늘 도망가                  임영웅\n",
      "3    4                                          ELEVEN            IVE (아이브)\n",
      "4    5                                       Step Back         GOT the beat\n",
      "5    6          회전목마 (Feat. Zion.T, 원슈타인) (Prod. Slom)             sokodomo\n",
      "6    7                                           호랑수월가                   탑현\n",
      "7    8                   리무진 (Feat. MINO) (Prod. GRAY)            BE'O (비오)\n",
      "8    9                             SMILEY (Feat. BIBI)           YENA (최예나)\n",
      "9   10                 Counting Stars (Feat. Beenzino)            BE'O (비오)\n",
      "10  11                                눈이 오잖아(Feat.헤이즈)                  이무진\n",
      "11  12                                   다정히 내 이름을 부르면                 경서예지\n",
      "12  13                            Can't Control Myself         태연 (TAEYEON)\n",
      "13  14                                Dreams Come True                aespa\n",
      "14  15                                         언제나 사랑해          케이시 (Kassy)\n",
      "15  16                                            STAY        The Kid LAROI\n",
      "16  17                                             겨울잠                  아이유\n",
      "17  18                                      Next Level                aespa\n",
      "18  19                                             신호등                  이무진\n",
      "19  20                                       이제 나만 믿어요                  임영웅\n",
      "20  21                                 strawberry moon                  아이유\n",
      "21  22  만남은 쉽고 이별은 어려워 (Feat. Leellamarz) (Prod. TOIL)         베이식 (Basick)\n",
      "22  23                                        잊을 수 있을까                   노을\n",
      "23  24                                          Savage                aespa\n",
      "24  25                                  Christmas Tree                    V\n",
      "25  26                               그래서 그래 (Feat. 윤하)     에픽하이 (EPIK HIGH)\n",
      "26  27                                         abcdefu                GAYLE\n",
      "27  28                                             드라마                  아이유\n",
      "28  29                                          Butter                방탄소년단\n",
      "29  30                              다시 사랑한다면 (김필 Ver.)                  임영웅\n",
      "30  31                                         그대라는 사치                  임영웅\n",
      "31  32                                          너를 생각해         주시크 (Joosiq)\n",
      "32  33                                              흰눈  먼데이 키즈 (Monday Kiz)\n",
      "33  34                                              서랍                 10CM\n",
      "34  35                                        너 아니면 안돼  먼데이 키즈 (Monday Kiz)\n",
      "35  36                                        Dynamite                방탄소년단\n",
      "36  37                                  우리가 헤어져야 했던 이유            비비 (BIBI)\n",
      "37  38                                    별빛 같은 나의 사랑아                  임영웅\n",
      "38  39                                  OHAYO MY NIGHT          디핵 (D-Hack)\n",
      "39  40                             Permission to Dance                방탄소년단\n",
      "40  41                                            언덕나무                  이승윤\n",
      "41  42                                             잊었니                  임영웅\n",
      "42  43                                              문득            BE'O (비오)\n",
      "43  44                                            HERO                  임영웅\n",
      "44  45                                     My Universe             Coldplay\n",
      "45  46                              그런 밤 (Some Nights)         태연 (TAEYEON)\n",
      "46  47                                          바라만 본다        MSG워너비(M.O.M)\n",
      "47  48                                             끝사랑                  임영웅\n",
      "48  49                                         Weekend         태연 (TAEYEON)\n",
      "49  50         네가 없는 밤 (Feat. ASH ISLAND) (Prod. GRAY)            BE'O (비오)\n"
     ]
    }
   ],
   "source": [
    "df = pd.DataFrame(song_data, columns = ['순위','타이틀','가수'])\n",
    "print(df)\n",
    "\n",
    "df.to_excel('melon.xlsx', index=False)"
   ]
  },
  {
   "cell_type": "code",
   "execution_count": null,
   "id": "84ae0960",
   "metadata": {},
   "outputs": [],
   "source": []
  }
 ],
 "metadata": {
  "kernelspec": {
   "display_name": "Python 3 (ipykernel)",
   "language": "python",
   "name": "python3"
  },
  "language_info": {
   "codemirror_mode": {
    "name": "ipython",
    "version": 3
   },
   "file_extension": ".py",
   "mimetype": "text/x-python",
   "name": "python",
   "nbconvert_exporter": "python",
   "pygments_lexer": "ipython3",
   "version": "3.9.7"
  }
 },
 "nbformat": 4,
 "nbformat_minor": 5
}
