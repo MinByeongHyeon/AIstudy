{
 "cells": [
  {
   "cell_type": "code",
   "execution_count": 1,
   "id": "8d8576c5",
   "metadata": {},
   "outputs": [
    {
     "name": "stdout",
     "output_type": "stream",
     "text": [
      "1 2\n",
      "2 3\n",
      "3 5\n"
     ]
    },
    {
     "data": {
      "text/plain": [
       "3"
      ]
     },
     "execution_count": 1,
     "metadata": {},
     "output_type": "execute_result"
    }
   ],
   "source": [
    "# Fibonacci\n",
    "\n",
    "# 1 일반식\n",
    "\n",
    "def fib(n): # n 번째의 피보나치 수열 값을 찾는 함수\n",
    "  a, b = 1,1 \n",
    "  if n == 1 or n == 2: # 1번째 와 2번째의 값은 1\n",
    "    return 1\n",
    "  for i in range(1, n) :  # 1번째 부터 n번째 까지\n",
    "    a,b = b, a+b\n",
    "    print(a, b)  # 1  2   ,    2  3   , 3, 5\n",
    "  return a\n",
    "\n",
    "fib(4)"
   ]
  },
  {
   "cell_type": "code",
   "execution_count": 2,
   "id": "be1c2fe4",
   "metadata": {},
   "outputs": [
    {
     "data": {
      "text/plain": [
       "5"
      ]
     },
     "execution_count": 2,
     "metadata": {},
     "output_type": "execute_result"
    }
   ],
   "source": [
    "# 3 람다\n",
    "\n",
    "fib = lambda n: 1           if n <=2             else fib(n-1) + fib(n-2)\n",
    "fib(5)"
   ]
  },
  {
   "cell_type": "code",
   "execution_count": 3,
   "id": "ba776071",
   "metadata": {},
   "outputs": [
    {
     "name": "stdout",
     "output_type": "stream",
     "text": [
      "[1, 2, 3, 5, 8, 13]\n"
     ]
    }
   ],
   "source": [
    "list = []\n",
    "\n",
    "def fib(n):\n",
    "    a,b = 1,1\n",
    "    if n == 1 or n == 2: # 1번째와 2번째 값은 1\n",
    "        return 1\n",
    "    for i in range(1, n): # 1번째부터 n번째까지\n",
    "        a,b = b, a+b\n",
    "        list.append(a)\n",
    "    return list\n",
    "\n",
    "print(fib(7))"
   ]
  },
  {
   "cell_type": "code",
   "execution_count": 4,
   "id": "9b391e88",
   "metadata": {},
   "outputs": [
    {
     "name": "stdout",
     "output_type": "stream",
     "text": [
      "[1, 1, 2, 3, 5, 8]\n"
     ]
    }
   ],
   "source": [
    "def fib(n) : # n 번째의 피보나치 수열 값을 찾는 함수 \n",
    "\n",
    "  fib_list = []\n",
    "  a, b = 1, 1\n",
    "\n",
    "  for i in range(1, n+1) : # 1번째부터 n번째 까지\n",
    "\n",
    "    fib_list.append(a)\n",
    "\n",
    "    a, b = b, a + b\n",
    "\n",
    "  print(fib_list)\n",
    "\n",
    "fib(6)\n"
   ]
  },
  {
   "cell_type": "code",
   "execution_count": 6,
   "id": "e5c88bcd",
   "metadata": {},
   "outputs": [
    {
     "data": {
      "text/plain": [
       "[1, 1, 2, 3, 5]"
      ]
     },
     "execution_count": 6,
     "metadata": {},
     "output_type": "execute_result"
    }
   ],
   "source": [
    "def fib(n):\n",
    "  fibo = []\n",
    "  for i in range(n):\n",
    "    if i == 0 or i == 1:\n",
    "      fibo.append(1)\n",
    "    else:\n",
    "      num = fibo[i-1] + fibo[i-2]\n",
    "      fibo.append(num)\n",
    "  return fibo\n",
    "\n",
    "fib(5)"
   ]
  },
  {
   "cell_type": "code",
   "execution_count": null,
   "id": "cd40333a",
   "metadata": {},
   "outputs": [],
   "source": []
  },
  {
   "cell_type": "code",
   "execution_count": 7,
   "id": "3e775312",
   "metadata": {},
   "outputs": [
    {
     "data": {
      "text/plain": [
       "5"
      ]
     },
     "execution_count": 7,
     "metadata": {},
     "output_type": "execute_result"
    }
   ],
   "source": [
    "# 2 재귀 Recursive\n",
    "\n",
    "def fib(n): # n 번째의 피보나치 수열 값을 찾는 함수\n",
    "  if n == 1 or n == 2: # 1번째 와 2번째의 값은 1\n",
    "    return 1\n",
    "  else:\n",
    "    return fib(n-1) + fib(n-2)\n",
    "\n",
    "fib(5)"
   ]
  },
  {
   "cell_type": "code",
   "execution_count": 8,
   "id": "0082b6a2",
   "metadata": {},
   "outputs": [
    {
     "name": "stdout",
     "output_type": "stream",
     "text": [
      "Enter name : name\n",
      "Enter age : 4\n",
      "Enter shoe : 240\n",
      "Enter name : nim\n",
      "Enter age : 9\n",
      "Enter shoe : 180\n",
      "Enter name : tkfka\n",
      "Enter age : 12\n",
      "Enter shoe : 230\n",
      "Enter name : chris\n",
      "Enter age : 21\n",
      "Enter shoe : 220\n",
      "Enter a name : 2\n"
     ]
    },
    {
     "ename": "KeyError",
     "evalue": "'2'",
     "output_type": "error",
     "traceback": [
      "\u001b[1;31m---------------------------------------------------------------------------\u001b[0m",
      "\u001b[1;31mKeyError\u001b[0m                                  Traceback (most recent call last)",
      "\u001b[1;32m~\\AppData\\Local\\Temp/ipykernel_9820/3457790419.py\u001b[0m in \u001b[0;36m<module>\u001b[1;34m\u001b[0m\n\u001b[0;32m     12\u001b[0m \u001b[1;33m\u001b[0m\u001b[0m\n\u001b[0;32m     13\u001b[0m \u001b[0mwho\u001b[0m \u001b[1;33m=\u001b[0m \u001b[0minput\u001b[0m\u001b[1;33m(\u001b[0m\u001b[1;34m'Enter a name : '\u001b[0m\u001b[1;33m)\u001b[0m\u001b[1;33m\u001b[0m\u001b[1;33m\u001b[0m\u001b[0m\n\u001b[1;32m---> 14\u001b[1;33m \u001b[0mprint\u001b[0m\u001b[1;33m(\u001b[0m\u001b[0mdict\u001b[0m\u001b[1;33m[\u001b[0m\u001b[0mwho\u001b[0m\u001b[1;33m]\u001b[0m\u001b[1;33m)\u001b[0m\u001b[1;33m\u001b[0m\u001b[1;33m\u001b[0m\u001b[0m\n\u001b[0m",
      "\u001b[1;31mKeyError\u001b[0m: '2'"
     ]
    }
   ],
   "source": [
    "# Ask the user to enter the name, age and shoe size for four people.\n",
    "# Ask for the name of one of the people in the list and\n",
    "# display their age and shoe size.\n",
    "\n",
    "dict = {}\n",
    "\n",
    "for i in range(0,4):\n",
    "  name = input('Enter name : ')\n",
    "  age = input('Enter age : ')\n",
    "  shoe = input('Enter shoe : ')\n",
    "  dict[name]={'Age':age,'Shoe':shoe}\n",
    "\n",
    "who = input('Enter a name : ')\n",
    "print(dict[who])"
   ]
  }
 ],
 "metadata": {
  "kernelspec": {
   "display_name": "Python 3 (ipykernel)",
   "language": "python",
   "name": "python3"
  },
  "language_info": {
   "codemirror_mode": {
    "name": "ipython",
    "version": 3
   },
   "file_extension": ".py",
   "mimetype": "text/x-python",
   "name": "python",
   "nbconvert_exporter": "python",
   "pygments_lexer": "ipython3",
   "version": "3.9.7"
  }
 },
 "nbformat": 4,
 "nbformat_minor": 5
}
