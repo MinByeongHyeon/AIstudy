{
 "cells": [
  {
   "cell_type": "code",
   "execution_count": null,
   "id": "c7f65cb1",
   "metadata": {},
   "outputs": [],
   "source": [
    "# 436. What will be the output after the following statements?\n",
    "x = '' if bool(x): print('Yes') else: print('No')\n",
    "# ans : c. No"
   ]
  },
  {
   "cell_type": "code",
   "execution_count": null,
   "id": "7f520020",
   "metadata": {},
   "outputs": [],
   "source": [
    "# 437 What will be the output after the following statements?\n",
    "x = ' ' if bool(x): print('Yes') else: print('No') \n",
    "# ans : b. Yes"
   ]
  },
  {
   "cell_type": "code",
   "execution_count": null,
   "id": "3bbb6ec2",
   "metadata": {},
   "outputs": [],
   "source": [
    "# 438 What will be the output after the following statements?\n",
    "x = [] if bool(x): print('Yes') else: print('No')\n",
    "# ans : a. No"
   ]
  },
  {
   "cell_type": "code",
   "execution_count": null,
   "id": "50d24601",
   "metadata": {},
   "outputs": [],
   "source": [
    "# 439  What will be the output after the following statements?\n",
    "x = [1, 2, 3] if bool(x): print('Yes') else: print('No')\n",
    "# ans : b. Yes"
   ]
  },
  {
   "cell_type": "code",
   "execution_count": null,
   "id": "d07c7ac5",
   "metadata": {},
   "outputs": [],
   "source": [
    "# 440 What will be the output after the following statements?\n",
    "x = '' if not bool(x): print('Yes') else: print('No')\n",
    "# ans : a. Yes"
   ]
  },
  {
   "cell_type": "code",
   "execution_count": null,
   "id": "2a66d8dd",
   "metadata": {},
   "outputs": [],
   "source": [
    "# 441. What will be the output after the following statements?\n",
    "x = 'print(\"Python\")' eval(x)\n",
    "# ans :  b. print(\"Python\")"
   ]
  },
  {
   "cell_type": "code",
   "execution_count": null,
   "id": "0d9624b5",
   "metadata": {},
   "outputs": [],
   "source": [
    "# 442. What will be the output after the following statements if input entered is 45*2?\n",
    "x = input(\"Enter an expression: \") print(eval(x))\n",
    "# ans : a. 45*2"
   ]
  },
  {
   "cell_type": "code",
   "execution_count": null,
   "id": "a8927141",
   "metadata": {},
   "outputs": [],
   "source": [
    "# 443. What will be the output after the following statements?\n",
    "x = '''print(\"Python 3\", end='') print(\" is Good\")''' exec(x)\n",
    "# ans : b. Python 3 is Good"
   ]
  },
  {
   "cell_type": "code",
   "execution_count": null,
   "id": "4e58f934",
   "metadata": {},
   "outputs": [],
   "source": [
    "# 444. What will be the output after the following statements?\n",
    "a = ['a', 'b', 'c', 'A', 'B'] print(max(a))\n",
    "# ans : d. c"
   ]
  },
  {
   "cell_type": "code",
   "execution_count": null,
   "id": "0216ac4c",
   "metadata": {},
   "outputs": [],
   "source": [
    "# 445. What will be the output after the following statements?\n",
    "a = ['a', 'b', 'c', 'A', 'B'] print(min(a))\n",
    "# ans : b. A"
   ]
  },
  {
   "cell_type": "code",
   "execution_count": null,
   "id": "079cd0d9",
   "metadata": {},
   "outputs": [],
   "source": [
    "# 446. What will be the output after the following statements?\n",
    "a = ['a', 'b', 'c', '1', '2', 'A', 'B'] print(max(a))\n",
    "# ans : d. c "
   ]
  },
  {
   "cell_type": "code",
   "execution_count": null,
   "id": "7d549fef",
   "metadata": {},
   "outputs": [],
   "source": [
    "# 447. What will be the output after the following statements?\n",
    "a = ['a', 'b', 'c', '1', '2', 'A', 'B'] print(min(a)) \n",
    "# ans : c. 1 "
   ]
  },
  {
   "cell_type": "code",
   "execution_count": null,
   "id": "89ea34f5",
   "metadata": {},
   "outputs": [],
   "source": [
    "# 448. What will be the output after the following statements?\n",
    "a = [1, 2, 3] print(sum(a))\n",
    "# ans : d. 6 "
   ]
  },
  {
   "cell_type": "code",
   "execution_count": null,
   "id": "3949d3af",
   "metadata": {},
   "outputs": [],
   "source": [
    "# 449. What will be the output after the following statements?\n",
    "a = list(range(0,10,3)) print(sum(a))\n",
    "# ans : c. 18"
   ]
  },
  {
   "cell_type": "code",
   "execution_count": null,
   "id": "bcec51c7",
   "metadata": {},
   "outputs": [],
   "source": [
    "# 450. What will be the output after the following statements?\n",
    "a = list(range(10,-10,3)) print(sum(a))\n",
    "# ans : b. 0"
   ]
  },
  {
   "cell_type": "code",
   "execution_count": null,
   "id": "cb640586",
   "metadata": {},
   "outputs": [],
   "source": [
    "# 451. What will be the output after the following statements?\n",
    "a = list(range(-10,5,2)) print(sum(a))\n",
    "# ans : a. -24"
   ]
  },
  {
   "cell_type": "code",
   "execution_count": null,
   "id": "bae8e543",
   "metadata": {},
   "outputs": [],
   "source": [
    "# 452. What will be the output after the following statements?\n",
    "x = [5, 4, 3, 2, 1] y = x.copy() x[0] = 6 print(y)\n",
    "# ans : c. [5, 4, 3, 2, 1]"
   ]
  },
  {
   "cell_type": "code",
   "execution_count": null,
   "id": "58bf3502",
   "metadata": {},
   "outputs": [],
   "source": [
    "# 453. What will be the output after the following statements?\n",
    "import copy\n",
    "x = [5, 4, 3, 2, 1] y = copy.copy(x) x.append(6) print(y[0])\n",
    "# ans : b. 6"
   ]
  },
  {
   "cell_type": "code",
   "execution_count": null,
   "id": "42d142ce",
   "metadata": {},
   "outputs": [],
   "source": [
    "# 454. What will be the output after the following statements?\n",
    "import keyword print(keyword.iskeyword('IS'))\n",
    "# ans : a. True "
   ]
  },
  {
   "cell_type": "code",
   "execution_count": null,
   "id": "e70a4347",
   "metadata": {},
   "outputs": [],
   "source": [
    "# 455. What will be the output after the following statements?\n",
    "import keyword print(keyword.iskeyword('for'))\n",
    "# ans : a. True"
   ]
  },
  {
   "cell_type": "code",
   "execution_count": null,
   "id": "6405e0d7",
   "metadata": {},
   "outputs": [],
   "source": []
  },
  {
   "cell_type": "code",
   "execution_count": 7,
   "id": "d3944667",
   "metadata": {},
   "outputs": [
    {
     "name": "stdout",
     "output_type": "stream",
     "text": [
      "4000\n"
     ]
    }
   ],
   "source": [
    "check = '8'                     # 8을 확인 하기 위한 변수(안써도 되긴함)\n",
    "total = 0                       # 8이 나오는 총 갯수 변수 초기화\n",
    "for num in range(1,10000):      # 1부터 10000까지 모슨 숫자 확인\n",
    "    ch = str(num)               # 각 숫자를 문자로 변환\n",
    "                                # 이유는 문자가 확인하기 더 편하기 때문\n",
    "    for i in ch:               # 문자로 변환된 '숫자'의 각 자릿수마다 확인하는 반복문\n",
    "        if i == check:         # 각 자릿수에 check(8)이 있으면\n",
    "            total += 1         # 8 나온 횟수 카운팅\n",
    "print(total)                   # 총 나타난 8의 갯수"
   ]
  },
  {
   "cell_type": "code",
   "execution_count": null,
   "id": "c1545cea",
   "metadata": {},
   "outputs": [],
   "source": []
  }
 ],
 "metadata": {
  "kernelspec": {
   "display_name": "Python 3 (ipykernel)",
   "language": "python",
   "name": "python3"
  },
  "language_info": {
   "codemirror_mode": {
    "name": "ipython",
    "version": 3
   },
   "file_extension": ".py",
   "mimetype": "text/x-python",
   "name": "python",
   "nbconvert_exporter": "python",
   "pygments_lexer": "ipython3",
   "version": "3.9.7"
  }
 },
 "nbformat": 4,
 "nbformat_minor": 5
}
