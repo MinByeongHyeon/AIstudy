{
 "cells": [
  {
   "cell_type": "code",
   "execution_count": null,
   "id": "8288eb4f",
   "metadata": {},
   "outputs": [],
   "source": [
    "# 1. 정답 : d. No output\n",
    "# 2. 정답 : b. Module\n",
    "# 3. 정답 : c. help()\n",
    "# 4. 정답 : d. 9.0\n",
    "# 5. 정답 : c\n",
    "# 6. 정답 : b. Monty Pyhon\n",
    "# 7. 정답 : b. Guido van Rossum\n",
    "# 8. 정답 : d. Auto typing\n",
    "# 9. 정답 : c\n",
    "# 10. 정답 : b.2\\t4\n",
    "# 11.\n",
    "\n",
    "num = int(input(\" Enter the number : \"))\n",
    "def ck(num) :\n",
    "  if num%2 == 0 :\n",
    "    return \"Even\"\n",
    "  else :\n",
    "    return \"Odd\"\n",
    "ck(num)\n",
    "print(f\"{num} is {ck(num)}\")"
   ]
  }
 ],
 "metadata": {
  "kernelspec": {
   "display_name": "Python 3 (ipykernel)",
   "language": "python",
   "name": "python3"
  },
  "language_info": {
   "codemirror_mode": {
    "name": "ipython",
    "version": 3
   },
   "file_extension": ".py",
   "mimetype": "text/x-python",
   "name": "python",
   "nbconvert_exporter": "python",
   "pygments_lexer": "ipython3",
   "version": "3.9.7"
  }
 },
 "nbformat": 4,
 "nbformat_minor": 5
}
