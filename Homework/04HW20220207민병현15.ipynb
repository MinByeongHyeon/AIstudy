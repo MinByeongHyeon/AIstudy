{
 "cells": [
  {
   "cell_type": "code",
   "execution_count": null,
   "id": "908fba71",
   "metadata": {},
   "outputs": [],
   "source": [
    "# 211 함수 예측\n",
    "def 함수(문자열) :\n",
    " print(문자열)\n",
    "함수(\"안녕\")\n",
    "함수(\"Hi\")\n",
    "\n",
    "# 결과\n",
    "안녕\n",
    "Hi"
   ]
  },
  {
   "cell_type": "code",
   "execution_count": null,
   "id": "b96dc387",
   "metadata": {},
   "outputs": [],
   "source": [
    "# 212 함수예측\n",
    "def 함수(a, b) :\n",
    " print(a + b)\n",
    "함수(3, 4)\n",
    "함수(7, 8)\n",
    "\n",
    "# 결과\n",
    "7\n",
    "15"
   ]
  },
  {
   "cell_type": "code",
   "execution_count": null,
   "id": "1a0ef279",
   "metadata": {},
   "outputs": [],
   "source": [
    "# 213 에러원인 분석\n",
    "def 함수(문자열) :\n",
    " print(문자열)\n",
    "함수()\n",
    "TypeError: 함수() missing 1 required positional argument: '문자열'\n",
    "        \n",
    "# 이유\n",
    "함수에 input 을 않넣었다"
   ]
  },
  {
   "cell_type": "code",
   "execution_count": null,
   "id": "ff34029d",
   "metadata": {},
   "outputs": [],
   "source": [
    "# 214 에러원인 분석\n",
    "def 함수(a, b) :\n",
    " print(a + b)\n",
    "함수(\"안녕\", 3)\n",
    "TypeError: must be str, not int\n",
    "\n",
    "# 이유\n",
    "함수내 덧셈으로 정수형이 들어가야하는데 문자열을 넣었다"
   ]
  },
  {
   "cell_type": "code",
   "execution_count": null,
   "id": "5e9c8957",
   "metadata": {},
   "outputs": [],
   "source": [
    "# 215 print_with_smile 정의\n",
    "def print_with_smile():\n",
    "    str = input()\n",
    "    print(str + \":D\")"
   ]
  },
  {
   "cell_type": "code",
   "execution_count": null,
   "id": "179759e0",
   "metadata": {},
   "outputs": [],
   "source": [
    "# 217 print_upper_price 정의\n",
    "def print_upper_price(price):\n",
    "    print(price * 1.3)"
   ]
  },
  {
   "cell_type": "code",
   "execution_count": null,
   "id": "b1cbe83c",
   "metadata": {},
   "outputs": [],
   "source": [
    "# 218  print_sum 정의\n",
    "def  print_sum(a,b):\n",
    "    print(a+b)"
   ]
  },
  {
   "cell_type": "code",
   "execution_count": 2,
   "id": "e636986e",
   "metadata": {},
   "outputs": [],
   "source": [
    "#219 print_arithmetic_operation 정의\n",
    "def print_arithmetic_operation(a,b):\n",
    "    print(\"{} + {} = {}\".format(a,b,a+b))\n",
    "    print(\"{} - {} = {}\".format(a,b,a-b))\n",
    "    print(\"{} * {} = {}\".format(a,b,a*b))\n",
    "    print(\"{} / {} = {}\".format(a,b,a/b))"
   ]
  },
  {
   "cell_type": "code",
   "execution_count": null,
   "id": "6e528c13",
   "metadata": {},
   "outputs": [],
   "source": [
    "# 220 print_max 정의\n",
    "def print_max(a,b,c):\n",
    "    if a>b and a>c:\n",
    "        print(a)\n",
    "    elif b>c:\n",
    "        print(b)\n",
    "    else:\n",
    "        print(c)"
   ]
  },
  {
   "cell_type": "code",
   "execution_count": null,
   "id": "78b7936d",
   "metadata": {},
   "outputs": [],
   "source": [
    "# 222 print_score 정의\n",
    "def print_score (li):\n",
    "    total = 0\n",
    "    for i in li:\n",
    "        total += i\n",
    "    avg = total / len(li)"
   ]
  },
  {
   "cell_type": "code",
   "execution_count": null,
   "id": "50d47b50",
   "metadata": {},
   "outputs": [],
   "source": [
    "# 223 print_even 정의\n",
    "def print_even(li):\n",
    "    for i in li:\n",
    "        if i % 2 == 0:\n",
    "            print(i)"
   ]
  },
  {
   "cell_type": "code",
   "execution_count": 3,
   "id": "66fc34f1",
   "metadata": {},
   "outputs": [
    {
     "name": "stdout",
     "output_type": "stream",
     "text": [
      "이름\n",
      "나이\n",
      "성별\n"
     ]
    }
   ],
   "source": [
    "# 224 print_keys 정의\n",
    "def print_keys(dic):\n",
    "    for i in dic:\n",
    "        print(i)"
   ]
  },
  {
   "cell_type": "code",
   "execution_count": 7,
   "id": "3eecaa6e",
   "metadata": {},
   "outputs": [
    {
     "name": "stdout",
     "output_type": "stream",
     "text": [
      "[100, 130, 100, 100]\n"
     ]
    }
   ],
   "source": [
    "# 225 print_value_by_key 정의\n",
    "my_dict = {\"10/26\" : [100, 130, 100, 100],\n",
    " \"10/27\" : [10, 12, 10, 11]}\n",
    "def print_value_by_key(dic,key):\n",
    "    print(dic[key])"
   ]
  },
  {
   "cell_type": "code",
   "execution_count": 9,
   "id": "65627b23",
   "metadata": {},
   "outputs": [
    {
     "name": "stdout",
     "output_type": "stream",
     "text": [
      "아이엠어보\n",
      "이유알어걸\n"
     ]
    }
   ],
   "source": [
    "# 226 print_5xn(string) 정의\n",
    "def print_5xn(string):\n",
    "    check = 0\n",
    "    for a in string:\n",
    "        print(a,end='')\n",
    "        check += 1\n",
    "        if check == 5:\n",
    "            check = 0\n",
    "            print()\n",
    "print_5xn(\"아이엠어보이유알어걸\")"
   ]
  },
  {
   "cell_type": "code",
   "execution_count": 11,
   "id": "f8f48303",
   "metadata": {},
   "outputs": [
    {
     "name": "stdout",
     "output_type": "stream",
     "text": [
      "아이엠\n",
      "어보이\n",
      "유알어\n",
      "걸"
     ]
    }
   ],
   "source": [
    "# 227\n",
    "def print_5xn(string,num):\n",
    "    check = 0\n",
    "    for a in string:\n",
    "        print(a,end='')\n",
    "        check += 1\n",
    "        if check == num:\n",
    "            check = 0\n",
    "            print()\n",
    "print_5xn(\"아이엠어보이유알어걸\",3)"
   ]
  },
  {
   "cell_type": "code",
   "execution_count": null,
   "id": "bcaa63ff",
   "metadata": {},
   "outputs": [],
   "source": [
    "# 228 calc_monthly_salary(annual_salary) 정의\n",
    "def calc_monthly_salary(annual_salary):\n",
    "    return int(annual_salary/12)"
   ]
  },
  {
   "cell_type": "code",
   "execution_count": null,
   "id": "69f873f3",
   "metadata": {},
   "outputs": [],
   "source": [
    "# 229 코드 예측\n",
    "def my_print (a, b) :\n",
    " print(\"왼쪽:\", a)\n",
    " print(\"오른쪽:\", b)\n",
    "my_print(a=100, b=200)\n",
    "\n",
    "# 결과\n",
    "왼쪽: 100\n",
    "오른쪽: 200"
   ]
  },
  {
   "cell_type": "code",
   "execution_count": 12,
   "id": "f0a07516",
   "metadata": {},
   "outputs": [
    {
     "name": "stdout",
     "output_type": "stream",
     "text": [
      "왼쪽: 200\n",
      "오른쪽: 100\n"
     ]
    }
   ],
   "source": [
    "# 230 코드예측\n",
    "def my_print (a, b) :\n",
    " print(\"왼쪽:\", a)\n",
    " print(\"오른쪽:\", b)\n",
    "my_print(b=100, a=200)\n",
    "\n",
    "# 결과\n",
    "왼쪽: 200\n",
    "오른쪽: 100"
   ]
  },
  {
   "cell_type": "code",
   "execution_count": null,
   "id": "f461fb17",
   "metadata": {},
   "outputs": [],
   "source": []
  }
 ],
 "metadata": {
  "kernelspec": {
   "display_name": "Python 3 (ipykernel)",
   "language": "python",
   "name": "python3"
  },
  "language_info": {
   "codemirror_mode": {
    "name": "ipython",
    "version": 3
   },
   "file_extension": ".py",
   "mimetype": "text/x-python",
   "name": "python",
   "nbconvert_exporter": "python",
   "pygments_lexer": "ipython3",
   "version": "3.9.7"
  }
 },
 "nbformat": 4,
 "nbformat_minor": 5
}
