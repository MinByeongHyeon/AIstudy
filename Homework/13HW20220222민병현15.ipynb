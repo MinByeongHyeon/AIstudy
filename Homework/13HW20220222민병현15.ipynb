{
 "cells": [
  {
   "cell_type": "code",
   "execution_count": null,
   "id": "439c1829",
   "metadata": {},
   "outputs": [],
   "source": [
    "# 문제는 13HW.pdf 파일 참고\n",
    "\n",
    "# 1. 민병현\n",
    "# 2. 정답 : d. #\n",
    "# 3. 정답 : d. sep = \"!\"\n",
    "# 4. 정답 : b. False\n",
    "# 5. 정답 : b,2416\n",
    "# 6. 정답 : a.Integer\n",
    "# 7. 정답 : c. x will have the value of , y will have the value of 4 and z will have the value of 5\n",
    "# 8. 정답 : d.[5,4,3,2,1]\n",
    "# 9. 정답 : a.[]\n",
    "# 10. 정답 : d.Boolean\n",
    "# 11. 정답 : b. string\n",
    "\n",
    "# 12.\n",
    "num = 0\n",
    "for i in range(1,1000) :\n",
    "  if i%3 == 0 or i%5 == 0 :\n",
    "    num = num+i\n",
    "    \n",
    "print(f\"sum all the multiples of 3 or 5 below 1000 : {num}\")"
   ]
  }
 ],
 "metadata": {
  "kernelspec": {
   "display_name": "Python 3 (ipykernel)",
   "language": "python",
   "name": "python3"
  },
  "language_info": {
   "codemirror_mode": {
    "name": "ipython",
    "version": 3
   },
   "file_extension": ".py",
   "mimetype": "text/x-python",
   "name": "python",
   "nbconvert_exporter": "python",
   "pygments_lexer": "ipython3",
   "version": "3.9.7"
  }
 },
 "nbformat": 4,
 "nbformat_minor": 5
}
