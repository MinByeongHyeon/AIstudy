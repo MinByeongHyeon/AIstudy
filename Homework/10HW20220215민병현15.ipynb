{
 "cells": [
  {
   "cell_type": "code",
   "execution_count": null,
   "id": "69abafc1",
   "metadata": {},
   "outputs": [],
   "source": [
    "496. What will be the output after the following statements?\n",
    "x = ['Today', 'Sunday', 'Monday'] y = [4, 6, 8] print(y + x)\n",
    "a. ['Today', 'Sunday', 'Monday', 4, 6, 8] b. [4, 6, 8, 'Today', 'Sunday', 'Monday’]\n",
    "c. ['Today', 'Sunday', 'Monday'] d. [4, 6, 8] \n",
    "# c                                              "
   ]
  },
  {
   "cell_type": "code",
   "execution_count": null,
   "id": "b11c45e6",
   "metadata": {},
   "outputs": [],
   "source": [
    "497. What will be the output after the following statements?\n",
    "x = 'Monday' print('Mon' in x)\n",
    "a. 'Mon' in x b. 'Monday' in x c. True d. False \n",
    "# c"
   ]
  },
  {
   "cell_type": "code",
   "execution_count": null,
   "id": "5c8583e8",
   "metadata": {},
   "outputs": [],
   "source": [
    "498. What will be the output after the following statements?\n",
    "x = 'Monday' print('Day' not in x)\n",
    "a. 'Day' not in x b. 'Monday' not in x c. True d. False \n",
    "# c"
   ]
  },
  {
   "cell_type": "code",
   "execution_count": null,
   "id": "99036748",
   "metadata": {},
   "outputs": [],
   "source": [
    "499. What will be the output after the following statements?\n",
    "x = ['hot', '100', True] weather = x[0] temperature = x[1] humid = x[2] print(weather, temperature,humid)\n",
    "a. x b. ['hot', '100', True] c. 'hot', '100', True d. hot 100 True\n",
    "# d"
   ]
  },
  {
   "cell_type": "code",
   "execution_count": null,
   "id": "0a044675",
   "metadata": {},
   "outputs": [],
   "source": [
    "500. What will be the output after the following statements?\n",
    "x = ['hot', '100', True] weather, temperature, humid = x print(weather, temperature, humid)\n",
    "a. ValueError b. ['hot', '100', True] c. 'hot', '100', True d. hot 100 True\n",
    "# d "
   ]
  },
  {
   "cell_type": "code",
   "execution_count": null,
   "id": "a0d87868",
   "metadata": {},
   "outputs": [],
   "source": [
    "501. What will be the output after the following statements?\n",
    "x = ['hot', '100', True] weather, humid = x print(weather, humid)\n",
    "a. ValueError b. hot 100 c. hot True d. hot 100 True \n",
    "# a"
   ]
  },
  {
   "cell_type": "code",
   "execution_count": null,
   "id": "5fea65ad",
   "metadata": {},
   "outputs": [],
   "source": [
    "502. What will be the output after the following statements?\n",
    "x = ['hot', '100', True] x.remove('100') weather, humid = x print(weather, humid)\n",
    "a. ValueError b. hot 100 c. hot True d. hot 100 True \n",
    "# c"
   ]
  },
  {
   "cell_type": "code",
   "execution_count": null,
   "id": "b9520494",
   "metadata": {},
   "outputs": [],
   "source": [
    "503. What will be the output after the following statements?\n",
    "x = ['a', 'b', 'c', 'A', 'B', 'C'] x.sort() print(x)\n",
    "a. SortError b. ['a', 'b', 'c', 'A', 'B', 'C'] c. ['a', 'A', 'b', 'B', 'c', 'C'] d. ['A', 'B', 'C', 'a', 'b', 'c’] \n",
    "# d                                                                                     "
   ]
  },
  {
   "cell_type": "code",
   "execution_count": null,
   "id": "07f4ea52",
   "metadata": {},
   "outputs": [],
   "source": [
    "504. What will be the output after the following statements?\n",
    "x = ['a', 'b', 'c', 'A', 'B', 'C'] x.sort(key=str.lower) print(x)\n",
    "a. SortError b. ['a', 'b', 'c', 'A', 'B', 'C'] c. ['a', 'A', 'b', 'B', 'c', 'C'] d. ['A', 'B', 'C', 'a', 'b', 'c’] \n",
    "# c                                                                                     "
   ]
  },
  {
   "cell_type": "code",
   "execution_count": null,
   "id": "408fa063",
   "metadata": {},
   "outputs": [],
   "source": [
    "505. What will be the output after the following statements?\n",
    "x = ['a', 'b', 'c', 'A', 'B', 'C'] x.sort(key=str.swapcase) print(x)\n",
    "a. TypeError b. ['a', 'b', 'c', 'A', 'B', 'C'] c. ['a', 'A', 'b', 'B', 'c', 'C'] d. ['A', 'B', 'C', 'a', 'b', 'c']\n",
    "# b"
   ]
  },
  {
   "cell_type": "code",
   "execution_count": null,
   "id": "817789ec",
   "metadata": {},
   "outputs": [],
   "source": [
    "506. What will be the output after the following statements?\n",
    "x = ['a', 'b', 1, 2, 'A', 'B'] x.sort() print(x)\n",
    "a. TypeError b. ['a', 'b', 'c', 'A', 'B', 'C'] c. ['a', 'A', 'b', 'B', 'c', 'C'] d. ['A', 'B', 'C', 'a', 'b', 'c’] \n",
    "# a                                                                                     "
   ]
  },
  {
   "cell_type": "code",
   "execution_count": null,
   "id": "02c8c837",
   "metadata": {},
   "outputs": [],
   "source": [
    "507. What will be the output after the following statements?\n",
    "import random x = ['Monday', 'Tuesday', 'Wednesday', 'Thursday', 'Friday', 'Saturday', 'Sunday’]\n",
    "print(x[random.randint(0, len(x) - 1)])\n",
    "a. IndexError b. A random day from all the seven days\n",
    "c. A random day from all the days except Sunday d. A random day from all the days except Monday\n",
    "# c                   "
   ]
  },
  {
   "cell_type": "code",
   "execution_count": null,
   "id": "a0fa86c5",
   "metadata": {},
   "outputs": [],
   "source": [
    "508. What will be the output after the following statements?\n",
    "x = 'Today is a nice day' + \\ ' I will go for a walk today' print(x)\n",
    "a. SyntaxError b. Today is a nice day c. I will go for a walk today d. Today is a nice day I will go for a walk today\n",
    "# a"
   ]
  },
  {
   "cell_type": "code",
   "execution_count": null,
   "id": "6aa1da91",
   "metadata": {},
   "outputs": [],
   "source": [
    "509. What will be the output after the following statements?\n",
    "x = 'Today is a nice day' x[9] = 'not ' print(x)\n",
    "a. TypeError b. Today is a nice day c. SyntaxError d. Today is not a nice day \n",
    "# d"
   ]
  },
  {
   "cell_type": "code",
   "execution_count": null,
   "id": "06ff9940",
   "metadata": {},
   "outputs": [],
   "source": [
    "510. What will be the output after the following statements?\n",
    "x = 'Today is a nice day' y = x[:9] + 'not ' + x[9:] print(y)\n",
    "a. TypeError b. Today is a nice day c. SyntaxError d. Today is not a nice day\n",
    "# b"
   ]
  },
  {
   "cell_type": "code",
   "execution_count": null,
   "id": "c577730a",
   "metadata": {},
   "outputs": [],
   "source": [
    "511. What will be the output after the following statements?\n",
    "x = 'Today is a nice day' y = x[:9] + 'not ' + x[9:] print(x)\n",
    "a. TypeError b. Today is a nice day c. SyntaxError d. Today is not a nice day\n",
    "# a"
   ]
  },
  {
   "cell_type": "code",
   "execution_count": null,
   "id": "1ae8e0a6",
   "metadata": {},
   "outputs": [],
   "source": [
    "512. What will be the output after the following statements?\n",
    "x = 'Today is not a nice day' x = 'Today is a nice day' print(x)\n",
    "a. TypeError b. Today is a nice day c. SyntaxError d. Today is not a nice day\n",
    "# b"
   ]
  },
  {
   "cell_type": "code",
   "execution_count": null,
   "id": "2f8bcba2",
   "metadata": {},
   "outputs": [],
   "source": [
    "513. What will be the output after the following statements?\n",
    "x = ('Today', 'nice', 'day') x[1] = 'not' print(x)\n",
    "a. TypeError b. ('Today', 'nice', 'day') c. SyntaxError d. ('Today', 'not', 'nice', 'day’)\n",
    "# a                                                            "
   ]
  },
  {
   "cell_type": "code",
   "execution_count": null,
   "id": "83eaf7c3",
   "metadata": {},
   "outputs": [],
   "source": [
    "514. What will be the data type of the output after the following statements?\n",
    "x = ('Today') print(x)\n",
    "a. TypeError b. String c. Tuple d. List \n",
    "# b"
   ]
  },
  {
   "cell_type": "code",
   "execution_count": null,
   "id": "ee2ee204",
   "metadata": {},
   "outputs": [],
   "source": [
    "515. What will be the data type of the output after the following statements?\n",
    "x = ('Today',) print(x)\n",
    "a. TypeError b. String c. Tuple d. List\n",
    "# b"
   ]
  },
  {
   "cell_type": "code",
   "execution_count": null,
   "id": "632ecdc9",
   "metadata": {},
   "outputs": [],
   "source": []
  },
  {
   "cell_type": "code",
   "execution_count": 2,
   "id": "126aaefe",
   "metadata": {},
   "outputs": [
    {
     "name": "stdout",
     "output_type": "stream",
     "text": [
      "[60, 60, 60,] 는 정삼각형\n",
      "[90, 60, 30,] 는 직각 삼각형\n",
      "[45, 46, 89,] 는 예각 삼각형\n",
      "[0, 70, 110,] 는 삼각형이 아니다\n",
      "[95, 5, 90,] 는 삼각형이 아니다\n",
      "[20, 40, 120,] 는 둔각 삼각형\n"
     ]
    }
   ],
   "source": [
    "def search(x,y,z):\n",
    "    print(f'[{x}, {y}, {z},] 는 ',end='')\n",
    "    if x + y + z != 180 or 0 in [x,y,z]:\n",
    "        print('삼각형이 아니다')\n",
    "    elif 90 in [x,y,z]:\n",
    "        print('직각 삼각형')\n",
    "    elif x==60 and y==60:\n",
    "        print('정삼각형')\n",
    "    elif x>90 or y>90 or z>90:\n",
    "        print('둔각 삼각형')\n",
    "    else:\n",
    "        print('예각 삼각형')\n",
    "        \n",
    "search(60,60,60)\n",
    "search(90,60,30)\n",
    "search(45,46,89)\n",
    "search(0,70,110)\n",
    "search(95,5,90)\n",
    "search(20,40,120)\n",
    "    \n",
    "    "
   ]
  },
  {
   "cell_type": "code",
   "execution_count": null,
   "id": "00fedcd4",
   "metadata": {},
   "outputs": [],
   "source": []
  }
 ],
 "metadata": {
  "kernelspec": {
   "display_name": "Python 3 (ipykernel)",
   "language": "python",
   "name": "python3"
  },
  "language_info": {
   "codemirror_mode": {
    "name": "ipython",
    "version": 3
   },
   "file_extension": ".py",
   "mimetype": "text/x-python",
   "name": "python",
   "nbconvert_exporter": "python",
   "pygments_lexer": "ipython3",
   "version": "3.9.7"
  }
 },
 "nbformat": 4,
 "nbformat_minor": 5
}
