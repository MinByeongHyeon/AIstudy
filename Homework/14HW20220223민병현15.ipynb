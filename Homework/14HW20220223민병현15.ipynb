{
 "cells": [
  {
   "cell_type": "code",
   "execution_count": null,
   "id": "b6671f37",
   "metadata": {},
   "outputs": [],
   "source": [
    "## 14 숙제 확인\n",
    "\n",
    "# 3. 정답 : a. 17\n",
    "# 4. 정답 : A string\n",
    "# 5. 정답 : d. A function\n",
    "# 6. 정답 : b. 01234\n",
    "# 7. 정답 : a. x,y,z\n",
    "# 8. 정답 : d. (0,\"P\")(1,\"y\")(2,\"t\")(3,\"h\")(4,\"o\")(5,\"n\")\n",
    "# 9. 정답 : a. 1 6 11 16 21 \n",
    "# 10.정답 : c. infinite loop\n",
    "# 11.정답 : b. 10 45\n",
    "# 12. 정답 : b. ('flase')\n",
    "\n",
    "\n",
    "# 13.\n",
    "num = int(input(\" Enter the integer number : \"))\n",
    "\n",
    "def pr(n) :\n",
    "  caunt = 0\n",
    "  b = []\n",
    "  for i in range(1,n+1) :    \n",
    "    for j in range(1,i+1) :\n",
    "      k = i%j    \n",
    "      if k == 0 :\n",
    "        caunt += 1\n",
    "    if caunt <= 2 :\n",
    "      b.append(i)\n",
    "    caunt = 0\n",
    "  print(f\"Prime number is {b}.\")   \n",
    "pr(num)"
   ]
  }
 ],
 "metadata": {
  "kernelspec": {
   "display_name": "Python 3 (ipykernel)",
   "language": "python",
   "name": "python3"
  },
  "language_info": {
   "codemirror_mode": {
    "name": "ipython",
    "version": 3
   },
   "file_extension": ".py",
   "mimetype": "text/x-python",
   "name": "python",
   "nbconvert_exporter": "python",
   "pygments_lexer": "ipython3",
   "version": "3.9.7"
  }
 },
 "nbformat": 4,
 "nbformat_minor": 5
}
