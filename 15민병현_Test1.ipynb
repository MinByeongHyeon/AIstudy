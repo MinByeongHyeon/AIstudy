{
  "nbformat": 4,
  "nbformat_minor": 0,
  "metadata": {
    "colab": {
      "name": "15민병현_Test1.ipynb",
      "provenance": [],
      "collapsed_sections": [],
      "authorship_tag": "ABX9TyPydHOwv0N8ynKq+mvMlOBI",
      "include_colab_link": true
    },
    "kernelspec": {
      "name": "python3",
      "display_name": "Python 3"
    },
    "language_info": {
      "name": "python"
    }
  },
  "cells": [
    {
      "cell_type": "markdown",
      "metadata": {
        "id": "view-in-github",
        "colab_type": "text"
      },
      "source": [
        "<a href=\"https://colab.research.google.com/github/MinByeongHyeon/ai/blob/main/15%EB%AF%BC%EB%B3%91%ED%98%84_Test1.ipynb\" target=\"_parent\"><img src=\"https://colab.research.google.com/assets/colab-badge.svg\" alt=\"Open In Colab\"/></a>"
      ]
    },
    {
      "cell_type": "code",
      "execution_count": null,
      "metadata": {
        "colab": {
          "base_uri": "https://localhost:8080/"
        },
        "id": "XwkqLC-IkP4B",
        "outputId": "a6a1fa2a-3699-4f54-82ae-37a6176ec956"
      },
      "outputs": [
        {
          "output_type": "stream",
          "name": "stdout",
          "text": [
            "case 1 :\n",
            "Enter string : HeLLo\n",
            "The number of lowercase characters is :  2\n",
            "The number of uppercase characters is :  3\n",
            "swap case HeLLo -> hEllO\n",
            "case 2 :\n",
            "Enter string : SanFouNdry\n",
            "The number of lowercase characters is :  7\n",
            "The number of uppercase characters is :  3\n",
            "swap case SanFouNdry -> sANfOUnDRY\n"
          ]
        }
      ],
      "source": [
        "def count_ch(str_1):                            # 대소문자 카운트하는 함수\n",
        "  lower_num = 0                                 # 소문자 갯수 초기화\n",
        "  upper_num = 0                                 # 대문자 갯수 초기화\n",
        "  for ch in str_1:                              # 함수에 받은 문자열중 문자 하나하나 확인하는 반복문\n",
        "    if ch.islower():                            # 문자가 소문자인지 확인하는 if문\n",
        "      lower_num += 1                            # 소문자 갯수 증가\n",
        "    elif ch.isupper():                          # 문자가 대문자인지 확인하는 if문\n",
        "      upper_num += 1                            # 대문자 갯수 증가\n",
        "  print(\"The number of lowercase characters is : \", lower_num)    # 소문자 갯수 출력\n",
        "  print(\"The number of uppercase characters is : \", upper_num)    # 대문자 갯수 출력\n",
        "\n",
        "\n",
        "def change_ch(str_1):                            # 대소문자 바뀌는 함수\n",
        "  ans = \"\"                                       # 바뀔 문자열 초기화\n",
        "  for ch in str_1:                               # 함수에 받은 문자열중 문자 하나하나 확인하는 반복문\n",
        "    if ord(ch) >= 65 and ord(ch) <= 90:          # 아스키 코드중 소문자 범위만 확인하는 if문\n",
        "      ans = ans + chr(ord(ch)+32)                # 소문자를 대문자로 바꾸는 식\n",
        "                                                 # 아스키 코드로 대문자와 32만큼 차이 나기 때문에 32를 더해준다\n",
        "    elif ord(ch) >= 97 and ord(ch) < 122:        # 아스키 코드중 대문자 범위만 확인하는 if문\n",
        "      ans = ans + chr(ord(ch)-32)                # 소문자를 대문자로 바꾸는 식 / 소문자와 같은 방식으로 32를 빼준다\n",
        "  print(\"swap case {} -> {}\".format(str_1,ans))  # 대소문자 바뀐거 출력\n",
        "\n",
        "\n",
        "print(\"case 1 :\")\n",
        "str_ex = input(\"Enter string : \")                # 문자열 입력\n",
        "count_ch(str_ex)                                 # 대소문자 카운트 함수사용\n",
        "change_ch(str_ex)                                # 대소문자 바뀌는 함수사용\n",
        "\n",
        "print(\"case 2 :\")\n",
        "str_ex = input(\"Enter string : \")                # 문자열 입력\n",
        "count_ch(str_ex)                                 # 대소문자 카운트 함수사용\n",
        "change_ch(str_ex)                                # 대소문자 바뀌는 함수사용\n",
        "\n"
      ]
    },
    {
      "cell_type": "code",
      "source": [
        "# https://itgn.cafe24.com/\n",
        "# 시험보는곳"
      ],
      "metadata": {
        "id": "mxzzmQwVytjF"
      },
      "execution_count": null,
      "outputs": []
    },
    {
      "cell_type": "code",
      "source": [
        ""
      ],
      "metadata": {
        "id": "eqdxgBWA7Hrk"
      },
      "execution_count": null,
      "outputs": []
    }
  ]
}