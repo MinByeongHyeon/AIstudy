{
 "cells": [
  {
   "cell_type": "code",
   "execution_count": 1,
   "id": "7f4950f3",
   "metadata": {},
   "outputs": [
    {
     "name": "stdout",
     "output_type": "stream",
     "text": [
      "Enter a number >> 2\n",
      "Enter a number >> 1\n",
      "Enter a number >> 3\n",
      "Enter a number >> 5\n",
      "The last number you entered was a 5\n"
     ]
    }
   ],
   "source": [
    "# Ask the user to enter a number. Keep asking until they enter a value over 5\n",
    "# and then display the message \"The last number you entered was a [number]\"\n",
    "# and stop the program.\n",
    "\n",
    "num = 0\n",
    "\n",
    "while num < 5:\n",
    "    num = int(input('Enter a number >> '))\n",
    "\n",
    "print(f'The last number you entered was a {num}')"
   ]
  },
  {
   "cell_type": "code",
   "execution_count": 2,
   "id": "6ea87286",
   "metadata": {},
   "outputs": [
    {
     "name": "stdout",
     "output_type": "stream",
     "text": [
      "Enter a number : 2\n",
      "Enter a number : 4\n",
      "Do you want to add another number? (y/n)y\n",
      "Enter a number : 2\n",
      "Do you want to add another number? (y/n)y\n",
      "Enter a number : 3\n",
      "Do you want to add another number? (y/n)n\n",
      "The total is  11\n"
     ]
    }
   ],
   "source": [
    "# Ask the user to enter a number and then enter another number.\n",
    "# Add there two numbers together and then \n",
    "# ask  if they want to add another number. If they enter 'y', ask them to enter \n",
    "# another numbers until they do not answer 'y'. Once the loop has stopped,\n",
    "# display the total.\n",
    "\n",
    "a = int(input('Enter a number : '))\n",
    "sum = a\n",
    "again = 'y'\n",
    "while again == 'y':\n",
    "    b = int(input('Enter a number : '))\n",
    "    sum = sum + b\n",
    "    again = input('Do you want to add another number? (y/n)')\n",
    "\n",
    "print('The total is ', sum)"
   ]
  },
  {
   "cell_type": "code",
   "execution_count": 3,
   "id": "00242b50",
   "metadata": {},
   "outputs": [
    {
     "name": "stdout",
     "output_type": "stream",
     "text": [
      "Enter a name of somebody you want to invite to the party? : asd\n",
      "asd  has been invited\n",
      "Do you want to invite somebody else? (y/n)y\n",
      "Enter a name of somebody you want to invite to the party? : vgf3\n",
      "vgf3  has been invited\n",
      "Do you want to invite somebody else? (y/n)n\n",
      "You hava 2 people coming to your party\n"
     ]
    }
   ],
   "source": [
    "# Ask for the name of somebody the user wants to invite to a party.\n",
    "# After this, display the message '[name] has been invited' \n",
    "# and add 1 to the count. Then ask if they want to invite somebody else.\n",
    "# Keep repeating this until they no longer want to invite anyone else to the\n",
    "# party and then display how many people they have coming to the party.\n",
    "again = 'y'\n",
    "count = 0\n",
    "\n",
    "while again == 'y':\n",
    "    name = input('Enter a name of somebody you want to invite to the party? : ')\n",
    "    print(name, ' has been invited')\n",
    "    count += 1\n",
    "    again = input('Do you want to invite somebody else? (y/n)')\n",
    "\n",
    "print('You hava', count, 'people coming to your party')\n"
   ]
  },
  {
   "cell_type": "code",
   "execution_count": 5,
   "id": "84e55515",
   "metadata": {},
   "outputs": [
    {
     "name": "stdout",
     "output_type": "stream",
     "text": [
      "Can u guess the number I am thinking of ?40\n",
      "Too low\n",
      "another guess : 60\n",
      "Too high\n",
      "another guess : 50\n",
      "Well done, you took  3 apptmpts\n"
     ]
    }
   ],
   "source": [
    "# Create a variable called 'compnum' and set the value to 50. \n",
    "# Ask the user to enter a number. \n",
    "# while their guess is not the same as the compnum value,\n",
    "# tell them if their guess is too low or too high and ask them to have another guess.\n",
    "# If they enter the same value as compnum, \n",
    "# display the message 'Well done, you took [count] apptmpts'.\n",
    "\n",
    "compnum = 50\n",
    "\n",
    "num = int(input('Can u guess the number I am thinking of ?'))\n",
    "count = 1\n",
    "while compnum != num:\n",
    "    if num < compnum:\n",
    "        print('Too low')\n",
    "    else:\n",
    "        print('Too high')\n",
    "    count += 1\n",
    "    num = int(input('another guess : '))\n",
    "\n",
    "print('Well done, you took ',count, 'apptmpts')"
   ]
  },
  {
   "cell_type": "code",
   "execution_count": null,
   "id": "cd55c1a6",
   "metadata": {},
   "outputs": [],
   "source": [
    "# Using the song '10 green bottles', display the lines \n",
    "\n",
    "# 'There are [num] green bottles hanging on the wall, \n",
    "# [num] green bottles hanging on the wall, \n",
    "# and if 1 green bottle should accidentally fall'\n",
    "\n",
    "# Then ask the question 'how many green bottles will be hanging on the wall?'\n",
    "# If the user answers correctly, display the message\n",
    "# 'There will be [num] green bottles hanging on the wall'\n",
    "#' If they answer incorrectly, display the message \n",
    "# 'No, try again' until ghey get if right. \n",
    "# When the number of green bottles gets down to 0,\n",
    "# display the message 'There are no more green bottles hanging on the wall'\n",
    "\n",
    "num = 10\n",
    "\n",
    "while num > 0 :\n",
    "    print('There are', num, 'green bottles hanging on the wall,')\n",
    "    print(num,' green bottles hanging on the wall,') \n",
    "    print('and if 1 green bottle should accidentally fall')\n",
    "    num -= 1\n",
    "    ans = int(input('How many green bottles will be hanging on the wall?'))\n",
    "    if ans == num:\n",
    "        print('There will be', num, ' green bottles hanging on the wall')\n",
    "    else: \n",
    "        while ans != num:\n",
    "            ans = int(input('No, try again :'))\n",
    "print('There are no more green bottles hanging on the wall45')"
   ]
  },
  {
   "cell_type": "code",
   "execution_count": 7,
   "id": "bcaef6f9",
   "metadata": {},
   "outputs": [
    {
     "name": "stdout",
     "output_type": "stream",
     "text": [
      "0.3678104940800361\n"
     ]
    }
   ],
   "source": [
    "import random\n",
    "num = random.random()\n",
    "print(num)\n",
    "\n",
    "# random floating number between 0 and 1"
   ]
  },
  {
   "cell_type": "code",
   "execution_count": 8,
   "id": "80395e94",
   "metadata": {},
   "outputs": [
    {
     "name": "stdout",
     "output_type": "stream",
     "text": [
      "0\n"
     ]
    }
   ],
   "source": [
    "# Selects a random whole number between 0 and 9(inclusive)\n",
    "\n",
    "num = random.randint(0,9) #9(inclusive)\n",
    "print(num)"
   ]
  },
  {
   "cell_type": "code",
   "execution_count": 9,
   "id": "4c1b5b80",
   "metadata": {},
   "outputs": [
    {
     "name": "stdout",
     "output_type": "stream",
     "text": [
      "black\n"
     ]
    }
   ],
   "source": [
    "# Picks a random value from the options.........\n",
    "\n",
    "color = random.choice(['red','black','blue','green','white'])\n",
    "print(color)"
   ]
  },
  {
   "cell_type": "code",
   "execution_count": 10,
   "id": "f1182c7d",
   "metadata": {},
   "outputs": [
    {
     "name": "stdout",
     "output_type": "stream",
     "text": [
      "Enter (h)eads or (t)ails : t\n",
      "You win\n",
      "t\n"
     ]
    }
   ],
   "source": [
    "# Randomly choose either heads or tails ( 'h' or 't') \n",
    "# Ask the user to make their choice.\n",
    "# If their choice is the same as the randomly selected value,\n",
    "# display the message ' You Win ', otherwise display 'Bad luck'.\n",
    "# At the end, tell the user if the computer selected heads or tails.\n",
    "\n",
    "import random\n",
    "\n",
    "coin = random.choice(['h','t'])\n",
    "\n",
    "guess = input('Enter (h)eads or (t)ails : ')\n",
    "\n",
    "if coin == guess :\n",
    "    print('You win')\n",
    "else:\n",
    "    print('Bad luck')\n",
    "\n",
    "print(coin)"
   ]
  },
  {
   "cell_type": "code",
   "execution_count": 12,
   "id": "aed1b8a2",
   "metadata": {},
   "outputs": [
    {
     "name": "stdout",
     "output_type": "stream",
     "text": [
      "5 + 8 = \n",
      "Your answer : 13\n",
      "\n",
      "7 + 9 = \n",
      "Your answer : 14\n",
      "\n",
      "8 + 8 = \n",
      "Your answer : 4\n",
      "\n",
      "9 + 5 = \n",
      "Your answer : 14\n",
      "\n",
      "1 + 9 = \n",
      "Your answer : 10\n",
      "\n",
      "You scored 3 out of 5\n"
     ]
    }
   ],
   "source": [
    "# Makes a maths quiz that asks five questions \n",
    "# by randomly generating two whole numbers to make the question\n",
    "# ( [num1 + num2] )\n",
    "# Ask the user to enter the answer. \n",
    "# If they get it right add a point to their score.\n",
    "# At the end of the quiz, tell them how many they got correct out of five.\n",
    "\n",
    "# (output) ; 'You scored [score] out of 5'\n",
    "\n",
    "import random\n",
    "\n",
    "score = 0\n",
    "\n",
    "for i in range(5):\n",
    "    num1 = random.randint(1,9)\n",
    "    num2 = random.randint(1,9)\n",
    "\n",
    "    corr = num1 + num2\n",
    "\n",
    "    print(f'{num1} + {num2} = ')\n",
    "    answer = int(input('Your answer : '))\n",
    "    print()\n",
    "    if answer == corr:\n",
    "        score += 1\n",
    "\n",
    "print(f'You scored {score} out of 5')\n"
   ]
  },
  {
   "cell_type": "code",
   "execution_count": null,
   "id": "c02dfb34",
   "metadata": {},
   "outputs": [],
   "source": [
    "# Display five colors and ask the user to pick one.\n",
    "# If they pick the same as the program has chosen,\n",
    "# say 'Well done', otherwise display a witty answer which involves\n",
    "# the correct colors....like...'I bet you are GREEN with envy'\n",
    "# or 'You are probably feeling BLUE right now'.\n",
    "# Ask them to guess again: if they have still not got it right,\n",
    "# keep giving them the same clue and ask the user to enter a color\n",
    "# until they guess it correctly.\n",
    "\n"
   ]
  }
 ],
 "metadata": {
  "kernelspec": {
   "display_name": "Python 3 (ipykernel)",
   "language": "python",
   "name": "python3"
  },
  "language_info": {
   "codemirror_mode": {
    "name": "ipython",
    "version": 3
   },
   "file_extension": ".py",
   "mimetype": "text/x-python",
   "name": "python",
   "nbconvert_exporter": "python",
   "pygments_lexer": "ipython3",
   "version": "3.9.7"
  }
 },
 "nbformat": 4,
 "nbformat_minor": 5
}
