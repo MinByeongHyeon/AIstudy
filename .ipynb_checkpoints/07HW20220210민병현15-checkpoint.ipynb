{
 "cells": [
  {
   "cell_type": "code",
   "execution_count": null,
   "id": "068ed5ff",
   "metadata": {},
   "outputs": [],
   "source": [
    "# 456. What will be the output after the following statements? \n",
    "import keyword print(keyword.iskeyword('Python’))\n",
    "# d. False"
   ]
  },
  {
   "cell_type": "code",
   "execution_count": 2,
   "id": "04cd04ca",
   "metadata": {},
   "outputs": [
    {
     "name": "stdout",
     "output_type": "stream",
     "text": [
      "False\n"
     ]
    }
   ],
   "source": [
    "457. What will be the output after the following statements?\n",
    "import random x = [3, 8, 6, 5, 0] print(random.choice(x))\n",
    "# a. A random element"
   ]
  },
  {
   "cell_type": "code",
   "execution_count": 6,
   "id": "3172c426",
   "metadata": {},
   "outputs": [
    {
     "name": "stdout",
     "output_type": "stream",
     "text": [
      "6\n"
     ]
    }
   ],
   "source": [
    "458. What will be the output after the following statements?\n",
    "import random x = [3, 8, 6, 5, 0] random.shuffle(x) print(x) \n",
    "# a. A random element from the list x "
   ]
  },
  {
   "cell_type": "code",
   "execution_count": null,
   "id": "2d3bdf4e",
   "metadata": {},
   "outputs": [],
   "source": [
    "459. What will be the output after the following statements? \n",
    "import random x = [3, 8, 6, 5, 0] y = random.shuffle(x) print(y) \n",
    "# c. None"
   ]
  },
  {
   "cell_type": "code",
   "execution_count": null,
   "id": "97663ce4",
   "metadata": {},
   "outputs": [],
   "source": [
    "460. What will be the output after the following statements? \n",
    "import sys x = sys.stdout.write('Python Jobs') \n",
    "# b. Python Jobs"
   ]
  },
  {
   "cell_type": "code",
   "execution_count": null,
   "id": "05be54c1",
   "metadata": {},
   "outputs": [],
   "source": [
    "461. What will be the output after the following statements? \n",
    "import time print(time.time()) \n",
    "# a. Current time in seconds since the Epoch at 00:00:00 GMT on January 1, 1970"
   ]
  },
  {
   "cell_type": "code",
   "execution_count": null,
   "id": "d14b56e2",
   "metadata": {},
   "outputs": [],
   "source": [
    "462. What will be the data type of the output after the following statements? \n",
    "import time print(time.time()) \n",
    "# d. Float "
   ]
  },
  {
   "cell_type": "code",
   "execution_count": null,
   "id": "ab35355c",
   "metadata": {},
   "outputs": [],
   "source": [
    "463. What will be the data type of the output after the following statements? \n",
    "import time print(time.asctime()) \n",
    "# a. String"
   ]
  },
  {
   "cell_type": "code",
   "execution_count": null,
   "id": "d7247a24",
   "metadata": {},
   "outputs": [],
   "source": [
    "464. What will be the output after the following statements? \n",
    "import time print(time.asctime()) \n",
    "# b. Current date and time"
   ]
  },
  {
   "cell_type": "code",
   "execution_count": null,
   "id": "abc1b11f",
   "metadata": {},
   "outputs": [],
   "source": [
    "465. What will be the output after the following statements? \n",
    "import time y = (2016, 2, 10, 12, 45, 32, 5, 0, 0) print(time.asctime(y)) \n",
    "# c. Sat Feb 10 12:45:32 2016"
   ]
  },
  {
   "cell_type": "code",
   "execution_count": null,
   "id": "1074e5d0",
   "metadata": {},
   "outputs": [],
   "source": [
    "466. What is likely to be the output after the following statements? \n",
    "import time y = time.asctime() print(y[:3]) \n",
    "# b. A random integer number within the range of 0 to 9"
   ]
  },
  {
   "cell_type": "code",
   "execution_count": null,
   "id": "94dd1001",
   "metadata": {},
   "outputs": [],
   "source": [
    "468. What will be the output after the following statements? \n",
    "import random print(int(random.random()*10) + 1) \n",
    "# b. A random integer number within the range of 0 to 11"
   ]
  },
  {
   "cell_type": "code",
   "execution_count": null,
   "id": "ca8afe20",
   "metadata": {},
   "outputs": [],
   "source": [
    "469. What will be the output after the following statements? \n",
    "import random print(random.sample(range(20), 5)) \n",
    "# a. A list of 5 unique numbers within the range of 0 to 19"
   ]
  },
  {
   "cell_type": "code",
   "execution_count": null,
   "id": "76656b9e",
   "metadata": {},
   "outputs": [],
   "source": [
    "470. What will be the output after the following statements? \n",
    "import random print(random.sample(range(5, 20), 4)) \n",
    "# b. A list of 5 unique numbers within the range of 5 to 20"
   ]
  },
  {
   "cell_type": "code",
   "execution_count": null,
   "id": "3863e675",
   "metadata": {},
   "outputs": [],
   "source": [
    "471. What will be the output after the following statement? \n",
    "print(a) \n",
    "# d. NameError"
   ]
  },
  {
   "cell_type": "code",
   "execution_count": null,
   "id": "abc22d2b",
   "metadata": {},
   "outputs": [],
   "source": [
    "472. What will be the output after the following statement? \n",
    "a = \"Python Practice\"\n",
    "# a. SyntaxError"
   ]
  },
  {
   "cell_type": "code",
   "execution_count": null,
   "id": "e17c8270",
   "metadata": {},
   "outputs": [],
   "source": [
    "474. What is the value of the NoneType data type? \n",
    "# b. Null"
   ]
  },
  {
   "cell_type": "code",
   "execution_count": null,
   "id": "fd350edc",
   "metadata": {},
   "outputs": [],
   "source": [
    "475. What will be the output after the following statements? \n",
    "def xyz(): a = 56 xyz() print(a) \n",
    "# a. NameError"
   ]
  },
  {
   "cell_type": "code",
   "execution_count": null,
   "id": "2f8bef0b",
   "metadata": {},
   "outputs": [],
   "source": []
  },
  {
   "cell_type": "code",
   "execution_count": null,
   "id": "07fd41c8",
   "metadata": {},
   "outputs": [],
   "source": [
    "# 피보나치 수열이란, 첫 번째 항의 값이 0이고 두 번째 항의 값이 1일 때, 이후의 항들은 이전의 두 항을 더한 값으로 이루어지는 수열을 말한다.\n",
    "# 인풋을 정수 n으로 받았을때, n 이하까지의 피보나치 수열을 출력하는 프로그램을 작성하세요"
   ]
  },
  {
   "cell_type": "code",
   "execution_count": 1,
   "id": "f6562b32",
   "metadata": {},
   "outputs": [
    {
     "name": "stdout",
     "output_type": "stream",
     "text": [
      "num? : 9\n",
      "[0, 1, 1, 2, 3, 5, 8]\n"
     ]
    }
   ],
   "source": [
    "n = int(input(\"num? : \"))         #정수 입력\n",
    "c = []                            #수열을 담을 빈 리스트\n",
    "def pib(n):                       #함수기동\n",
    "    a, b = 0, 1                   #최소 수열 0,1을 입력\n",
    "    c.append(a)\n",
    "    c.append(b)\n",
    "    for i in range(n):            #입력 정수 반복문 실행\n",
    "      if a <= n:                  #입력 정수 최대값 까지 실행\n",
    "        a = c[i] + c[i+1]         #입력 번호 왼쪽 1,2번 합계 계산\n",
    "        if a <= n:                #입력 정수 이하 까지만 a 입력\n",
    "          c.append(a)    \n",
    "pib(n)\n",
    "print(c)"
   ]
  },
  {
   "cell_type": "code",
   "execution_count": null,
   "id": "38ff5df7",
   "metadata": {},
   "outputs": [],
   "source": []
  }
 ],
 "metadata": {
  "kernelspec": {
   "display_name": "Python 3 (ipykernel)",
   "language": "python",
   "name": "python3"
  },
  "language_info": {
   "codemirror_mode": {
    "name": "ipython",
    "version": 3
   },
   "file_extension": ".py",
   "mimetype": "text/x-python",
   "name": "python",
   "nbconvert_exporter": "python",
   "pygments_lexer": "ipython3",
   "version": "3.9.7"
  }
 },
 "nbformat": 4,
 "nbformat_minor": 5
}
