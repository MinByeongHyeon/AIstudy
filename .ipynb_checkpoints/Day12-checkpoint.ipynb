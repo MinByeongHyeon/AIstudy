{
 "cells": [
  {
   "cell_type": "code",
   "execution_count": 1,
   "id": "14c95ef1",
   "metadata": {},
   "outputs": [
    {
     "name": "stdout",
     "output_type": "stream",
     "text": [
      "3.14\n"
     ]
    }
   ],
   "source": [
    "# Maths\n",
    "\n",
    "num = 3.141592\n",
    "print(round(num,2)) # Display a number rounded to two decimal places."
   ]
  },
  {
   "cell_type": "code",
   "execution_count": 2,
   "id": "4286a943",
   "metadata": {},
   "outputs": [
    {
     "data": {
      "text/plain": [
       "10.0"
      ]
     },
     "execution_count": 2,
     "metadata": {},
     "output_type": "execute_result"
    }
   ],
   "source": [
    "import math\n",
    "\n",
    "math.sqrt(100)\n",
    "\n",
    "# The square root of a number but you must have the line 'import math' \n",
    "# at the top of your program for this to work. "
   ]
  },
  {
   "cell_type": "code",
   "execution_count": 3,
   "id": "5e50cad4",
   "metadata": {},
   "outputs": [
    {
     "data": {
      "text/plain": [
       "3.141592653589793"
      ]
     },
     "execution_count": 3,
     "metadata": {},
     "output_type": "execute_result"
    }
   ],
   "source": [
    "math.pi\n",
    "\n",
    "# Gives you pi to decimal places, but you must have the line 'import math'\n",
    "# at the top of your program for this to work."
   ]
  },
  {
   "cell_type": "code",
   "execution_count": 4,
   "id": "c011f97c",
   "metadata": {},
   "outputs": [
    {
     "data": {
      "text/plain": [
       "7"
      ]
     },
     "execution_count": 4,
     "metadata": {},
     "output_type": "execute_result"
    }
   ],
   "source": [
    "15 // 2\n",
    "# Whole number division. 15//2 gives the answer 7."
   ]
  },
  {
   "cell_type": "code",
   "execution_count": 5,
   "id": "7bc9e712",
   "metadata": {},
   "outputs": [
    {
     "data": {
      "text/plain": [
       "1"
      ]
     },
     "execution_count": 5,
     "metadata": {},
     "output_type": "execute_result"
    }
   ],
   "source": [
    "15 % 2\n",
    "# Finds the remainder. 15 % 2 gives the answer 1."
   ]
  },
  {
   "cell_type": "code",
   "execution_count": 6,
   "id": "aeb3a371",
   "metadata": {},
   "outputs": [
    {
     "name": "stdout",
     "output_type": "stream",
     "text": [
      "Enter a number over 500 : 530\n",
      "23.02\n"
     ]
    }
   ],
   "source": [
    "# Ask the user to enter an integer that is over 500. Work out the \n",
    "# square root of that number and display it to two decimal places.\n",
    "\n",
    "# (input) 'Enter a number over 500:'\n",
    "\n",
    "import math\n",
    "\n",
    "num = int(input('Enter a number over 500 : '))\n",
    "ans = math.sqrt(num)\n",
    "print(round(ans,2))"
   ]
  },
  {
   "cell_type": "code",
   "execution_count": 7,
   "id": "e4212939",
   "metadata": {},
   "outputs": [
    {
     "name": "stdout",
     "output_type": "stream",
     "text": [
      "Enter the radius of the circle : 5\n",
      "78.53981633974483\n"
     ]
    }
   ],
   "source": [
    "# Ask the user to enter the radius of a circle.\n",
    "# Work out the area of the circle. (pi * radius**2)\n",
    "\n",
    "# (input) 'Enter the radius of the circle : '\n",
    "\n",
    "import math\n",
    "num = int(input('Enter the radius of the circle : '))\n",
    "print(math.pi*num**2)\n"
   ]
  },
  {
   "cell_type": "code",
   "execution_count": 8,
   "id": "aa2c6b39",
   "metadata": {},
   "outputs": [
    {
     "name": "stdout",
     "output_type": "stream",
     "text": [
      "Enter a number : 5\n",
      "Enter a number : 4\n",
      "5 divided by 4 is 1 with 1 remaining\n"
     ]
    }
   ],
   "source": [
    "# Ask the user to enter two numbers. Use whole number division to divide\n",
    "# the first number by the second and also work out the remainder and \n",
    "# display the answer in a user-friendly way ...\n",
    "# if they enter 7 and 2 display'7 divided by 2 is 3 with 1 remaining'\n",
    "\n",
    "# (input) 'Enter a first number :  7\n",
    "# (input) 'Enter a second number : 2\n",
    "\n",
    "# (output) 7 divided by 2 is 3 with 1 remaining\n",
    "\n",
    "n1 = int(input('Enter a number : '))\n",
    "n2 = int(input('Enter a number : '))\n",
    "\n",
    "a = n1 // n2\n",
    "b = n1 % n2 \n",
    "\n",
    "print(f'{n1} divided by {n2} is {a} with {b} remaining')\n"
   ]
  },
  {
   "cell_type": "code",
   "execution_count": 9,
   "id": "9ff60f27",
   "metadata": {},
   "outputs": [
    {
     "name": "stdout",
     "output_type": "stream",
     "text": [
      "1) Square\n",
      "2) Triangle\n",
      "\n",
      "Enter a number :1\n",
      "Enter the length of one side : 3\n",
      "The area of your chosen shape is 9\n"
     ]
    }
   ],
   "source": [
    "# Display the following message:\n",
    "      # 1) Square\n",
    "      # 2) Triangle\n",
    "      \n",
    "      # Enter a number :\n",
    "\n",
    "# if the user enters 1, then it should ask them for the length of one of its\n",
    "# sides and display the area. If they select 2, it should ask for the base and\n",
    "# height of the triangle and display the area. If they type in anything else,\n",
    "# it should give them a suitable error message.\n",
    "print('1) Square')\n",
    "print('2) Triangle')\n",
    "print()      \n",
    "no = int(input('Enter a number :'))\n",
    "\n",
    "if no == 1:\n",
    "  side = int(input('Enter the length of one side : '))\n",
    "  area = side * side\n",
    "  print('The area of your chosen shape is', area)\n",
    "elif no == 2:\n",
    "  base = int(input('Enter the length of the base : '))\n",
    "  height = int(input('Enter the height of the triangle : '))\n",
    "  area = (base * height) / 2\n",
    "  print('The area of your chosen shape is', area)\n",
    "else:\n",
    "  print('Incorrent option selected')"
   ]
  },
  {
   "cell_type": "code",
   "execution_count": 11,
   "id": "6b47476e",
   "metadata": {},
   "outputs": [
    {
     "name": "stdout",
     "output_type": "stream",
     "text": [
      "0\n",
      "1\n",
      "2\n",
      "3\n",
      "4\n"
     ]
    }
   ],
   "source": [
    "#########################################\n",
    "# For\n",
    "#########################################\n",
    "\n",
    "# The range function is often used in for loops and lists the starting number,\n",
    "# the ending number and can also include the steps\n",
    "\n",
    "# for i in range(start, stop, step)\n",
    "\n",
    "for i in range(0,5):\n",
    "    print(i)"
   ]
  },
  {
   "cell_type": "code",
   "execution_count": 12,
   "id": "63f90395",
   "metadata": {},
   "outputs": [
    {
     "name": "stdout",
     "output_type": "stream",
     "text": [
      "0\n",
      "1\n",
      "2\n",
      "3\n",
      "4\n"
     ]
    }
   ],
   "source": [
    "for i in range(0,5,1):\n",
    "  print(i)"
   ]
  },
  {
   "cell_type": "code",
   "execution_count": 13,
   "id": "2be58416",
   "metadata": {},
   "outputs": [
    {
     "name": "stdout",
     "output_type": "stream",
     "text": [
      "0\n",
      "1\n",
      "2\n",
      "3\n",
      "4\n"
     ]
    }
   ],
   "source": [
    "no = [0,1,2,3,4]\n",
    "\n",
    "for i in no:\n",
    "  print(i)"
   ]
  },
  {
   "cell_type": "code",
   "execution_count": 14,
   "id": "7cd479b8",
   "metadata": {},
   "outputs": [
    {
     "name": "stdout",
     "output_type": "stream",
     "text": [
      "your name??? >>min\n",
      "how many??? >>3\n",
      "min\n",
      "min\n",
      "min\n"
     ]
    }
   ],
   "source": [
    "# Ask the user to enter their name and then display their name three times.\n",
    "\n",
    "# Alter program, so that it will ask the user to enter their name and a number\n",
    "# and then display their name that number of times.\n",
    "\n",
    "name = input('your name??? >>')\n",
    "no = int(input('how many??? >>'))\n",
    "for i in range(no):\n",
    "  print(name)"
   ]
  },
  {
   "cell_type": "code",
   "execution_count": 15,
   "id": "66a38029",
   "metadata": {},
   "outputs": [
    {
     "name": "stdout",
     "output_type": "stream",
     "text": [
      "Your name??? >>>minbh\n",
      "m\n",
      "i\n",
      "n\n",
      "b\n",
      "h\n"
     ]
    }
   ],
   "source": [
    "# Ask the user to enter their name and \n",
    "# display each letter in their name on a separate line.\n",
    "\n",
    "name = input('Your name??? >>>')\n",
    "\n",
    "for i in name:\n",
    "  print(i)"
   ]
  },
  {
   "cell_type": "code",
   "execution_count": 16,
   "id": "b782dbe5",
   "metadata": {},
   "outputs": [
    {
     "name": "stdout",
     "output_type": "stream",
     "text": [
      "Enter num (not over 50) 42\n",
      "50\n",
      "49\n",
      "48\n",
      "47\n",
      "46\n",
      "45\n",
      "44\n",
      "43\n",
      "42\n",
      "you entered 42\n"
     ]
    }
   ],
   "source": [
    "# Ask for a number below 50 and then count down from 50 to that number,\n",
    "# making sure you show the number they entered in the output.\n",
    "\n",
    "# 50 미만의 수를 입력 받아 50 부터 (거꾸로) 카운 다운하면서 숫자를 출력한다. \n",
    "# 입력한 숫자까지 출력하자\n",
    "\n",
    "num = int(input(\"Enter num (not over 50) \"))\n",
    "for i in range(50,num-1,-1):\n",
    "    print(i)\n",
    "print('you entered',num)\n"
   ]
  },
  {
   "cell_type": "code",
   "execution_count": 17,
   "id": "51359c57",
   "metadata": {},
   "outputs": [
    {
     "name": "stdout",
     "output_type": "stream",
     "text": [
      "Enter a number ; 3\n",
      "Do you want this number included? (y/n)y\n",
      "Enter a number ; 2\n",
      "Do you want this number included? (y/n)n\n",
      "Enter a number ; 8\n",
      "Do you want this number included? (y/n)y\n",
      "Enter a number ; \n"
     ]
    },
    {
     "ename": "ValueError",
     "evalue": "invalid literal for int() with base 10: ''",
     "output_type": "error",
     "traceback": [
      "\u001b[1;31m---------------------------------------------------------------------------\u001b[0m",
      "\u001b[1;31mValueError\u001b[0m                                Traceback (most recent call last)",
      "\u001b[1;32m~\\AppData\\Local\\Temp/ipykernel_2636/2231300329.py\u001b[0m in \u001b[0;36m<module>\u001b[1;34m\u001b[0m\n\u001b[0;32m     11\u001b[0m \u001b[0mtotal\u001b[0m \u001b[1;33m=\u001b[0m \u001b[1;36m0\u001b[0m\u001b[1;33m\u001b[0m\u001b[1;33m\u001b[0m\u001b[0m\n\u001b[0;32m     12\u001b[0m \u001b[1;32mfor\u001b[0m \u001b[0mi\u001b[0m \u001b[1;32min\u001b[0m \u001b[0mrange\u001b[0m\u001b[1;33m(\u001b[0m\u001b[1;36m5\u001b[0m\u001b[1;33m)\u001b[0m\u001b[1;33m:\u001b[0m\u001b[1;33m\u001b[0m\u001b[1;33m\u001b[0m\u001b[0m\n\u001b[1;32m---> 13\u001b[1;33m   \u001b[0mnum\u001b[0m \u001b[1;33m=\u001b[0m \u001b[0mint\u001b[0m\u001b[1;33m(\u001b[0m\u001b[0minput\u001b[0m\u001b[1;33m(\u001b[0m\u001b[1;34m'Enter a number ; '\u001b[0m\u001b[1;33m)\u001b[0m\u001b[1;33m)\u001b[0m\u001b[1;33m\u001b[0m\u001b[1;33m\u001b[0m\u001b[0m\n\u001b[0m\u001b[0;32m     14\u001b[0m   \u001b[0mans\u001b[0m \u001b[1;33m=\u001b[0m \u001b[0minput\u001b[0m\u001b[1;33m(\u001b[0m\u001b[1;34m'Do you want this number included? (y/n)'\u001b[0m\u001b[1;33m)\u001b[0m\u001b[1;33m\u001b[0m\u001b[1;33m\u001b[0m\u001b[0m\n\u001b[0;32m     15\u001b[0m   \u001b[1;32mif\u001b[0m \u001b[0mans\u001b[0m \u001b[1;33m==\u001b[0m \u001b[1;34m'y'\u001b[0m\u001b[1;33m:\u001b[0m\u001b[1;33m\u001b[0m\u001b[1;33m\u001b[0m\u001b[0m\n",
      "\u001b[1;31mValueError\u001b[0m: invalid literal for int() with base 10: ''"
     ]
    }
   ],
   "source": [
    "# Set a variable called total to 0. Ask the user to enter five numbers and after each \n",
    "# input ask them if they want that number included. \n",
    "# If they do, then add the number to the total.\n",
    "# After they have entered all five numbers, display the total.\n",
    "\n",
    "# total 변수에 0을 설정하세요\n",
    "# 5번 숫자를 입력하라고 반복 요청하고 숫자를 입력할때마다 \n",
    "# 입력한 값을 total 에 더할 것인지 묻는다. 더하길 원하는 답을 하면 total 에 더하고 \n",
    "# 아니면 더하지는 않는다. 5번 숫자를 입력하면 total  출력한다. \n",
    "\n",
    "total = 0\n",
    "for i in range(5):\n",
    "  num = int(input('Enter a number ; '))\n",
    "  ans = input('Do you want this number included? (y/n)')\n",
    "  if ans == 'y':\n",
    "    total = total + num\n",
    "    \n",
    "    "
   ]
  },
  {
   "cell_type": "code",
   "execution_count": null,
   "id": "1bb7cad3",
   "metadata": {},
   "outputs": [],
   "source": [
    "# Ask which direction the user wants to count (up or down).\n",
    "# If they select up, then ask them for the top number and then count from 1 to that number.  \n",
    "# If they select down, ask them to enter a number below 20 and then count down from 20\n",
    "# to that number. If they entered something other than up or down,\n",
    "# display the message 'i dont understand'.\n",
    "\n",
    "# 사용자가 원하는 카운트 방향(위로 또는 아래로)을 묻고\n",
    "# 만약 up을 선택하면,큰 수를 묻고 1부터 그 수까지 출력한다.\n",
    "# 만약 down을 선택하면 20미만의 수를 묻고 20부터 그 수까지를 출력한다. \n",
    "# 업 또는 다운이 아닌 것을 선택하면 'i dont understand'. 를 출력한다. \n",
    "\n",
    "direction = input('Do you wnat to count up or down? (u/d)')\n",
    "\n",
    "if direction == 'u':\n",
    "  num = int(input('What is the top number ? \" '))\n",
    "  for i in range(1, num+1):\n",
    "    print(i)\n",
    "elif direction == 'd':\n",
    "  num = int(input('Enter a number below 20 : '))\n",
    "  for i in range(20, num -1, -1):\n",
    "    print(i)\n",
    "else:\n",
    "  print(\"I don't understand\")"
   ]
  },
  {
   "cell_type": "code",
   "execution_count": null,
   "id": "5132f2fb",
   "metadata": {},
   "outputs": [],
   "source": [
    "# Ask how many people the user wants to invite to a party.\n",
    "# If they enter a number below 10, ask for the names and after each name display\n",
    "# '[name] has been invited'. \n",
    "# If they enter a number which is 10 or higher, display the message 'Too many people'\n",
    "\n",
    "# 파티에 몇 명을 초대할지 묻자.\n",
    "# 만약 10 미만으로 입력하면 그 숫자 만큼 이름을 묻고  '[name] has been invited'.를 출력한다.\n",
    "# 만약 10 이상으로 입력하면 'Too many people' 을 출력한다. \n",
    "\n",
    "no = int(input('How many ??? '))\n",
    "\n",
    "if no < 10:\n",
    "  for i in range(no):\n",
    "    name = input('Name ??? ')\n",
    "    print(name, ' has been invited')\n",
    "else:\n",
    "  print('Too many people')"
   ]
  },
  {
   "cell_type": "code",
   "execution_count": null,
   "id": "49f3547c",
   "metadata": {},
   "outputs": [],
   "source": [
    "###############################################\n",
    "# While\n",
    "\n",
    "# A while loop allows code to be repeted an unknown number of times \n",
    "# as long as a condition is being met.\n",
    "# This may be 100 times, just the once or even never\n",
    "# It is important, therefore, to make sure the correct conditions are in place\n",
    "# to run the loop before it starts.\n",
    "\n",
    "\n",
    "total = 0\n",
    "\n",
    "while total < 100:\n",
    "  num = int(input('Enter a number : '))\n",
    "  total = total + num\n",
    "print('The total is ', total)"
   ]
  },
  {
   "cell_type": "code",
   "execution_count": null,
   "id": "7b2fbf27",
   "metadata": {},
   "outputs": [],
   "source": [
    "# Set the total to 0 to start with. While the total is 50 or less,\n",
    "# ask the user to input a number. Add that number to the total and \n",
    "# print the message 'The total is....[total]. \n",
    "# Stop the loop when the total is over 50. \n",
    "\n",
    "total = 0\n",
    "\n",
    "while total <= 50:\n",
    "  no = int(input('number ? >>>'))\n",
    "  total += no\n",
    "\n",
    "print('The total is....', total-no) "
   ]
  }
 ],
 "metadata": {
  "kernelspec": {
   "display_name": "Python 3 (ipykernel)",
   "language": "python",
   "name": "python3"
  },
  "language_info": {
   "codemirror_mode": {
    "name": "ipython",
    "version": 3
   },
   "file_extension": ".py",
   "mimetype": "text/x-python",
   "name": "python",
   "nbconvert_exporter": "python",
   "pygments_lexer": "ipython3",
   "version": "3.9.7"
  }
 },
 "nbformat": 4,
 "nbformat_minor": 5
}
