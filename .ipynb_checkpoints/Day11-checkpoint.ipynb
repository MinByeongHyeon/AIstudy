{
 "cells": [
  {
   "cell_type": "code",
   "execution_count": 1,
   "id": "dc739567",
   "metadata": {},
   "outputs": [
    {
     "name": "stdout",
     "output_type": "stream",
     "text": [
      "First Name : zzz\n",
      "Hello  zzz\n"
     ]
    }
   ],
   "source": [
    "fname = input(\"First Name : \")\n",
    "print(\"Hello \",fname)"
   ]
  },
  {
   "cell_type": "code",
   "execution_count": 2,
   "id": "400716a2",
   "metadata": {},
   "outputs": [
    {
     "name": "stdout",
     "output_type": "stream",
     "text": [
      "First Name : zzz\n",
      "Sur Name : ddd\n",
      "Hello  zzz ddd\n"
     ]
    }
   ],
   "source": [
    "fname = input(\"First Name : \")\n",
    "sname = input(\"Sur Name : \")\n",
    "print(\"Hello \",name,sname)"
   ]
  },
  {
   "cell_type": "code",
   "execution_count": 4,
   "id": "138be117",
   "metadata": {},
   "outputs": [
    {
     "name": "stdout",
     "output_type": "stream",
     "text": [
      "First Number : 123\n",
      "Sur Number : 123\n",
      "total :  123123\n"
     ]
    }
   ],
   "source": [
    "fnum = input(\"First Number : \")\n",
    "snum = input(\"Sur Number : \")\n",
    "total = int(fnum + snum)\n",
    "print(\"total : \",total)"
   ]
  },
  {
   "cell_type": "code",
   "execution_count": 5,
   "id": "f964c6b2",
   "metadata": {
    "scrolled": true
   },
   "outputs": [
    {
     "name": "stdout",
     "output_type": "stream",
     "text": [
      "피자 얼마나 있음? : 6\n",
      "얼마나 먹음? : 2\n",
      "남은 피자 :  4\n"
     ]
    }
   ],
   "source": [
    "pizza_left = int(input(\"피자 얼마나 있음? : \"))\n",
    "pizza_eaten = int(input(\"얼마나 먹음? : \"))\n",
    "\n",
    "print(\"남은 피자 : \",pizza_left - pizza_eaten)\n"
   ]
  },
  {
   "cell_type": "code",
   "execution_count": 11,
   "id": "77cc7b08",
   "metadata": {},
   "outputs": [
    {
     "name": "stdout",
     "output_type": "stream",
     "text": [
      "Enter the number of days : 4\n",
      "In, 4, days there are...\n",
      "hours : 96\n",
      "minutes : 5760\n",
      "seconds : 345600\n"
     ]
    }
   ],
   "source": [
    "days = int(input('Enter the number of days : '))\n",
    "\n",
    "print(f'In, {days}, days there are...')\n",
    "print(f'hours : {days*24}')\n",
    "print(f'minutes : {days*24*60}')\n",
    "print(f'seconds : {days*24*60*60}')"
   ]
  },
  {
   "cell_type": "code",
   "execution_count": 16,
   "id": "dca912d5",
   "metadata": {},
   "outputs": [
    {
     "name": "stdout",
     "output_type": "stream",
     "text": [
      "Enter the number over 100 : 101\n",
      "Enter the number under 10 : 2\n",
      "2 goes into 101 answer 51\n"
     ]
    }
   ],
   "source": [
    "big_num = int(input('Enter the number over 100 : '))\n",
    "small_num = int(input('Enter the number under 10 : '))\n",
    "times = 1\n",
    "\n",
    "while big_num > small_num*times:\n",
    "    times += 1\n",
    "    \n",
    "print(f'{small_num} goes into {big_num} answer {times}')"
   ]
  },
  {
   "cell_type": "code",
   "execution_count": 18,
   "id": "7ec56174",
   "metadata": {},
   "outputs": [
    {
     "name": "stdout",
     "output_type": "stream",
     "text": [
      "Enter the number between 10 and 20 : 1\n",
      "Error\n"
     ]
    }
   ],
   "source": [
    "num = int(input('Enter the number between 10 and 20 : '))\n",
    "if num <=20 and num >=10:\n",
    "    print(\"Tk\")\n",
    "else:\n",
    "    print(\"Error\")"
   ]
  },
  {
   "cell_type": "code",
   "execution_count": 21,
   "id": "94d0797d",
   "metadata": {},
   "outputs": [
    {
     "name": "stdout",
     "output_type": "stream",
     "text": [
      "Enter the favorite color : red\n",
      "me, too\n"
     ]
    }
   ],
   "source": [
    "color = input('Enter the favorite color : ')\n",
    "if color in ['Red','red','RED']:\n",
    "    print('me, too')\n",
    "else:\n",
    "    print('no')"
   ]
  },
  {
   "cell_type": "code",
   "execution_count": 25,
   "id": "a6d1b2e5",
   "metadata": {},
   "outputs": [
    {
     "name": "stdout",
     "output_type": "stream",
     "text": [
      "Is it raining ?yes\n",
      "Is it windy ?yes\n",
      "It is too windy for an umbrella\n"
     ]
    }
   ],
   "source": [
    "raining = input('Is it raining ?')\n",
    "raining = str.lower(raining)\n",
    "\n",
    "if raining == 'yes':\n",
    "    windy= input('Is it windy ?')\n",
    "    windy = str.lower(windy)\n",
    "    if windy == 'yes':\n",
    "        print('It is too windy for an umbrella')\n",
    "    else:\n",
    "        print('Take an umbrella')\n",
    "else:\n",
    "    print('Enjoy your day')"
   ]
  },
  {
   "cell_type": "code",
   "execution_count": 26,
   "id": "b046b693",
   "metadata": {},
   "outputs": [
    {
     "name": "stdout",
     "output_type": "stream",
     "text": [
      "What is your age ?27\n",
      "You can vote\n"
     ]
    }
   ],
   "source": [
    "age = int(input('What is your age ?'))\n",
    "\n",
    "if age >= 18:\n",
    "    print('You can vote')\n",
    "elif age == 17:\n",
    "    print('You can learn to drive')\n",
    "elif age == 16:\n",
    "    print('You can by a lottery ticket')\n",
    "else:\n",
    "    print('You can go Trick or Treating')"
   ]
  },
  {
   "cell_type": "code",
   "execution_count": 28,
   "id": "5c4f8dac",
   "metadata": {},
   "outputs": [
    {
     "name": "stdout",
     "output_type": "stream",
     "text": [
      "name?myanmemd\n",
      "8\n"
     ]
    }
   ],
   "source": [
    "name = input('name?')\n",
    "print(len(name))"
   ]
  },
  {
   "cell_type": "code",
   "execution_count": 29,
   "id": "1cc01e02",
   "metadata": {},
   "outputs": [
    {
     "name": "stdout",
     "output_type": "stream",
     "text": [
      "First name ? >>>Min\n",
      "Last name ? >>>Byo\n",
      "MINBYO\n"
     ]
    }
   ],
   "source": [
    "fname = input('First name ? >>>')\n",
    "\n",
    "if len(fname) < 5:\n",
    "    lname = input('Last name ? >>>')\n",
    "    name = fname + lname\n",
    "    print(name.upper())\n",
    "else:\n",
    "    print(fname.lower())\n",
    "  "
   ]
  },
  {
   "cell_type": "code",
   "execution_count": 35,
   "id": "4a24558a",
   "metadata": {},
   "outputs": [
    {
     "name": "stdout",
     "output_type": "stream",
     "text": [
      "str : apple\n",
      "ppleway\n"
     ]
    }
   ],
   "source": [
    "# Pig Latin takes the first consonant of a word,\n",
    "# moves it to the end of the word and adds on an 'ay'.\n",
    "# If a word begins with a vowel you just add 'way' to the end.\n",
    "\n",
    "eng_ex = input('str : ')\n",
    "pig_latin = ''\n",
    "check = 0                      ##  첫글자 확인용\n",
    "for ch in eng_ex:\n",
    "    check += 1\n",
    "    if check == 1:\n",
    "        continue\n",
    "    else:\n",
    "        pig_latin += ch\n",
    "        \n",
    "            \n",
    "            \n",
    "if eng_ex[0] in ['a','i','o','u','e']:\n",
    "    pig_latin += 'way'\n",
    "else:\n",
    "    pig_latin += eng_ex[0] + 'ay'\n",
    "    \n",
    "print(pig_latin)"
   ]
  },
  {
   "cell_type": "code",
   "execution_count": null,
   "id": "87b6be84",
   "metadata": {},
   "outputs": [],
   "source": []
  },
  {
   "cell_type": "code",
   "execution_count": null,
   "id": "c2e4fa08",
   "metadata": {},
   "outputs": [],
   "source": []
  },
  {
   "cell_type": "code",
   "execution_count": null,
   "id": "abe80ca2",
   "metadata": {},
   "outputs": [],
   "source": []
  }
 ],
 "metadata": {
  "kernelspec": {
   "display_name": "Python 3 (ipykernel)",
   "language": "python",
   "name": "python3"
  },
  "language_info": {
   "codemirror_mode": {
    "name": "ipython",
    "version": 3
   },
   "file_extension": ".py",
   "mimetype": "text/x-python",
   "name": "python",
   "nbconvert_exporter": "python",
   "pygments_lexer": "ipython3",
   "version": "3.9.7"
  }
 },
 "nbformat": 4,
 "nbformat_minor": 5
}
