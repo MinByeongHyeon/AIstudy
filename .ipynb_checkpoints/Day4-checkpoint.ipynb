{
 "cells": [
  {
   "cell_type": "code",
   "execution_count": 2,
   "id": "2198d2f0",
   "metadata": {},
   "outputs": [
    {
     "name": "stdout",
     "output_type": "stream",
     "text": [
      "5\n"
     ]
    }
   ],
   "source": [
    "# 문자열 길이 구하기     \n",
    "print(len(\"안녕하세요\"))"
   ]
  },
  {
   "cell_type": "code",
   "execution_count": 2,
   "id": "19e55e8d",
   "metadata": {},
   "outputs": [
    {
     "name": "stdout",
     "output_type": "stream",
     "text": [
      "True\n"
     ]
    }
   ],
   "source": [
    "# 조건문 \n",
    "\n",
    "# bool & if\n",
    "\n",
    "print(True)"
   ]
  },
  {
   "cell_type": "code",
   "execution_count": 3,
   "id": "e8e5de83",
   "metadata": {},
   "outputs": [
    {
     "name": "stdout",
     "output_type": "stream",
     "text": [
      "False\n"
     ]
    }
   ],
   "source": [
    "print(10 == 100)"
   ]
  },
  {
   "cell_type": "code",
   "execution_count": 4,
   "id": "969233bf",
   "metadata": {},
   "outputs": [
    {
     "name": "stdout",
     "output_type": "stream",
     "text": [
      "정수입력 : -0\n",
      "0 입니다\n"
     ]
    }
   ],
   "source": [
    "# if 조건문\n",
    "# 조건에 따라 특정 코드를 실행하거나 특정 코드를 실행하지 않게 만들고 싶을때\n",
    "# 코드의 실행 흐름을 변경 시킬수 있다\n",
    "\n",
    "num = int(input(\"정수입력 : \"))\n",
    "if num > 0:\n",
    "    print(\"양수입니다\")\n",
    "if num < 0:\n",
    "    print(\"음수입니다\")\n",
    "if num == 0:\n",
    "    print(\"0 입니다\")"
   ]
  },
  {
   "cell_type": "code",
   "execution_count": 7,
   "id": "9c97da7f",
   "metadata": {},
   "outputs": [
    {
     "name": "stdout",
     "output_type": "stream",
     "text": [
      "2022-01-28 14:32:11.211004\n",
      "2022\n",
      "1\n",
      "28\n",
      "14\n",
      "32\n",
      "11\n"
     ]
    }
   ],
   "source": [
    "# 날짜/시간과 관련된 기능을 가져온다\n",
    "import datetime\n",
    "\n",
    "# 현제의 날짜와 시간을 구하는 함수\n",
    "now = datetime.datetime.now()\n",
    "\n",
    "print(now)\n",
    "print(now.year)\n",
    "print(now.month)\n",
    "print(now.day)\n",
    "print(now.hour)\n",
    "print(now.minute)\n",
    "print(now.second)"
   ]
  },
  {
   "cell_type": "code",
   "execution_count": 8,
   "id": "ad6d9005",
   "metadata": {},
   "outputs": [
    {
     "name": "stdout",
     "output_type": "stream",
     "text": [
      "현제시각은 2시 35분으로 오후입니다\n"
     ]
    }
   ],
   "source": [
    "now = datetime.datetime.now()\n",
    "hour = now.hour\n",
    "ampm = \"오전\"\n",
    "if now.hour >= 12:\n",
    "    hour -= 12\n",
    "    ampm = \"오후\"\n",
    "print(\"현제시각은 {}시 {}분으로 {}입니다\".format(hour,now.minute,ampm))"
   ]
  },
  {
   "cell_type": "code",
   "execution_count": 11,
   "id": "5306e015",
   "metadata": {},
   "outputs": [
    {
     "name": "stdout",
     "output_type": "stream",
     "text": [
      "1월은 겨울입니다\n"
     ]
    }
   ],
   "source": [
    "now = datetime.datetime.now()\n",
    "season = \"\"\n",
    "if now.month <= 11 & now.month >= 9:\n",
    "    season = \"가을\"\n",
    "if now.month <= 8 & now.month >= 6:\n",
    "    season = \"여름\"\n",
    "if now.month <= 5 & now.month >= 3:\n",
    "    season = \"가을\"\n",
    "if 1 <= now.month <= 2 :\n",
    "    season = \"겨울\"\n",
    "print(\"{}월은 {}입니다\".format(now.month,season))"
   ]
  },
  {
   "cell_type": "code",
   "execution_count": 16,
   "id": "2487b82d",
   "metadata": {},
   "outputs": [
    {
     "name": "stdout",
     "output_type": "stream",
     "text": [
      "정수 입력 : 22\n",
      "홀수\n"
     ]
    }
   ],
   "source": [
    "num = int(input(\"정수 입력 : \"))\n",
    "li = [1,3,5,7,9]\n",
    "if type(num / 2) == float:\n",
    "    print(\"홀수\")\n",
    "else :\n",
    "    print(\"짝수\")"
   ]
  },
  {
   "cell_type": "code",
   "execution_count": 19,
   "id": "4b89f5ce",
   "metadata": {},
   "outputs": [],
   "source": [
    "# pass 조건문 같은곳에서 아무것도 안쓰고 넘어가고 싶을때\n",
    "\n",
    "if num < 0 :\n",
    "    pass\n"
   ]
  },
  {
   "cell_type": "code",
   "execution_count": 18,
   "id": "79101a11",
   "metadata": {},
   "outputs": [
    {
     "name": "stdout",
     "output_type": "stream",
     "text": [
      "1\n",
      "3\n",
      "5\n",
      "7\n",
      "9\n"
     ]
    }
   ],
   "source": [
    "# 리스트와 반복문\n",
    "li = [1,3,5,7,9]\n",
    "for i in li:\n",
    "    print(i)"
   ]
  },
  {
   "cell_type": "code",
   "execution_count": 22,
   "id": "58c1bd3a",
   "metadata": {},
   "outputs": [
    {
     "name": "stdout",
     "output_type": "stream",
     "text": [
      "1\n",
      "2\n",
      "3\n",
      "a\n",
      "b\n",
      "c\n"
     ]
    }
   ],
   "source": [
    "# 딕셔너리와 반복문\n",
    "dic = {\n",
    "    1:\"a\",\n",
    "    2:\"b\",\n",
    "    3:\"c\"\n",
    "}\n",
    "for i in dic:\n",
    "    print(i)\n",
    "for i in dic:\n",
    "    print(dic[i])"
   ]
  },
  {
   "cell_type": "code",
   "execution_count": 24,
   "id": "07cd39bc",
   "metadata": {},
   "outputs": [
    {
     "data": {
      "text/plain": [
       "[0, 1, 2, 3, 4]"
      ]
     },
     "execution_count": 24,
     "metadata": {},
     "output_type": "execute_result"
    }
   ],
   "source": [
    "list(range(0,5))"
   ]
  },
  {
   "cell_type": "code",
   "execution_count": 25,
   "id": "6ac89c94",
   "metadata": {},
   "outputs": [
    {
     "name": "stdout",
     "output_type": "stream",
     "text": [
      "0번째 반복\n",
      "1번째 반복\n",
      "2번째 반복\n",
      "0번째 반복\n",
      "1번째 반복\n",
      "2번째 반복\n"
     ]
    }
   ],
   "source": [
    "# for : 반복 횟수를 정확하게 알고 있을 때 주로 사용\n",
    "# whil : 반복 횟수를 정확히 알수 없을 때 주로 사용\n",
    "\n",
    "for num in range(0,3):\n",
    "    print(\"{}번째 반복\".format(num))\n",
    "    \n",
    "num = 0\n",
    "while num < 3:\n",
    "    print(\"{}번째 반복\".format(num))\n",
    "    num+=1"
   ]
  },
  {
   "cell_type": "code",
   "execution_count": 26,
   "id": "a743f23c",
   "metadata": {},
   "outputs": [
    {
     "name": "stdout",
     "output_type": "stream",
     "text": [
      "1번째 반복중입니다\n",
      "종료할까요(y)>>1\n",
      "2번째 반복중입니다\n",
      "종료할까요(y)>>2\n",
      "3번째 반복중입니다\n",
      "종료할까요(y)>>3\n",
      "4번째 반복중입니다\n",
      "종료할까요(y)>>1\n",
      "5번째 반복중입니다\n",
      "종료할까요(y)>>a\n",
      "6번째 반복중입니다\n",
      "종료할까요(y)>>a\n",
      "7번째 반복중입니다\n",
      "종료할까요(y)>>y\n"
     ]
    }
   ],
   "source": [
    "# break/ continue\n",
    "\n",
    "# break 반복문 탈출할때 사용\n",
    "i=1\n",
    "while True:\n",
    "    print(f'{i}번째 반복중입니다')\n",
    "    i += 1\n",
    "    check = input(\"종료할까요(y)>>\")\n",
    "    if check in ['Y','y']:\n",
    "        break"
   ]
  },
  {
   "cell_type": "code",
   "execution_count": null,
   "id": "2a4bd85a",
   "metadata": {},
   "outputs": [],
   "source": [
    "# continue 진행중인 반복을 중지하고 다음 회차 반복을 실행(중지 x)"
   ]
  },
  {
   "cell_type": "code",
   "execution_count": null,
   "id": "62bff910",
   "metadata": {},
   "outputs": [],
   "source": []
  }
 ],
 "metadata": {
  "kernelspec": {
   "display_name": "Python 3 (ipykernel)",
   "language": "python",
   "name": "python3"
  },
  "language_info": {
   "codemirror_mode": {
    "name": "ipython",
    "version": 3
   },
   "file_extension": ".py",
   "mimetype": "text/x-python",
   "name": "python",
   "nbconvert_exporter": "python",
   "pygments_lexer": "ipython3",
   "version": "3.9.7"
  }
 },
 "nbformat": 4,
 "nbformat_minor": 5
}
